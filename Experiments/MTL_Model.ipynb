{
  "cells": [
    {
      "cell_type": "markdown",
      "source": [
        "# **Dependencies**"
      ],
      "metadata": {
        "id": "nw0zI9aL8ovB"
      }
    },
    {
      "cell_type": "code",
      "execution_count": null,
      "metadata": {
        "id": "lHQM3YIX2O0u"
      },
      "outputs": [],
      "source": [
        "pip install transformers"
      ]
    },
    {
      "cell_type": "code",
      "execution_count": null,
      "metadata": {
        "id": "ioIYt5I51_pQ"
      },
      "outputs": [],
      "source": [
        "import tensorflow as tf\n",
        "\n",
        "from keras.layers import Dense, Dropout, Embedding, LSTM, Bidirectional\n",
        "from tensorflow.keras.layers import Embedding, LSTM, Dense, Bidirectional\n",
        "from tensorflow.keras.layers.experimental.preprocessing import TextVectorization\n",
        "from tensorflow.keras.models import Sequential\n",
        "from tensorflow.keras.optimizers import Adam\n",
        "from transformers import BertTokenizer, TFBertModel\n",
        "\n",
        "import numpy as np\n",
        "import os\n",
        "import pandas as pd\n",
        "from sklearn.model_selection import train_test_split"
      ]
    },
    {
      "cell_type": "code",
      "execution_count": null,
      "metadata": {
        "id": "8sXleoL31_sU"
      },
      "outputs": [],
      "source": [
        "os.environ[\"WANDB_API_KEY\"] = \"0\""
      ]
    },
    {
      "cell_type": "code",
      "source": [
        "gpu_info = !nvidia-smi\n",
        "gpu_info = '\\n'.join(gpu_info)\n",
        "if gpu_info.find('failed') >= 0:\n",
        "  print('Not connected to a GPU')\n",
        "else:\n",
        "  print(gpu_info)"
      ],
      "metadata": {
        "colab": {
          "base_uri": "https://localhost:8080/"
        },
        "id": "_aSc8Hjh4Z_w",
        "outputId": "089edb3f-c8dd-4a2b-dd26-e59108cc25dc"
      },
      "execution_count": null,
      "outputs": [
        {
          "output_type": "stream",
          "name": "stdout",
          "text": [
            "Sun Aug 21 05:51:24 2022       \n",
            "+-----------------------------------------------------------------------------+\n",
            "| NVIDIA-SMI 460.32.03    Driver Version: 460.32.03    CUDA Version: 11.2     |\n",
            "|-------------------------------+----------------------+----------------------+\n",
            "| GPU  Name        Persistence-M| Bus-Id        Disp.A | Volatile Uncorr. ECC |\n",
            "| Fan  Temp  Perf  Pwr:Usage/Cap|         Memory-Usage | GPU-Util  Compute M. |\n",
            "|                               |                      |               MIG M. |\n",
            "|===============================+======================+======================|\n",
            "|   0  Tesla P100-PCIE...  Off  | 00000000:00:04.0 Off |                    0 |\n",
            "| N/A   47C    P0    29W / 250W |      0MiB / 16280MiB |      0%      Default |\n",
            "|                               |                      |                  N/A |\n",
            "+-------------------------------+----------------------+----------------------+\n",
            "                                                                               \n",
            "+-----------------------------------------------------------------------------+\n",
            "| Processes:                                                                  |\n",
            "|  GPU   GI   CI        PID   Type   Process name                  GPU Memory |\n",
            "|        ID   ID                                                   Usage      |\n",
            "|=============================================================================|\n",
            "|  No running processes found                                                 |\n",
            "+-----------------------------------------------------------------------------+\n"
          ]
        }
      ]
    },
    {
      "cell_type": "code",
      "source": [
        "from psutil import virtual_memory\n",
        "ram_gb = virtual_memory().total / 1e9\n",
        "print('Your runtime has {:.1f} gigabytes of available RAM\\n'.format(ram_gb))\n",
        "\n",
        "if ram_gb < 20:\n",
        "  print('Not using a high-RAM runtime')\n",
        "else:\n",
        "  print('You are using a high-RAM runtime!')"
      ],
      "metadata": {
        "colab": {
          "base_uri": "https://localhost:8080/"
        },
        "id": "cTyIMQem4e5e",
        "outputId": "7987fa87-ef8a-411c-9ea2-ad4d27c05ff7"
      },
      "execution_count": null,
      "outputs": [
        {
          "output_type": "stream",
          "name": "stdout",
          "text": [
            "Your runtime has 27.3 gigabytes of available RAM\n",
            "\n",
            "You are using a high-RAM runtime!\n"
          ]
        }
      ]
    },
    {
      "cell_type": "code",
      "execution_count": null,
      "metadata": {
        "colab": {
          "base_uri": "https://localhost:8080/"
        },
        "id": "tltpM7s11_v-",
        "outputId": "eb2670f8-9f16-4029-ff8d-09cbbdf936d1"
      },
      "outputs": [
        {
          "output_type": "stream",
          "name": "stdout",
          "text": [
            "Number of replicas: 1\n"
          ]
        }
      ],
      "source": [
        "try:\n",
        "    tpu = tf.distribute.cluster_resolver.TPUClusterResolver()\n",
        "    tf.config.experimental_connect_to_cluster(tpu)\n",
        "    tf.tpu.experimental.initialize_tpu_system(tpu)\n",
        "    strategy = tf.distribute.TPUStrategy(tpu)\n",
        "except ValueError:\n",
        "    strategy = tf.distribute.get_strategy() # for CPU and single GPU\n",
        "    print('Number of replicas:', strategy.num_replicas_in_sync)"
      ]
    },
    {
      "cell_type": "code",
      "execution_count": null,
      "metadata": {
        "id": "xmB8scfb1_zc"
      },
      "outputs": [],
      "source": [
        "max_length = 200\n",
        "batch_size = 32\n",
        "dev_size = 0.25"
      ]
    },
    {
      "cell_type": "code",
      "source": [
        "from transformers import AutoTokenizer, AutoModelForMaskedLM\n",
        "tokenizer = AutoTokenizer.from_pretrained(\"roberta-base\")"
      ],
      "metadata": {
        "colab": {
          "base_uri": "https://localhost:8080/",
          "height": 17,
          "referenced_widgets": [
            "a9472d26d14c4e28b4dd2a2e316e4e36",
            "d91e54af11664e28b8ed5a9bb96f5077",
            "176179f765114794bb41690a10508504",
            "def1caef5057414b948aeb5f27d3d6b1",
            "44c23a14bc13486cbb82aae17c57417a",
            "ea001c289d8744629f3a843008c07d25",
            "083e62639efe49a1abad82fe7f74bf37",
            "b54d73443e6c4f0abc972bbacc52ceb3",
            "ae8cb0c4346d41448455d72a072d2c38",
            "aaeef7dcf3f24a9d854b9d1c8dcd0a54",
            "38908346aa794f728ef50a61645cec63",
            "9b4fdb8d578f4feba9123e9a8c201b17",
            "66d7411a76cb437ca4b7e3fb41a6019b",
            "66727f06e1ed4df8a431c66db2747dd5",
            "5ec562a886594fbb936e9862c0a06247",
            "b7ded6f7e11f4572ab994874d1a83bf5",
            "8b0a1de43ed944c2aafb33061cc32528",
            "9bc4b05a40ef423da2040d0a84416dc7",
            "8b9a8f3814e44e34b3338e700f7a36b1",
            "68eec6616c32433baafac2a56721e818",
            "45ad7ab195584df9981c7437b81df79d",
            "ad07b09cf57840ed84ffd5ba45030604",
            "37fa304b8d3640d19c7e33f8cdd4bd19",
            "2119ac636a4f4a27a0bfe8397e3cf1fa",
            "7dbfb63671904705a3c431b272c211a3",
            "52399d594fce46a3897b9ced4f9d697c",
            "f648b8e519944ad39056ff41d6edaa59",
            "da23838328e5494698e3c18b5381774c",
            "d95108b8f96c4acaae225629dc74f804",
            "e994dd85b98f4be988e2b085eb634ed9",
            "fee987bd1354489f86335cca32eb3cd8",
            "e0073f5983f1437a95162c0336ac7c9a",
            "124fa24f603748329375b6ab8ebec267",
            "6fcf14e1e1d34dd190c206a5de0a319f",
            "2dc3007087ef4f6190ce1dac16d2d5fa",
            "fc1824e6dee34296a518b400cae86586",
            "a9139706da214cc1a0b2050297257f73",
            "a1fbe101fb9044cb8d264f688ee9a474",
            "adaba5bd0ef641aba41cd77de09e2e51",
            "4876aed4d70546a0ae7d922e89573549",
            "7162386353eb4a219e80252b39a5f61a",
            "e3f473c1296c46659ace2aa936e0f31b",
            "bdbe2d8067fc4cb4a2b6352d1c739bdf",
            "58404cd0f71c407da906098f2e2865d0"
          ]
        },
        "id": "raWH_kGce7Kh",
        "outputId": "bb05d65e-49ba-461e-c618-25bacd23cb14"
      },
      "execution_count": null,
      "outputs": [
        {
          "output_type": "display_data",
          "data": {
            "text/plain": [
              "Downloading config.json:   0%|          | 0.00/481 [00:00<?, ?B/s]"
            ],
            "application/vnd.jupyter.widget-view+json": {
              "version_major": 2,
              "version_minor": 0,
              "model_id": "a9472d26d14c4e28b4dd2a2e316e4e36"
            },
            "application/json": {
              "n": 0,
              "total": 481,
              "elapsed": 0.023508071899414062,
              "ncols": null,
              "nrows": null,
              "prefix": "Downloading config.json",
              "ascii": false,
              "unit": "B",
              "unit_scale": true,
              "rate": null,
              "bar_format": null,
              "postfix": null,
              "unit_divisor": 1024,
              "initial": 0,
              "colour": null
            }
          },
          "metadata": {}
        },
        {
          "output_type": "display_data",
          "data": {
            "text/plain": [
              "Downloading vocab.json:   0%|          | 0.00/878k [00:00<?, ?B/s]"
            ],
            "application/vnd.jupyter.widget-view+json": {
              "version_major": 2,
              "version_minor": 0,
              "model_id": "9b4fdb8d578f4feba9123e9a8c201b17"
            },
            "application/json": {
              "n": 0,
              "total": 898823,
              "elapsed": 0.02514195442199707,
              "ncols": null,
              "nrows": null,
              "prefix": "Downloading vocab.json",
              "ascii": false,
              "unit": "B",
              "unit_scale": true,
              "rate": null,
              "bar_format": null,
              "postfix": null,
              "unit_divisor": 1024,
              "initial": 0,
              "colour": null
            }
          },
          "metadata": {}
        },
        {
          "output_type": "display_data",
          "data": {
            "text/plain": [
              "Downloading merges.txt:   0%|          | 0.00/446k [00:00<?, ?B/s]"
            ],
            "application/vnd.jupyter.widget-view+json": {
              "version_major": 2,
              "version_minor": 0,
              "model_id": "37fa304b8d3640d19c7e33f8cdd4bd19"
            },
            "application/json": {
              "n": 0,
              "total": 456318,
              "elapsed": 0.02147054672241211,
              "ncols": null,
              "nrows": null,
              "prefix": "Downloading merges.txt",
              "ascii": false,
              "unit": "B",
              "unit_scale": true,
              "rate": null,
              "bar_format": null,
              "postfix": null,
              "unit_divisor": 1024,
              "initial": 0,
              "colour": null
            }
          },
          "metadata": {}
        },
        {
          "output_type": "display_data",
          "data": {
            "text/plain": [
              "Downloading tokenizer.json:   0%|          | 0.00/1.29M [00:00<?, ?B/s]"
            ],
            "application/vnd.jupyter.widget-view+json": {
              "version_major": 2,
              "version_minor": 0,
              "model_id": "6fcf14e1e1d34dd190c206a5de0a319f"
            },
            "application/json": {
              "n": 0,
              "total": 1355863,
              "elapsed": 0.022510766983032227,
              "ncols": null,
              "nrows": null,
              "prefix": "Downloading tokenizer.json",
              "ascii": false,
              "unit": "B",
              "unit_scale": true,
              "rate": null,
              "bar_format": null,
              "postfix": null,
              "unit_divisor": 1024,
              "initial": 0,
              "colour": null
            }
          },
          "metadata": {}
        }
      ]
    },
    {
      "cell_type": "markdown",
      "source": [
        "# **MTL Experiments**"
      ],
      "metadata": {
        "id": "5MEiPiNE-1QC"
      }
    },
    {
      "cell_type": "markdown",
      "source": [
        "### **Dataset Preparation**"
      ],
      "metadata": {
        "id": "4YDEBhon-1QD"
      }
    },
    {
      "cell_type": "code",
      "execution_count": null,
      "metadata": {
        "id": "TK9Y6_HD-1QD"
      },
      "outputs": [],
      "source": [
        "from sklearn import preprocessing\n",
        "le = preprocessing.LabelEncoder()"
      ]
    },
    {
      "cell_type": "code",
      "source": [
        "df = pd.read_csv('Fincorp.csv')\n",
        "df = df.sample(frac = 1)"
      ],
      "metadata": {
        "id": "BgdRcw43-1QD"
      },
      "execution_count": null,
      "outputs": []
    },
    {
      "cell_type": "markdown",
      "source": [
        "**Label Encoding**"
      ],
      "metadata": {
        "id": "ME4IgUVqVTEM"
      }
    },
    {
      "cell_type": "code",
      "execution_count": null,
      "metadata": {
        "id": "deYUzf0d-1QE"
      },
      "outputs": [],
      "source": [
        "df['Emotion'] = le.fit_transform(df['Emotion'])\n",
        "df['Severity level'] = le.fit_transform(df['Severity level'])\n",
        "df['Sentiment'] = le.fit_transform(df['Sentiment'])"
      ]
    },
    {
      "cell_type": "code",
      "source": [
        "df"
      ],
      "metadata": {
        "colab": {
          "base_uri": "https://localhost:8080/",
          "height": 424
        },
        "outputId": "2c08de98-641f-42ee-d110-7b9422ee88ba",
        "id": "eYLMIDFq-1QE"
      },
      "execution_count": null,
      "outputs": [
        {
          "output_type": "execute_result",
          "data": {
            "text/plain": [
              "                     Domain  \\\n",
              "2995                 Refund   \n",
              "4845                Economy   \n",
              "5637  Stocks and investment   \n",
              "460                    Loan   \n",
              "1637                  Stock   \n",
              "...                     ...   \n",
              "4406                Economy   \n",
              "2194                    Tax   \n",
              "4759            Transaction   \n",
              "5525  Stocks and investment   \n",
              "1301       Customer Service   \n",
              "\n",
              "                                     Complaint/ Opinion  Complaint Label  \\\n",
              "2995  @HDFCLIFE why you guys are just finding excuse...                1   \n",
              "4845  FCA has now entered the phase of its two-and-a...                0   \n",
              "5637  The Best HYIP Investment - Carzy Payment - Pay...                0   \n",
              "460   Funds on Hold\\nAs on Date: 31 Dec 2021\\nAmount...                1   \n",
              "1637  @AirCanada  worst company, no service. If you ...                1   \n",
              "...                                                 ...              ...   \n",
              "4406  @CNBC @Grow_mag What a stupid advice… in one w...                0   \n",
              "2194  #ModiHaiToMumkinHai #NarendraModi @cbic_india ...                1   \n",
              "4759       @Venmo Me! $1000 request or best you can do.                0   \n",
              "5525  @Sreekrisblr @ipo_mantra Sir\\nPls quote some g...                0   \n",
              "1301  @ICICIBank @ICICIBank_Care why do you have hef...                1   \n",
              "\n",
              "      Severity level  Sentiment  Emotion  \n",
              "2995               2          0        5  \n",
              "4845               4          2        4  \n",
              "5637               4          2        4  \n",
              "460                3          0        5  \n",
              "1637               2          0        5  \n",
              "...              ...        ...      ...  \n",
              "4406               4          1        4  \n",
              "2194               1          0        5  \n",
              "4759               4          1        4  \n",
              "5525               4          2        4  \n",
              "1301               2          0        5  \n",
              "\n",
              "[6281 rows x 6 columns]"
            ],
            "text/html": [
              "\n",
              "  <div id=\"df-cc13b42d-b596-4211-bcc3-b01750a6d2a4\">\n",
              "    <div class=\"colab-df-container\">\n",
              "      <div>\n",
              "<style scoped>\n",
              "    .dataframe tbody tr th:only-of-type {\n",
              "        vertical-align: middle;\n",
              "    }\n",
              "\n",
              "    .dataframe tbody tr th {\n",
              "        vertical-align: top;\n",
              "    }\n",
              "\n",
              "    .dataframe thead th {\n",
              "        text-align: right;\n",
              "    }\n",
              "</style>\n",
              "<table border=\"1\" class=\"dataframe\">\n",
              "  <thead>\n",
              "    <tr style=\"text-align: right;\">\n",
              "      <th></th>\n",
              "      <th>Domain</th>\n",
              "      <th>Complaint/ Opinion</th>\n",
              "      <th>Complaint Label</th>\n",
              "      <th>Severity level</th>\n",
              "      <th>Sentiment</th>\n",
              "      <th>Emotion</th>\n",
              "    </tr>\n",
              "  </thead>\n",
              "  <tbody>\n",
              "    <tr>\n",
              "      <th>2995</th>\n",
              "      <td>Refund</td>\n",
              "      <td>@HDFCLIFE why you guys are just finding excuse...</td>\n",
              "      <td>1</td>\n",
              "      <td>2</td>\n",
              "      <td>0</td>\n",
              "      <td>5</td>\n",
              "    </tr>\n",
              "    <tr>\n",
              "      <th>4845</th>\n",
              "      <td>Economy</td>\n",
              "      <td>FCA has now entered the phase of its two-and-a...</td>\n",
              "      <td>0</td>\n",
              "      <td>4</td>\n",
              "      <td>2</td>\n",
              "      <td>4</td>\n",
              "    </tr>\n",
              "    <tr>\n",
              "      <th>5637</th>\n",
              "      <td>Stocks and investment</td>\n",
              "      <td>The Best HYIP Investment - Carzy Payment - Pay...</td>\n",
              "      <td>0</td>\n",
              "      <td>4</td>\n",
              "      <td>2</td>\n",
              "      <td>4</td>\n",
              "    </tr>\n",
              "    <tr>\n",
              "      <th>460</th>\n",
              "      <td>Loan</td>\n",
              "      <td>Funds on Hold\\nAs on Date: 31 Dec 2021\\nAmount...</td>\n",
              "      <td>1</td>\n",
              "      <td>3</td>\n",
              "      <td>0</td>\n",
              "      <td>5</td>\n",
              "    </tr>\n",
              "    <tr>\n",
              "      <th>1637</th>\n",
              "      <td>Stock</td>\n",
              "      <td>@AirCanada  worst company, no service. If you ...</td>\n",
              "      <td>1</td>\n",
              "      <td>2</td>\n",
              "      <td>0</td>\n",
              "      <td>5</td>\n",
              "    </tr>\n",
              "    <tr>\n",
              "      <th>...</th>\n",
              "      <td>...</td>\n",
              "      <td>...</td>\n",
              "      <td>...</td>\n",
              "      <td>...</td>\n",
              "      <td>...</td>\n",
              "      <td>...</td>\n",
              "    </tr>\n",
              "    <tr>\n",
              "      <th>4406</th>\n",
              "      <td>Economy</td>\n",
              "      <td>@CNBC @Grow_mag What a stupid advice… in one w...</td>\n",
              "      <td>0</td>\n",
              "      <td>4</td>\n",
              "      <td>1</td>\n",
              "      <td>4</td>\n",
              "    </tr>\n",
              "    <tr>\n",
              "      <th>2194</th>\n",
              "      <td>Tax</td>\n",
              "      <td>#ModiHaiToMumkinHai #NarendraModi @cbic_india ...</td>\n",
              "      <td>1</td>\n",
              "      <td>1</td>\n",
              "      <td>0</td>\n",
              "      <td>5</td>\n",
              "    </tr>\n",
              "    <tr>\n",
              "      <th>4759</th>\n",
              "      <td>Transaction</td>\n",
              "      <td>@Venmo Me! $1000 request or best you can do.</td>\n",
              "      <td>0</td>\n",
              "      <td>4</td>\n",
              "      <td>1</td>\n",
              "      <td>4</td>\n",
              "    </tr>\n",
              "    <tr>\n",
              "      <th>5525</th>\n",
              "      <td>Stocks and investment</td>\n",
              "      <td>@Sreekrisblr @ipo_mantra Sir\\nPls quote some g...</td>\n",
              "      <td>0</td>\n",
              "      <td>4</td>\n",
              "      <td>2</td>\n",
              "      <td>4</td>\n",
              "    </tr>\n",
              "    <tr>\n",
              "      <th>1301</th>\n",
              "      <td>Customer Service</td>\n",
              "      <td>@ICICIBank @ICICIBank_Care why do you have hef...</td>\n",
              "      <td>1</td>\n",
              "      <td>2</td>\n",
              "      <td>0</td>\n",
              "      <td>5</td>\n",
              "    </tr>\n",
              "  </tbody>\n",
              "</table>\n",
              "<p>6281 rows × 6 columns</p>\n",
              "</div>\n",
              "      <button class=\"colab-df-convert\" onclick=\"convertToInteractive('df-cc13b42d-b596-4211-bcc3-b01750a6d2a4')\"\n",
              "              title=\"Convert this dataframe to an interactive table.\"\n",
              "              style=\"display:none;\">\n",
              "        \n",
              "  <svg xmlns=\"http://www.w3.org/2000/svg\" height=\"24px\"viewBox=\"0 0 24 24\"\n",
              "       width=\"24px\">\n",
              "    <path d=\"M0 0h24v24H0V0z\" fill=\"none\"/>\n",
              "    <path d=\"M18.56 5.44l.94 2.06.94-2.06 2.06-.94-2.06-.94-.94-2.06-.94 2.06-2.06.94zm-11 1L8.5 8.5l.94-2.06 2.06-.94-2.06-.94L8.5 2.5l-.94 2.06-2.06.94zm10 10l.94 2.06.94-2.06 2.06-.94-2.06-.94-.94-2.06-.94 2.06-2.06.94z\"/><path d=\"M17.41 7.96l-1.37-1.37c-.4-.4-.92-.59-1.43-.59-.52 0-1.04.2-1.43.59L10.3 9.45l-7.72 7.72c-.78.78-.78 2.05 0 2.83L4 21.41c.39.39.9.59 1.41.59.51 0 1.02-.2 1.41-.59l7.78-7.78 2.81-2.81c.8-.78.8-2.07 0-2.86zM5.41 20L4 18.59l7.72-7.72 1.47 1.35L5.41 20z\"/>\n",
              "  </svg>\n",
              "      </button>\n",
              "      \n",
              "  <style>\n",
              "    .colab-df-container {\n",
              "      display:flex;\n",
              "      flex-wrap:wrap;\n",
              "      gap: 12px;\n",
              "    }\n",
              "\n",
              "    .colab-df-convert {\n",
              "      background-color: #E8F0FE;\n",
              "      border: none;\n",
              "      border-radius: 50%;\n",
              "      cursor: pointer;\n",
              "      display: none;\n",
              "      fill: #1967D2;\n",
              "      height: 32px;\n",
              "      padding: 0 0 0 0;\n",
              "      width: 32px;\n",
              "    }\n",
              "\n",
              "    .colab-df-convert:hover {\n",
              "      background-color: #E2EBFA;\n",
              "      box-shadow: 0px 1px 2px rgba(60, 64, 67, 0.3), 0px 1px 3px 1px rgba(60, 64, 67, 0.15);\n",
              "      fill: #174EA6;\n",
              "    }\n",
              "\n",
              "    [theme=dark] .colab-df-convert {\n",
              "      background-color: #3B4455;\n",
              "      fill: #D2E3FC;\n",
              "    }\n",
              "\n",
              "    [theme=dark] .colab-df-convert:hover {\n",
              "      background-color: #434B5C;\n",
              "      box-shadow: 0px 1px 3px 1px rgba(0, 0, 0, 0.15);\n",
              "      filter: drop-shadow(0px 1px 2px rgba(0, 0, 0, 0.3));\n",
              "      fill: #FFFFFF;\n",
              "    }\n",
              "  </style>\n",
              "\n",
              "      <script>\n",
              "        const buttonEl =\n",
              "          document.querySelector('#df-cc13b42d-b596-4211-bcc3-b01750a6d2a4 button.colab-df-convert');\n",
              "        buttonEl.style.display =\n",
              "          google.colab.kernel.accessAllowed ? 'block' : 'none';\n",
              "\n",
              "        async function convertToInteractive(key) {\n",
              "          const element = document.querySelector('#df-cc13b42d-b596-4211-bcc3-b01750a6d2a4');\n",
              "          const dataTable =\n",
              "            await google.colab.kernel.invokeFunction('convertToInteractive',\n",
              "                                                     [key], {});\n",
              "          if (!dataTable) return;\n",
              "\n",
              "          const docLinkHtml = 'Like what you see? Visit the ' +\n",
              "            '<a target=\"_blank\" href=https://colab.research.google.com/notebooks/data_table.ipynb>data table notebook</a>'\n",
              "            + ' to learn more about interactive tables.';\n",
              "          element.innerHTML = '';\n",
              "          dataTable['output_type'] = 'display_data';\n",
              "          await google.colab.output.renderOutput(dataTable, element);\n",
              "          const docLink = document.createElement('div');\n",
              "          docLink.innerHTML = docLinkHtml;\n",
              "          element.appendChild(docLink);\n",
              "        }\n",
              "      </script>\n",
              "    </div>\n",
              "  </div>\n",
              "  "
            ]
          },
          "metadata": {},
          "execution_count": 14
        }
      ]
    },
    {
      "cell_type": "code",
      "source": [
        ""
      ],
      "metadata": {
        "id": "wmrGLZym-1QF"
      },
      "execution_count": null,
      "outputs": []
    },
    {
      "cell_type": "markdown",
      "source": [
        "### **Tokenization (RoBERTa)**"
      ],
      "metadata": {
        "id": "FOrMhQt0gmlv"
      }
    },
    {
      "cell_type": "code",
      "execution_count": null,
      "metadata": {
        "id": "-WpePw25-1QF"
      },
      "outputs": [],
      "source": [
        "def bert_encode(data):\n",
        "    tokens = tokenizer.batch_encode_plus(data, max_length=max_length, padding='max_length', truncation=True)\n",
        "    \n",
        "    return tf.constant(tokens['input_ids'])"
      ]
    },
    {
      "cell_type": "code",
      "execution_count": null,
      "metadata": {
        "id": "YxMMSWpO-1QF"
      },
      "outputs": [],
      "source": [
        "train_encoded = bert_encode(df['Complaint/ Opinion'].values.tolist())"
      ]
    },
    {
      "cell_type": "code",
      "source": [
        ""
      ],
      "metadata": {
        "id": "DEj5LGO7VbTZ"
      },
      "execution_count": null,
      "outputs": []
    },
    {
      "cell_type": "markdown",
      "source": [
        "New pandas Dataframe is being created with tokenized data and encoded labels, for easier splitting with startified 5 fold cross validation"
      ],
      "metadata": {
        "id": "yiS4QZhzVbkw"
      }
    },
    {
      "cell_type": "code",
      "source": [
        "import scipy.sparse as sparse\n",
        "pdx = pd.DataFrame()"
      ],
      "metadata": {
        "id": "_RYSeyrf-1QG"
      },
      "execution_count": null,
      "outputs": []
    },
    {
      "cell_type": "code",
      "source": [
        "pdx['X'] = train_encoded.numpy().tolist()"
      ],
      "metadata": {
        "id": "kIrpzp83-1QG"
      },
      "execution_count": null,
      "outputs": []
    },
    {
      "cell_type": "code",
      "source": [
        "pdx['Y'] = df['Complaint Label'].values\n",
        "pdx['Z'] = df['Severity level'].values\n",
        "pdx['P'] = df['Sentiment'].values\n",
        "pdx['Q'] = df['Emotion'].values"
      ],
      "metadata": {
        "id": "GOBN0J_9-1QH"
      },
      "execution_count": null,
      "outputs": []
    },
    {
      "cell_type": "code",
      "source": [
        "pdx"
      ],
      "metadata": {
        "colab": {
          "base_uri": "https://localhost:8080/",
          "height": 424
        },
        "outputId": "28e16c7a-ab1c-442d-899d-c78c184f9a09",
        "id": "JlS-OXmp-1QH"
      },
      "execution_count": null,
      "outputs": [
        {
          "output_type": "execute_result",
          "data": {
            "text/plain": [
              "                                                      X  Y  Z  P  Q\n",
              "0     [0, 1039, 13022, 5268, 574, 40198, 596, 47, 16...  1  2  0  5\n",
              "1     [0, 5268, 250, 34, 122, 2867, 5, 4359, 9, 63, ...  0  4  2  4\n",
              "2     [0, 133, 2700, 38005, 3808, 2830, 111, 1653, 5...  0  4  2  4\n",
              "3     [0, 13632, 29, 15, 10357, 50118, 1620, 15, 105...  1  3  0  5\n",
              "4     [0, 1039, 17906, 14031, 1437, 2373, 138, 6, 11...  1  2  0  5\n",
              "...                                                 ... .. .. .. ..\n",
              "6276  [0, 1039, 347, 19542, 787, 534, 4610, 1215, 16...  0  4  1  4\n",
              "6277  [0, 10431, 30597, 118, 725, 1439, 3972, 448, 7...  1  1  0  5\n",
              "6278  [0, 1039, 39043, 4992, 1464, 328, 68, 20078, 2...  0  4  1  4\n",
              "6279  [0, 1039, 104, 18230, 4663, 3662, 338, 787, 15...  0  4  2  4\n",
              "6280  [0, 1039, 2371, 2371, 8863, 3153, 787, 2371, 2...  1  2  0  5\n",
              "\n",
              "[6281 rows x 5 columns]"
            ],
            "text/html": [
              "\n",
              "  <div id=\"df-d069ec27-3922-425e-9ec3-d59faa6cc91f\">\n",
              "    <div class=\"colab-df-container\">\n",
              "      <div>\n",
              "<style scoped>\n",
              "    .dataframe tbody tr th:only-of-type {\n",
              "        vertical-align: middle;\n",
              "    }\n",
              "\n",
              "    .dataframe tbody tr th {\n",
              "        vertical-align: top;\n",
              "    }\n",
              "\n",
              "    .dataframe thead th {\n",
              "        text-align: right;\n",
              "    }\n",
              "</style>\n",
              "<table border=\"1\" class=\"dataframe\">\n",
              "  <thead>\n",
              "    <tr style=\"text-align: right;\">\n",
              "      <th></th>\n",
              "      <th>X</th>\n",
              "      <th>Y</th>\n",
              "      <th>Z</th>\n",
              "      <th>P</th>\n",
              "      <th>Q</th>\n",
              "    </tr>\n",
              "  </thead>\n",
              "  <tbody>\n",
              "    <tr>\n",
              "      <th>0</th>\n",
              "      <td>[0, 1039, 13022, 5268, 574, 40198, 596, 47, 16...</td>\n",
              "      <td>1</td>\n",
              "      <td>2</td>\n",
              "      <td>0</td>\n",
              "      <td>5</td>\n",
              "    </tr>\n",
              "    <tr>\n",
              "      <th>1</th>\n",
              "      <td>[0, 5268, 250, 34, 122, 2867, 5, 4359, 9, 63, ...</td>\n",
              "      <td>0</td>\n",
              "      <td>4</td>\n",
              "      <td>2</td>\n",
              "      <td>4</td>\n",
              "    </tr>\n",
              "    <tr>\n",
              "      <th>2</th>\n",
              "      <td>[0, 133, 2700, 38005, 3808, 2830, 111, 1653, 5...</td>\n",
              "      <td>0</td>\n",
              "      <td>4</td>\n",
              "      <td>2</td>\n",
              "      <td>4</td>\n",
              "    </tr>\n",
              "    <tr>\n",
              "      <th>3</th>\n",
              "      <td>[0, 13632, 29, 15, 10357, 50118, 1620, 15, 105...</td>\n",
              "      <td>1</td>\n",
              "      <td>3</td>\n",
              "      <td>0</td>\n",
              "      <td>5</td>\n",
              "    </tr>\n",
              "    <tr>\n",
              "      <th>4</th>\n",
              "      <td>[0, 1039, 17906, 14031, 1437, 2373, 138, 6, 11...</td>\n",
              "      <td>1</td>\n",
              "      <td>2</td>\n",
              "      <td>0</td>\n",
              "      <td>5</td>\n",
              "    </tr>\n",
              "    <tr>\n",
              "      <th>...</th>\n",
              "      <td>...</td>\n",
              "      <td>...</td>\n",
              "      <td>...</td>\n",
              "      <td>...</td>\n",
              "      <td>...</td>\n",
              "    </tr>\n",
              "    <tr>\n",
              "      <th>6276</th>\n",
              "      <td>[0, 1039, 347, 19542, 787, 534, 4610, 1215, 16...</td>\n",
              "      <td>0</td>\n",
              "      <td>4</td>\n",
              "      <td>1</td>\n",
              "      <td>4</td>\n",
              "    </tr>\n",
              "    <tr>\n",
              "      <th>6277</th>\n",
              "      <td>[0, 10431, 30597, 118, 725, 1439, 3972, 448, 7...</td>\n",
              "      <td>1</td>\n",
              "      <td>1</td>\n",
              "      <td>0</td>\n",
              "      <td>5</td>\n",
              "    </tr>\n",
              "    <tr>\n",
              "      <th>6278</th>\n",
              "      <td>[0, 1039, 39043, 4992, 1464, 328, 68, 20078, 2...</td>\n",
              "      <td>0</td>\n",
              "      <td>4</td>\n",
              "      <td>1</td>\n",
              "      <td>4</td>\n",
              "    </tr>\n",
              "    <tr>\n",
              "      <th>6279</th>\n",
              "      <td>[0, 1039, 104, 18230, 4663, 3662, 338, 787, 15...</td>\n",
              "      <td>0</td>\n",
              "      <td>4</td>\n",
              "      <td>2</td>\n",
              "      <td>4</td>\n",
              "    </tr>\n",
              "    <tr>\n",
              "      <th>6280</th>\n",
              "      <td>[0, 1039, 2371, 2371, 8863, 3153, 787, 2371, 2...</td>\n",
              "      <td>1</td>\n",
              "      <td>2</td>\n",
              "      <td>0</td>\n",
              "      <td>5</td>\n",
              "    </tr>\n",
              "  </tbody>\n",
              "</table>\n",
              "<p>6281 rows × 5 columns</p>\n",
              "</div>\n",
              "      <button class=\"colab-df-convert\" onclick=\"convertToInteractive('df-d069ec27-3922-425e-9ec3-d59faa6cc91f')\"\n",
              "              title=\"Convert this dataframe to an interactive table.\"\n",
              "              style=\"display:none;\">\n",
              "        \n",
              "  <svg xmlns=\"http://www.w3.org/2000/svg\" height=\"24px\"viewBox=\"0 0 24 24\"\n",
              "       width=\"24px\">\n",
              "    <path d=\"M0 0h24v24H0V0z\" fill=\"none\"/>\n",
              "    <path d=\"M18.56 5.44l.94 2.06.94-2.06 2.06-.94-2.06-.94-.94-2.06-.94 2.06-2.06.94zm-11 1L8.5 8.5l.94-2.06 2.06-.94-2.06-.94L8.5 2.5l-.94 2.06-2.06.94zm10 10l.94 2.06.94-2.06 2.06-.94-2.06-.94-.94-2.06-.94 2.06-2.06.94z\"/><path d=\"M17.41 7.96l-1.37-1.37c-.4-.4-.92-.59-1.43-.59-.52 0-1.04.2-1.43.59L10.3 9.45l-7.72 7.72c-.78.78-.78 2.05 0 2.83L4 21.41c.39.39.9.59 1.41.59.51 0 1.02-.2 1.41-.59l7.78-7.78 2.81-2.81c.8-.78.8-2.07 0-2.86zM5.41 20L4 18.59l7.72-7.72 1.47 1.35L5.41 20z\"/>\n",
              "  </svg>\n",
              "      </button>\n",
              "      \n",
              "  <style>\n",
              "    .colab-df-container {\n",
              "      display:flex;\n",
              "      flex-wrap:wrap;\n",
              "      gap: 12px;\n",
              "    }\n",
              "\n",
              "    .colab-df-convert {\n",
              "      background-color: #E8F0FE;\n",
              "      border: none;\n",
              "      border-radius: 50%;\n",
              "      cursor: pointer;\n",
              "      display: none;\n",
              "      fill: #1967D2;\n",
              "      height: 32px;\n",
              "      padding: 0 0 0 0;\n",
              "      width: 32px;\n",
              "    }\n",
              "\n",
              "    .colab-df-convert:hover {\n",
              "      background-color: #E2EBFA;\n",
              "      box-shadow: 0px 1px 2px rgba(60, 64, 67, 0.3), 0px 1px 3px 1px rgba(60, 64, 67, 0.15);\n",
              "      fill: #174EA6;\n",
              "    }\n",
              "\n",
              "    [theme=dark] .colab-df-convert {\n",
              "      background-color: #3B4455;\n",
              "      fill: #D2E3FC;\n",
              "    }\n",
              "\n",
              "    [theme=dark] .colab-df-convert:hover {\n",
              "      background-color: #434B5C;\n",
              "      box-shadow: 0px 1px 3px 1px rgba(0, 0, 0, 0.15);\n",
              "      filter: drop-shadow(0px 1px 2px rgba(0, 0, 0, 0.3));\n",
              "      fill: #FFFFFF;\n",
              "    }\n",
              "  </style>\n",
              "\n",
              "      <script>\n",
              "        const buttonEl =\n",
              "          document.querySelector('#df-d069ec27-3922-425e-9ec3-d59faa6cc91f button.colab-df-convert');\n",
              "        buttonEl.style.display =\n",
              "          google.colab.kernel.accessAllowed ? 'block' : 'none';\n",
              "\n",
              "        async function convertToInteractive(key) {\n",
              "          const element = document.querySelector('#df-d069ec27-3922-425e-9ec3-d59faa6cc91f');\n",
              "          const dataTable =\n",
              "            await google.colab.kernel.invokeFunction('convertToInteractive',\n",
              "                                                     [key], {});\n",
              "          if (!dataTable) return;\n",
              "\n",
              "          const docLinkHtml = 'Like what you see? Visit the ' +\n",
              "            '<a target=\"_blank\" href=https://colab.research.google.com/notebooks/data_table.ipynb>data table notebook</a>'\n",
              "            + ' to learn more about interactive tables.';\n",
              "          element.innerHTML = '';\n",
              "          dataTable['output_type'] = 'display_data';\n",
              "          await google.colab.output.renderOutput(dataTable, element);\n",
              "          const docLink = document.createElement('div');\n",
              "          docLink.innerHTML = docLinkHtml;\n",
              "          element.appendChild(docLink);\n",
              "        }\n",
              "      </script>\n",
              "    </div>\n",
              "  </div>\n",
              "  "
            ]
          },
          "metadata": {},
          "execution_count": 21
        }
      ]
    },
    {
      "cell_type": "markdown",
      "source": [
        "### **Batched Dataset Creation**"
      ],
      "metadata": {
        "id": "5ytShMKngtbH"
      }
    },
    {
      "cell_type": "code",
      "source": [
        "# For Single task experiments\n",
        "def gen_data1(x,y,batch_size=32):\n",
        "\n",
        "  num_examples = len(y)\n",
        "\n",
        "  while True:\n",
        "    x_batch = np.zeros((batch_size, 200))\n",
        "    y_batch = np.zeros((batch_size, ))\n",
        "\n",
        "    for i in range(0, batch_size):\n",
        "\n",
        "      index = np.random.randint(0, num_examples)\n",
        "      text , emo = x[index], y[index]\n",
        "\n",
        "      x_batch[i] = text\n",
        "      y_batch[i] = emo\n",
        "\n",
        "    yield x_batch, y_batch\n",
        "\n",
        "# For Tri-task Experiments\n",
        "def gen_data3(x,y,z, p, batch_size=32):\n",
        "\n",
        "  num_examples = len(y)\n",
        "\n",
        "  while True:\n",
        "    x_batch = np.zeros((batch_size, 200))\n",
        "    y_batch = np.zeros((batch_size, ))\n",
        "    z_batch = np.zeros((batch_size, ))\n",
        "    p_batch = np.zeros((batch_size, ))    \n",
        "\n",
        "    for i in range(0, batch_size):\n",
        "\n",
        "      index = np.random.randint(0, num_examples)\n",
        "      text, comp, sev, sent, emo = x[index], y[index], z[index], p[index]\n",
        "\n",
        "      x_batch[i] = text\n",
        "      y_batch[i] = comp\n",
        "      z_batch[i] = sev\n",
        "      p_batch[i] = sent\n",
        "\n",
        "    yield x_batch, [y_batch, z_batch, p_batch]\n",
        "\n",
        "# For MTL experiments, ie all 4 tasks together\n",
        "def gen_data4(x,y,z, p, q, batch_size=32):\n",
        "\n",
        "  num_examples = len(y)\n",
        "\n",
        "  while True:\n",
        "    x_batch = np.zeros((batch_size, 200))\n",
        "    y_batch = np.zeros((batch_size, ))\n",
        "    z_batch = np.zeros((batch_size, ))\n",
        "    p_batch = np.zeros((batch_size, ))\n",
        "    q_batch = np.zeros((batch_size, ))\n",
        "\n",
        "    for i in range(0, batch_size):\n",
        "\n",
        "      index = np.random.randint(0, num_examples)\n",
        "      text, comp, sev, sent, emo = x[index], y[index], z[index], p[index], q[index]\n",
        "\n",
        "      x_batch[i] = text\n",
        "      y_batch[i] = comp\n",
        "      z_batch[i] = sev\n",
        "      p_batch[i] = sent\n",
        "      q_batch[i] = emo\n",
        "\n",
        "    yield x_batch, [y_batch, z_batch, p_batch, q_batch]"
      ],
      "metadata": {
        "id": "xVcX4nTj-1QI"
      },
      "execution_count": null,
      "outputs": []
    },
    {
      "cell_type": "code",
      "source": [
        ""
      ],
      "metadata": {
        "id": "czZiF5uz-1QK"
      },
      "execution_count": null,
      "outputs": []
    },
    {
      "cell_type": "markdown",
      "source": [
        "### **Final Model compilation**"
      ],
      "metadata": {
        "id": "QLfsp3-d-1QK"
      }
    },
    {
      "cell_type": "code",
      "execution_count": null,
      "metadata": {
        "id": "UwNmwjBo-1QK"
      },
      "outputs": [],
      "source": [
        "from transformers import TFAutoModel\n",
        "bert_encoder = TFAutoModel.from_pretrained(\"roberta-base\")"
      ]
    },
    {
      "cell_type": "code",
      "execution_count": null,
      "metadata": {
        "id": "IxRis0E--1QL"
      },
      "outputs": [],
      "source": [
        "def bert_tweets_model():\n",
        "\n",
        "    # Shared Layers - 1. RoBERTa embeddings 2. BiGRU layer \n",
        "    input_word_ids = tf.keras.Input(shape=(max_length,), dtype=tf.int32, name=\"input_ids\")\n",
        "    last_hidden_states = bert_encoder(input_word_ids)[0]    \n",
        "    x = Bidirectional(tf.keras.layers.GRU(100, dropout=0.3, recurrent_dropout=0.3))(last_hidden_states)\n",
        "\n",
        "    # Sentiment detection task (Auxiliary Task)\n",
        "    output3 = tf.keras.layers.Dense(3, activation='softmax', name='sent')(x)\n",
        "\n",
        "    # Emotion Detection task (Auxiliary Task)\n",
        "    output4 = tf.keras.layers.Dense(7, activation='softmax', name='emo')(x)\n",
        "\n",
        "    # Severity Detection Task with information from Auxiliary tasks fed\n",
        "    add = tf.keras.layers.Concatenate(axis=1)([x, output3, output4])\n",
        "    output2 = tf.keras.layers.Dense(5, activation='softmax', name='sev')(add)\n",
        "\n",
        "    # Complaint Detection Task with information from Auxiliary tasks fed\n",
        "    add = tf.keras.layers.Concatenate(axis=1)([x, output3, output4])\n",
        "    output1 = tf.keras.layers.Dense(1, activation='sigmoid', name='comp')(add)\n",
        "\n",
        "    model = tf.keras.Model(inputs=input_word_ids, outputs=[output1,output2,output3,output4])\n",
        "    \n",
        "    return model"
      ]
    },
    {
      "cell_type": "code",
      "source": [
        "model_diag = bert_tweets_model()"
      ],
      "metadata": {
        "id": "0vdvgW_dg3i1",
        "colab": {
          "base_uri": "https://localhost:8080/"
        },
        "outputId": "9544d647-a92a-4370-a368-a43adc0ff663"
      },
      "execution_count": null,
      "outputs": [
        {
          "output_type": "stream",
          "name": "stderr",
          "text": [
            "WARNING:tensorflow:Layer gru will not use cuDNN kernels since it doesn't meet the criteria. It will use a generic GPU kernel as fallback when running on GPU.\n",
            "WARNING:tensorflow:Layer gru will not use cuDNN kernels since it doesn't meet the criteria. It will use a generic GPU kernel as fallback when running on GPU.\n",
            "WARNING:tensorflow:Layer gru will not use cuDNN kernels since it doesn't meet the criteria. It will use a generic GPU kernel as fallback when running on GPU.\n"
          ]
        }
      ]
    },
    {
      "cell_type": "code",
      "source": [
        "tf.keras.utils.plot_model(model_diag)"
      ],
      "metadata": {
        "colab": {
          "base_uri": "https://localhost:8080/",
          "height": 564
        },
        "id": "-5FbsOtnsu3Z",
        "outputId": "462459bd-ae00-435e-d621-06f03bdadfc2"
      },
      "execution_count": null,
      "outputs": [
        {
          "output_type": "execute_result",
          "data": {
            "image/png": "[encoded data removed]",
            "text/plain": [
              "<IPython.core.display.Image object>"
            ]
          },
          "metadata": {},
          "execution_count": 26
        }
      ]
    },
    {
      "cell_type": "markdown",
      "source": [
        "### **5 fold CV with 3 epochs**"
      ],
      "metadata": {
        "id": "I-eAWjt1QPaD"
      }
    },
    {
      "cell_type": "code",
      "source": [
        "from sklearn.metrics import accuracy_score\n",
        "import pandas as pd\n",
        "from sklearn import StratifiedKFold\n",
        "\n",
        "\n",
        "n=5\n",
        "kfold = StratifiedKFold(n_splits=5, shuffle=True, random_state=1)\n",
        "\n",
        "results = []\n",
        "\n",
        "for train_index, val_index in kfold.split(pdx, pdx['Y'].values):\n",
        "\n",
        "    X_train_cv = pdx.iloc[train_index]\n",
        "    y_train_cv = pdx.iloc[train_index]\n",
        "    X_valid_cv = pdx.iloc[val_index]\n",
        "    y_valid_cv= pdx.iloc[val_index]\n",
        "\n",
        "    # train_encoded = X_train_cv['X']\n",
        "\n",
        "    # gen_data(x,y,z, p,q, batch_size=32)\n",
        "\n",
        "    train_gen = gen_data4(X_train_cv['X'].values, X_train_cv['Y'].values, X_train_cv['Z'].values, X_train_cv['P'].values, X_train_cv['Q'].values)\n",
        "    test_gen = gen_data4(X_valid_cv['X'].values, X_valid_cv['Y'].values, X_valid_cv['Z'].values, X_valid_cv['P'].values, X_valid_cv['Q'].values)\n",
        "\n",
        "    model = bert_tweets_model()\n",
        "    adam_optimizer = tf.keras.optimizers.Adam(learning_rate=1e-5)\n",
        "\n",
        "    losses = {\n",
        "    \"sev\": \"sparse_categorical_crossentropy\",\n",
        "    \"comp\": \"binary_crossentropy\",\n",
        "    \"sent\": \"sparse_categorical_crossentropy\",\n",
        "    \"emo\": \"sparse_categorical_crossentropy\"\n",
        "    }\n",
        "\n",
        "    lossWeights = {\"sev\": 1.0, \"comp\": 1.0, \"sent\" : 0.5, \"emo\":0.5}\n",
        "\n",
        "    model.compile(loss=losses,loss_weights=lossWeights, optimizer=adam_optimizer,metrics=['accuracy'])\n",
        "\n",
        "    # train the model\n",
        "    _ = model.fit(\n",
        "        train_gen,\n",
        "        validation_data = test_gen,\n",
        "        steps_per_epoch = 100, \n",
        "        validation_steps = 50,\n",
        "        epochs = 3,\n",
        "        verbose = True\n",
        "        )\n",
        "\n",
        "    # validate the model\n",
        "    acc_cv = model.evaluate(train_gen,\n",
        "                                       batch_size = 32,\n",
        "                                       steps = 50,\n",
        "                                       verbose = True)\n",
        "    # print(result['acc'])\n",
        "    # append model score\n",
        "    results.append(acc_cv)\n"
      ],
      "metadata": {
        "colab": {
          "base_uri": "https://localhost:8080/"
        },
        "outputId": "579700f3-2d57-417e-ef80-e2aef1b76f4a",
        "id": "gLyg7mFRsvIN"
      },
      "execution_count": null,
      "outputs": [
        {
          "metadata": {
            "tags": null
          },
          "name": "stderr",
          "output_type": "stream",
          "text": [
            "WARNING:tensorflow:Layer gru will not use cuDNN kernels since it doesn't meet the criteria. It will use a generic GPU kernel as fallback when running on GPU.\n",
            "WARNING:tensorflow:Layer gru will not use cuDNN kernels since it doesn't meet the criteria. It will use a generic GPU kernel as fallback when running on GPU.\n",
            "WARNING:tensorflow:Layer gru will not use cuDNN kernels since it doesn't meet the criteria. It will use a generic GPU kernel as fallback when running on GPU.\n"
          ]
        },
        {
          "metadata": {
            "tags": null
          },
          "name": "stdout",
          "output_type": "stream",
          "text": [
            "Epoch 1/3\n"
          ]
        },
        {
          "metadata": {
            "tags": null
          },
          "name": "stderr",
          "output_type": "stream",
          "text": [
            "WARNING:tensorflow:Gradients do not exist for variables ['tf_roberta_model/roberta/pooler/dense/kernel:0', 'tf_roberta_model/roberta/pooler/dense/bias:0'] when minimizing the loss. If you're using `model.compile()`, did you forget to provide a `loss`argument?\n",
            "WARNING:tensorflow:Gradients do not exist for variables ['tf_roberta_model/roberta/pooler/dense/kernel:0', 'tf_roberta_model/roberta/pooler/dense/bias:0'] when minimizing the loss. If you're using `model.compile()`, did you forget to provide a `loss`argument?\n"
          ]
        },
        {
          "metadata": {
            "tags": null
          },
          "name": "stdout",
          "output_type": "stream",
          "text": [
            "100/100 [==============================] - 219s 2s/step - loss: 3.0179 - comp_loss: 0.5916 - sev_loss: 1.1452 - sent_loss: 0.9479 - emo_loss: 1.6145 - comp_accuracy: 0.6544 - sev_accuracy: 0.5472 - sent_accuracy: 0.5672 - emo_accuracy: 0.4184 - val_loss: 2.4189 - val_comp_loss: 0.3234 - val_sev_loss: 0.9406 - val_sent_loss: 0.8152 - val_emo_loss: 1.4945 - val_comp_accuracy: 0.8788 - val_sev_accuracy: 0.6137 - val_sent_accuracy: 0.6331 - val_emo_accuracy: 0.4575\n",
            "Epoch 2/3\n",
            "100/100 [==============================] - 196s 2s/step - loss: 2.1406 - comp_loss: 0.2579 - sev_loss: 0.7982 - sent_loss: 0.7608 - emo_loss: 1.4083 - comp_accuracy: 0.8972 - sev_accuracy: 0.6931 - sent_accuracy: 0.6391 - emo_accuracy: 0.4950 - val_loss: 1.9289 - val_comp_loss: 0.1915 - val_sev_loss: 0.7025 - val_sent_loss: 0.7561 - val_emo_loss: 1.3136 - val_comp_accuracy: 0.9369 - val_sev_accuracy: 0.7269 - val_sent_accuracy: 0.6562 - val_emo_accuracy: 0.5169\n",
            "Epoch 3/3\n",
            "100/100 [==============================] - 196s 2s/step - loss: 1.7716 - comp_loss: 0.1482 - sev_loss: 0.6312 - sent_loss: 0.6866 - emo_loss: 1.2978 - comp_accuracy: 0.9488 - sev_accuracy: 0.7484 - sent_accuracy: 0.6837 - emo_accuracy: 0.5375 - val_loss: 1.8385 - val_comp_loss: 0.1702 - val_sev_loss: 0.7111 - val_sent_loss: 0.6409 - val_emo_loss: 1.2737 - val_comp_accuracy: 0.9425 - val_sev_accuracy: 0.7181 - val_sent_accuracy: 0.7069 - val_emo_accuracy: 0.5506\n",
            "50/50 [==============================] - 18s 355ms/step - loss: 1.7802 - comp_loss: 0.1291 - sev_loss: 0.6599 - sent_loss: 0.6799 - emo_loss: 1.3026 - comp_accuracy: 0.9525 - sev_accuracy: 0.7294 - sent_accuracy: 0.6963 - emo_accuracy: 0.5362\n"
          ]
        },
        {
          "metadata": {
            "tags": null
          },
          "name": "stderr",
          "output_type": "stream",
          "text": [
            "WARNING:tensorflow:Layer gru_1 will not use cuDNN kernels since it doesn't meet the criteria. It will use a generic GPU kernel as fallback when running on GPU.\n",
            "WARNING:tensorflow:Layer gru_1 will not use cuDNN kernels since it doesn't meet the criteria. It will use a generic GPU kernel as fallback when running on GPU.\n",
            "WARNING:tensorflow:Layer gru_1 will not use cuDNN kernels since it doesn't meet the criteria. It will use a generic GPU kernel as fallback when running on GPU.\n"
          ]
        },
        {
          "metadata": {
            "tags": null
          },
          "name": "stdout",
          "output_type": "stream",
          "text": [
            "Epoch 1/3\n"
          ]
        },
        {
          "metadata": {
            "tags": null
          },
          "name": "stderr",
          "output_type": "stream",
          "text": [
            "WARNING:tensorflow:Gradients do not exist for variables ['tf_roberta_model/roberta/pooler/dense/kernel:0', 'tf_roberta_model/roberta/pooler/dense/bias:0'] when minimizing the loss. If you're using `model.compile()`, did you forget to provide a `loss`argument?\n",
            "WARNING:tensorflow:Gradients do not exist for variables ['tf_roberta_model/roberta/pooler/dense/kernel:0', 'tf_roberta_model/roberta/pooler/dense/bias:0'] when minimizing the loss. If you're using `model.compile()`, did you forget to provide a `loss`argument?\n"
          ]
        },
        {
          "metadata": {
            "tags": null
          },
          "name": "stdout",
          "output_type": "stream",
          "text": [
            "100/100 [==============================] - 218s 2s/step - loss: 1.8906 - comp_loss: 0.1678 - sev_loss: 0.6641 - sent_loss: 0.7304 - emo_loss: 1.3869 - comp_accuracy: 0.9444 - sev_accuracy: 0.7506 - sent_accuracy: 0.6575 - emo_accuracy: 0.5050 - val_loss: 1.5651 - val_comp_loss: 0.0868 - val_sev_loss: 0.5868 - val_sent_loss: 0.6022 - val_emo_loss: 1.1809 - val_comp_accuracy: 0.9706 - val_sev_accuracy: 0.7862 - val_sent_accuracy: 0.7256 - val_emo_accuracy: 0.5781\n",
            "Epoch 2/3\n",
            "100/100 [==============================] - 197s 2s/step - loss: 1.6658 - comp_loss: 0.1213 - sev_loss: 0.5924 - sent_loss: 0.6345 - emo_loss: 1.2699 - comp_accuracy: 0.9619 - sev_accuracy: 0.7828 - sent_accuracy: 0.6969 - emo_accuracy: 0.5453 - val_loss: 1.4995 - val_comp_loss: 0.0795 - val_sev_loss: 0.5080 - val_sent_loss: 0.6075 - val_emo_loss: 1.2165 - val_comp_accuracy: 0.9737 - val_sev_accuracy: 0.7981 - val_sent_accuracy: 0.7206 - val_emo_accuracy: 0.5519\n",
            "Epoch 3/3\n",
            "100/100 [==============================] - 196s 2s/step - loss: 1.5701 - comp_loss: 0.1009 - sev_loss: 0.5624 - sent_loss: 0.6150 - emo_loss: 1.1988 - comp_accuracy: 0.9678 - sev_accuracy: 0.7900 - sent_accuracy: 0.7206 - emo_accuracy: 0.5550 - val_loss: 1.5145 - val_comp_loss: 0.0762 - val_sev_loss: 0.4882 - val_sent_loss: 0.6762 - val_emo_loss: 1.2241 - val_comp_accuracy: 0.9731 - val_sev_accuracy: 0.8231 - val_sent_accuracy: 0.6700 - val_emo_accuracy: 0.5175\n",
            "50/50 [==============================] - 18s 354ms/step - loss: 1.3935 - comp_loss: 0.0536 - sev_loss: 0.4631 - sent_loss: 0.5990 - emo_loss: 1.1545 - comp_accuracy: 0.9875 - sev_accuracy: 0.8275 - sent_accuracy: 0.7350 - emo_accuracy: 0.5781\n"
          ]
        },
        {
          "metadata": {
            "tags": null
          },
          "name": "stderr",
          "output_type": "stream",
          "text": [
            "WARNING:tensorflow:Layer gru_2 will not use cuDNN kernels since it doesn't meet the criteria. It will use a generic GPU kernel as fallback when running on GPU.\n",
            "WARNING:tensorflow:Layer gru_2 will not use cuDNN kernels since it doesn't meet the criteria. It will use a generic GPU kernel as fallback when running on GPU.\n",
            "WARNING:tensorflow:Layer gru_2 will not use cuDNN kernels since it doesn't meet the criteria. It will use a generic GPU kernel as fallback when running on GPU.\n"
          ]
        },
        {
          "metadata": {
            "tags": null
          },
          "name": "stdout",
          "output_type": "stream",
          "text": [
            "Epoch 1/3\n"
          ]
        },
        {
          "metadata": {
            "tags": null
          },
          "name": "stderr",
          "output_type": "stream",
          "text": [
            "WARNING:tensorflow:Gradients do not exist for variables ['tf_roberta_model/roberta/pooler/dense/kernel:0', 'tf_roberta_model/roberta/pooler/dense/bias:0'] when minimizing the loss. If you're using `model.compile()`, did you forget to provide a `loss`argument?\n",
            "WARNING:tensorflow:Gradients do not exist for variables ['tf_roberta_model/roberta/pooler/dense/kernel:0', 'tf_roberta_model/roberta/pooler/dense/bias:0'] when minimizing the loss. If you're using `model.compile()`, did you forget to provide a `loss`argument?\n"
          ]
        },
        {
          "metadata": {
            "tags": null
          },
          "name": "stdout",
          "output_type": "stream",
          "text": [
            "100/100 [==============================] - 219s 2s/step - loss: 1.7484 - comp_loss: 0.1349 - sev_loss: 0.6100 - sent_loss: 0.6883 - emo_loss: 1.3187 - comp_accuracy: 0.9647 - sev_accuracy: 0.7750 - sent_accuracy: 0.6753 - emo_accuracy: 0.5166 - val_loss: 1.4334 - val_comp_loss: 0.0640 - val_sev_loss: 0.4744 - val_sent_loss: 0.6210 - val_emo_loss: 1.1691 - val_comp_accuracy: 0.9831 - val_sev_accuracy: 0.8325 - val_sent_accuracy: 0.7312 - val_emo_accuracy: 0.5794\n",
            "Epoch 2/3\n",
            "100/100 [==============================] - 197s 2s/step - loss: 1.4913 - comp_loss: 0.0936 - sev_loss: 0.5022 - sent_loss: 0.6143 - emo_loss: 1.1767 - comp_accuracy: 0.9737 - sev_accuracy: 0.8228 - sent_accuracy: 0.7078 - emo_accuracy: 0.5603 - val_loss: 1.3344 - val_comp_loss: 0.0426 - val_sev_loss: 0.4474 - val_sent_loss: 0.5673 - val_emo_loss: 1.1214 - val_comp_accuracy: 0.9887 - val_sev_accuracy: 0.8344 - val_sent_accuracy: 0.7450 - val_emo_accuracy: 0.5813\n",
            "Epoch 3/3\n",
            "100/100 [==============================] - 196s 2s/step - loss: 1.3954 - comp_loss: 0.0703 - sev_loss: 0.4593 - sent_loss: 0.5886 - emo_loss: 1.1431 - comp_accuracy: 0.9812 - sev_accuracy: 0.8369 - sent_accuracy: 0.7322 - emo_accuracy: 0.5734 - val_loss: 1.3500 - val_comp_loss: 0.0497 - val_sev_loss: 0.4743 - val_sent_loss: 0.5460 - val_emo_loss: 1.1061 - val_comp_accuracy: 0.9900 - val_sev_accuracy: 0.8256 - val_sent_accuracy: 0.7650 - val_emo_accuracy: 0.5844\n",
            "50/50 [==============================] - 18s 354ms/step - loss: 1.2749 - comp_loss: 0.0589 - sev_loss: 0.4114 - sent_loss: 0.5482 - emo_loss: 1.0611 - comp_accuracy: 0.9844 - sev_accuracy: 0.8619 - sent_accuracy: 0.7556 - emo_accuracy: 0.6119\n"
          ]
        },
        {
          "metadata": {
            "tags": null
          },
          "name": "stderr",
          "output_type": "stream",
          "text": [
            "WARNING:tensorflow:Layer gru_3 will not use cuDNN kernels since it doesn't meet the criteria. It will use a generic GPU kernel as fallback when running on GPU.\n",
            "WARNING:tensorflow:Layer gru_3 will not use cuDNN kernels since it doesn't meet the criteria. It will use a generic GPU kernel as fallback when running on GPU.\n",
            "WARNING:tensorflow:Layer gru_3 will not use cuDNN kernels since it doesn't meet the criteria. It will use a generic GPU kernel as fallback when running on GPU.\n"
          ]
        },
        {
          "metadata": {
            "tags": null
          },
          "name": "stdout",
          "output_type": "stream",
          "text": [
            "Epoch 1/3\n"
          ]
        },
        {
          "metadata": {
            "tags": null
          },
          "name": "stderr",
          "output_type": "stream",
          "text": [
            "WARNING:tensorflow:Gradients do not exist for variables ['tf_roberta_model/roberta/pooler/dense/kernel:0', 'tf_roberta_model/roberta/pooler/dense/bias:0'] when minimizing the loss. If you're using `model.compile()`, did you forget to provide a `loss`argument?\n",
            "WARNING:tensorflow:Gradients do not exist for variables ['tf_roberta_model/roberta/pooler/dense/kernel:0', 'tf_roberta_model/roberta/pooler/dense/bias:0'] when minimizing the loss. If you're using `model.compile()`, did you forget to provide a `loss`argument?\n"
          ]
        },
        {
          "metadata": {
            "tags": null
          },
          "name": "stdout",
          "output_type": "stream",
          "text": [
            "100/100 [==============================] - 218s 2s/step - loss: 1.5635 - comp_loss: 0.0900 - sev_loss: 0.5405 - sent_loss: 0.6161 - emo_loss: 1.2498 - comp_accuracy: 0.9803 - sev_accuracy: 0.8006 - sent_accuracy: 0.7194 - emo_accuracy: 0.5400 - val_loss: 1.4022 - val_comp_loss: 0.0582 - val_sev_loss: 0.4444 - val_sent_loss: 0.6309 - val_emo_loss: 1.1683 - val_comp_accuracy: 0.9837 - val_sev_accuracy: 0.8481 - val_sent_accuracy: 0.7300 - val_emo_accuracy: 0.5537\n",
            "Epoch 2/3\n",
            "100/100 [==============================] - 197s 2s/step - loss: 1.3952 - comp_loss: 0.0716 - sev_loss: 0.4556 - sent_loss: 0.5876 - emo_loss: 1.1484 - comp_accuracy: 0.9822 - sev_accuracy: 0.8438 - sent_accuracy: 0.7250 - emo_accuracy: 0.5722 - val_loss: 1.3883 - val_comp_loss: 0.0603 - val_sev_loss: 0.4380 - val_sent_loss: 0.6084 - val_emo_loss: 1.1716 - val_comp_accuracy: 0.9850 - val_sev_accuracy: 0.8444 - val_sent_accuracy: 0.7269 - val_emo_accuracy: 0.5656\n",
            "Epoch 3/3\n",
            "100/100 [==============================] - 196s 2s/step - loss: 1.3023 - comp_loss: 0.0612 - sev_loss: 0.4141 - sent_loss: 0.5388 - emo_loss: 1.1151 - comp_accuracy: 0.9844 - sev_accuracy: 0.8500 - sent_accuracy: 0.7672 - emo_accuracy: 0.5850 - val_loss: 1.4107 - val_comp_loss: 0.0652 - val_sev_loss: 0.4484 - val_sent_loss: 0.5977 - val_emo_loss: 1.1965 - val_comp_accuracy: 0.9831 - val_sev_accuracy: 0.8369 - val_sent_accuracy: 0.7325 - val_emo_accuracy: 0.5594\n",
            "50/50 [==============================] - 18s 354ms/step - loss: 1.1706 - comp_loss: 0.0253 - sev_loss: 0.3541 - sent_loss: 0.5191 - emo_loss: 1.0634 - comp_accuracy: 0.9931 - sev_accuracy: 0.8656 - sent_accuracy: 0.7825 - emo_accuracy: 0.6081\n"
          ]
        },
        {
          "metadata": {
            "tags": null
          },
          "name": "stderr",
          "output_type": "stream",
          "text": [
            "WARNING:tensorflow:Layer gru_4 will not use cuDNN kernels since it doesn't meet the criteria. It will use a generic GPU kernel as fallback when running on GPU.\n",
            "WARNING:tensorflow:Layer gru_4 will not use cuDNN kernels since it doesn't meet the criteria. It will use a generic GPU kernel as fallback when running on GPU.\n",
            "WARNING:tensorflow:Layer gru_4 will not use cuDNN kernels since it doesn't meet the criteria. It will use a generic GPU kernel as fallback when running on GPU.\n"
          ]
        },
        {
          "metadata": {
            "tags": null
          },
          "name": "stdout",
          "output_type": "stream",
          "text": [
            "Epoch 1/3\n"
          ]
        },
        {
          "metadata": {
            "tags": null
          },
          "name": "stderr",
          "output_type": "stream",
          "text": [
            "WARNING:tensorflow:Gradients do not exist for variables ['tf_roberta_model/roberta/pooler/dense/kernel:0', 'tf_roberta_model/roberta/pooler/dense/bias:0'] when minimizing the loss. If you're using `model.compile()`, did you forget to provide a `loss`argument?\n",
            "WARNING:tensorflow:Gradients do not exist for variables ['tf_roberta_model/roberta/pooler/dense/kernel:0', 'tf_roberta_model/roberta/pooler/dense/bias:0'] when minimizing the loss. If you're using `model.compile()`, did you forget to provide a `loss`argument?\n"
          ]
        },
        {
          "output_type": "stream",
          "name": "stdout",
          "text": [
            "100/100 [==============================] - 218s 2s/step - loss: 1.5734 - comp_loss: 0.0853 - sev_loss: 0.5059 - sent_loss: 0.6516 - emo_loss: 1.3129 - comp_accuracy: 0.9784 - sev_accuracy: 0.8125 - sent_accuracy: 0.6969 - emo_accuracy: 0.5231 - val_loss: 1.2733 - val_comp_loss: 0.0454 - val_sev_loss: 0.3767 - val_sent_loss: 0.5602 - val_emo_loss: 1.1422 - val_comp_accuracy: 0.9869 - val_sev_accuracy: 0.8750 - val_sent_accuracy: 0.7494 - val_emo_accuracy: 0.5644\n",
            "Epoch 2/3\n",
            "100/100 [==============================] - 195s 2s/step - loss: 1.2755 - comp_loss: 0.0515 - sev_loss: 0.3970 - sent_loss: 0.5540 - emo_loss: 1.1001 - comp_accuracy: 0.9859 - sev_accuracy: 0.8609 - sent_accuracy: 0.7516 - emo_accuracy: 0.5900 - val_loss: 1.2953 - val_comp_loss: 0.0670 - val_sev_loss: 0.3893 - val_sent_loss: 0.5418 - val_emo_loss: 1.1363 - val_comp_accuracy: 0.9856 - val_sev_accuracy: 0.8669 - val_sent_accuracy: 0.7581 - val_emo_accuracy: 0.5594\n",
            "Epoch 3/3\n",
            "100/100 [==============================] - 195s 2s/step - loss: 1.2407 - comp_loss: 0.0402 - sev_loss: 0.3848 - sent_loss: 0.5460 - emo_loss: 1.0854 - comp_accuracy: 0.9894 - sev_accuracy: 0.8681 - sent_accuracy: 0.7609 - emo_accuracy: 0.5897 - val_loss: 1.2662 - val_comp_loss: 0.0579 - val_sev_loss: 0.4015 - val_sent_loss: 0.5405 - val_emo_loss: 1.0730 - val_comp_accuracy: 0.9831 - val_sev_accuracy: 0.8712 - val_sent_accuracy: 0.7688 - val_emo_accuracy: 0.6094\n",
            "50/50 [==============================] - 18s 353ms/step - loss: 1.1774 - comp_loss: 0.0398 - sev_loss: 0.3558 - sent_loss: 0.5340 - emo_loss: 1.0296 - comp_accuracy: 0.9906 - sev_accuracy: 0.8725 - sent_accuracy: 0.7625 - emo_accuracy: 0.6137\n"
          ]
        }
      ]
    },
    {
      "cell_type": "markdown",
      "source": [
        "### **Checking batches**"
      ],
      "metadata": {
        "id": "pXJzIzdyrmoQ"
      }
    },
    {
      "cell_type": "code",
      "source": [
        "from sklearn.metrics import accuracy_score\n",
        "import pandas as pd\n",
        "from sklearn.model_selection import StratifiedKFold\n",
        "\n",
        "\n",
        "n=5\n",
        "kfold = StratifiedKFold(n_splits=5, shuffle=True, random_state=1)\n",
        "\n",
        "results = []\n",
        "\n",
        "for train_index, val_index in kfold.split(pdx, pdx['Y'].values):\n",
        "\n",
        "    X_train_cv = pdx.iloc[train_index]\n",
        "    y_train_cv = pdx.iloc[train_index]\n",
        "    X_valid_cv = pdx.iloc[val_index]\n",
        "    y_valid_cv= pdx.iloc[val_index]\n",
        "\n",
        "    # print(X_train_cv)\n",
        "    # print(train_index.shape)\n",
        "    # print(X_valid_cv)\n",
        "    # print(val_index.shape)\n",
        "    # train_encoded = X_train_cv['X']\n",
        "\n",
        "    # gen_data(x,y,z, p,q, batch_size=32)\n",
        "\n",
        "    train_gen = gen_data4(X_train_cv['X'].values, X_train_cv['Y'].values, X_train_cv['Z'].values, X_train_cv['P'].values, X_train_cv['Q'].values)\n",
        "    test_gen = gen_data4(X_valid_cv['X'].values, X_valid_cv['Y'].values, X_valid_cv['Z'].values, X_valid_cv['P'].values, X_valid_cv['Q'].values)\n",
        "\n",
        "    model = bert_tweets_model()\n",
        "    adam_optimizer = tf.keras.optimizers.Adam(learning_rate=1e-5)\n",
        "\n",
        "    losses = {\n",
        "    \"comp\": \"binary_crossentropy\",\n",
        "    \"sev\": \"sparse_categorical_crossentropy\",\n",
        "    \"sent\": \"sparse_categorical_crossentropy\",\n",
        "    \"emo\": \"sparse_categorical_crossentropy\"\n",
        "    }\n",
        "\n",
        "    lossWeights = {\"comp\": 1.0, \"sev\": 1.0,  \"sent\" : 0.5, \"emo\":0.5}\n",
        "\n",
        "    model.compile(loss=losses,loss_weights=lossWeights, optimizer=adam_optimizer,metrics=['accuracy'])\n",
        "\n",
        "    # train the model\n",
        "    _ = model.fit(\n",
        "        train_gen,\n",
        "        validation_data = test_gen,\n",
        "        steps_per_epoch = 100, \n",
        "        validation_steps = 50,\n",
        "        epochs = 3,\n",
        "        verbose = True\n",
        "        )\n",
        "\n",
        "    # validate the model\n",
        "    acc_cv = model.evaluate(train_gen,\n",
        "                            batch_size = 32,\n",
        "                            steps = 50,\n",
        "                            verbose = True)\n",
        "    # print(result['acc'])\n",
        "    # append model score\n",
        "    results.append(acc_cv)\n"
      ],
      "metadata": {
        "colab": {
          "base_uri": "https://localhost:8080/"
        },
        "id": "UwmP_OT4rqq5",
        "outputId": "988a9f93-cb93-478b-b040-3fd4b9062f32"
      },
      "execution_count": null,
      "outputs": [
        {
          "output_type": "stream",
          "name": "stderr",
          "text": [
            "WARNING:tensorflow:Layer gru_1 will not use cuDNN kernels since it doesn't meet the criteria. It will use a generic GPU kernel as fallback when running on GPU.\n",
            "WARNING:tensorflow:Layer gru_1 will not use cuDNN kernels since it doesn't meet the criteria. It will use a generic GPU kernel as fallback when running on GPU.\n",
            "WARNING:tensorflow:Layer gru_1 will not use cuDNN kernels since it doesn't meet the criteria. It will use a generic GPU kernel as fallback when running on GPU.\n"
          ]
        },
        {
          "output_type": "stream",
          "name": "stdout",
          "text": [
            "Epoch 1/3\n"
          ]
        },
        {
          "output_type": "stream",
          "name": "stderr",
          "text": [
            "WARNING:tensorflow:Gradients do not exist for variables ['tf_roberta_model/roberta/pooler/dense/kernel:0', 'tf_roberta_model/roberta/pooler/dense/bias:0'] when minimizing the loss. If you're using `model.compile()`, did you forget to provide a `loss`argument?\n",
            "WARNING:tensorflow:Gradients do not exist for variables ['tf_roberta_model/roberta/pooler/dense/kernel:0', 'tf_roberta_model/roberta/pooler/dense/bias:0'] when minimizing the loss. If you're using `model.compile()`, did you forget to provide a `loss`argument?\n"
          ]
        },
        {
          "output_type": "stream",
          "name": "stdout",
          "text": [
            "100/100 [==============================] - 277s 3s/step - loss: 3.1880 - comp_loss: 0.6580 - sev_loss: 1.2178 - sent_loss: 0.9675 - emo_loss: 1.6569 - comp_accuracy: 0.6037 - sev_accuracy: 0.5194 - sent_accuracy: 0.5672 - emo_accuracy: 0.3997 - val_loss: 3.0028 - val_comp_loss: 0.5440 - val_sev_loss: 1.1540 - val_sent_loss: 0.9282 - val_emo_loss: 1.6813 - val_comp_accuracy: 0.7169 - val_sev_accuracy: 0.5619 - val_sent_accuracy: 0.5869 - val_emo_accuracy: 0.4175\n",
            "Epoch 2/3\n",
            "100/100 [==============================] - 247s 2s/step - loss: 2.5636 - comp_loss: 0.4292 - sev_loss: 0.9633 - sent_loss: 0.8613 - emo_loss: 1.4808 - comp_accuracy: 0.8028 - sev_accuracy: 0.6378 - sent_accuracy: 0.6019 - emo_accuracy: 0.4712 - val_loss: 2.1689 - val_comp_loss: 0.2532 - val_sev_loss: 0.8114 - val_sent_loss: 0.7620 - val_emo_loss: 1.4466 - val_comp_accuracy: 0.8981 - val_sev_accuracy: 0.6925 - val_sent_accuracy: 0.6875 - val_emo_accuracy: 0.5025\n",
            "Epoch 3/3\n",
            "100/100 [==============================] - 248s 2s/step - loss: 1.8994 - comp_loss: 0.1841 - sev_loss: 0.6905 - sent_loss: 0.7108 - emo_loss: 1.3388 - comp_accuracy: 0.9350 - sev_accuracy: 0.7347 - sent_accuracy: 0.6759 - emo_accuracy: 0.5122 - val_loss: 1.8410 - val_comp_loss: 0.1698 - val_sev_loss: 0.6913 - val_sent_loss: 0.6690 - val_emo_loss: 1.2907 - val_comp_accuracy: 0.9300 - val_sev_accuracy: 0.7344 - val_sent_accuracy: 0.7156 - val_emo_accuracy: 0.5487\n",
            "50/50 [==============================] - 19s 389ms/step - loss: 1.7810 - comp_loss: 0.1457 - sev_loss: 0.6780 - sent_loss: 0.6386 - emo_loss: 1.2759 - comp_accuracy: 0.9475 - sev_accuracy: 0.7400 - sent_accuracy: 0.7144 - emo_accuracy: 0.5575\n"
          ]
        },
        {
          "output_type": "stream",
          "name": "stderr",
          "text": [
            "WARNING:tensorflow:Layer gru_2 will not use cuDNN kernels since it doesn't meet the criteria. It will use a generic GPU kernel as fallback when running on GPU.\n",
            "WARNING:tensorflow:Layer gru_2 will not use cuDNN kernels since it doesn't meet the criteria. It will use a generic GPU kernel as fallback when running on GPU.\n",
            "WARNING:tensorflow:Layer gru_2 will not use cuDNN kernels since it doesn't meet the criteria. It will use a generic GPU kernel as fallback when running on GPU.\n"
          ]
        },
        {
          "output_type": "stream",
          "name": "stdout",
          "text": [
            "Epoch 1/3\n"
          ]
        },
        {
          "output_type": "stream",
          "name": "stderr",
          "text": [
            "WARNING:tensorflow:Gradients do not exist for variables ['tf_roberta_model/roberta/pooler/dense/kernel:0', 'tf_roberta_model/roberta/pooler/dense/bias:0'] when minimizing the loss. If you're using `model.compile()`, did you forget to provide a `loss`argument?\n",
            "WARNING:tensorflow:Gradients do not exist for variables ['tf_roberta_model/roberta/pooler/dense/kernel:0', 'tf_roberta_model/roberta/pooler/dense/bias:0'] when minimizing the loss. If you're using `model.compile()`, did you forget to provide a `loss`argument?\n"
          ]
        },
        {
          "output_type": "stream",
          "name": "stdout",
          "text": [
            "100/100 [==============================] - 275s 3s/step - loss: 2.0507 - comp_loss: 0.2024 - sev_loss: 0.7738 - sent_loss: 0.7408 - emo_loss: 1.4081 - comp_accuracy: 0.9350 - sev_accuracy: 0.6994 - sent_accuracy: 0.6559 - emo_accuracy: 0.5091 - val_loss: 1.6112 - val_comp_loss: 0.1041 - val_sev_loss: 0.5684 - val_sent_loss: 0.6303 - val_emo_loss: 1.2470 - val_comp_accuracy: 0.9737 - val_sev_accuracy: 0.7900 - val_sent_accuracy: 0.7088 - val_emo_accuracy: 0.5531\n",
            "Epoch 2/3\n",
            "100/100 [==============================] - 247s 2s/step - loss: 1.6691 - comp_loss: 0.1164 - sev_loss: 0.6135 - sent_loss: 0.6199 - emo_loss: 1.2584 - comp_accuracy: 0.9641 - sev_accuracy: 0.7725 - sent_accuracy: 0.7163 - emo_accuracy: 0.5462 - val_loss: 1.6104 - val_comp_loss: 0.0964 - val_sev_loss: 0.5201 - val_sent_loss: 0.7006 - val_emo_loss: 1.2872 - val_comp_accuracy: 0.9700 - val_sev_accuracy: 0.7981 - val_sent_accuracy: 0.7006 - val_emo_accuracy: 0.5356\n",
            "Epoch 3/3\n",
            "100/100 [==============================] - 248s 2s/step - loss: 1.5642 - comp_loss: 0.1008 - sev_loss: 0.5761 - sent_loss: 0.5798 - emo_loss: 1.1948 - comp_accuracy: 0.9697 - sev_accuracy: 0.7859 - sent_accuracy: 0.7319 - emo_accuracy: 0.5681 - val_loss: 1.5747 - val_comp_loss: 0.0786 - val_sev_loss: 0.5162 - val_sent_loss: 0.6677 - val_emo_loss: 1.2919 - val_comp_accuracy: 0.9700 - val_sev_accuracy: 0.8150 - val_sent_accuracy: 0.7225 - val_emo_accuracy: 0.5288\n",
            "50/50 [==============================] - 19s 389ms/step - loss: 1.5264 - comp_loss: 0.0744 - sev_loss: 0.5317 - sent_loss: 0.5987 - emo_loss: 1.2419 - comp_accuracy: 0.9837 - sev_accuracy: 0.8094 - sent_accuracy: 0.7281 - emo_accuracy: 0.5531\n"
          ]
        },
        {
          "output_type": "stream",
          "name": "stderr",
          "text": [
            "WARNING:tensorflow:Layer gru_3 will not use cuDNN kernels since it doesn't meet the criteria. It will use a generic GPU kernel as fallback when running on GPU.\n",
            "WARNING:tensorflow:Layer gru_3 will not use cuDNN kernels since it doesn't meet the criteria. It will use a generic GPU kernel as fallback when running on GPU.\n",
            "WARNING:tensorflow:Layer gru_3 will not use cuDNN kernels since it doesn't meet the criteria. It will use a generic GPU kernel as fallback when running on GPU.\n"
          ]
        },
        {
          "output_type": "stream",
          "name": "stdout",
          "text": [
            "Epoch 1/3\n"
          ]
        },
        {
          "output_type": "stream",
          "name": "stderr",
          "text": [
            "WARNING:tensorflow:Gradients do not exist for variables ['tf_roberta_model/roberta/pooler/dense/kernel:0', 'tf_roberta_model/roberta/pooler/dense/bias:0'] when minimizing the loss. If you're using `model.compile()`, did you forget to provide a `loss`argument?\n",
            "WARNING:tensorflow:Gradients do not exist for variables ['tf_roberta_model/roberta/pooler/dense/kernel:0', 'tf_roberta_model/roberta/pooler/dense/bias:0'] when minimizing the loss. If you're using `model.compile()`, did you forget to provide a `loss`argument?\n"
          ]
        },
        {
          "output_type": "stream",
          "name": "stdout",
          "text": [
            "100/100 [==============================] - 275s 3s/step - loss: 1.7399 - comp_loss: 0.1267 - sev_loss: 0.6205 - sent_loss: 0.6694 - emo_loss: 1.3161 - comp_accuracy: 0.9594 - sev_accuracy: 0.7675 - sent_accuracy: 0.7044 - emo_accuracy: 0.5278 - val_loss: 1.5251 - val_comp_loss: 0.0812 - val_sev_loss: 0.5813 - val_sent_loss: 0.5755 - val_emo_loss: 1.1496 - val_comp_accuracy: 0.9762 - val_sev_accuracy: 0.7800 - val_sent_accuracy: 0.7462 - val_emo_accuracy: 0.5781\n",
            "Epoch 2/3\n",
            "100/100 [==============================] - 248s 2s/step - loss: 1.5437 - comp_loss: 0.0878 - sev_loss: 0.5378 - sent_loss: 0.6218 - emo_loss: 1.2143 - comp_accuracy: 0.9741 - sev_accuracy: 0.8037 - sent_accuracy: 0.7175 - emo_accuracy: 0.5559 - val_loss: 1.4776 - val_comp_loss: 0.0740 - val_sev_loss: 0.5701 - val_sent_loss: 0.5455 - val_emo_loss: 1.1215 - val_comp_accuracy: 0.9812 - val_sev_accuracy: 0.7788 - val_sent_accuracy: 0.7594 - val_emo_accuracy: 0.5969\n",
            "Epoch 3/3\n",
            "100/100 [==============================] - 248s 2s/step - loss: 1.4007 - comp_loss: 0.0623 - sev_loss: 0.4676 - sent_loss: 0.5913 - emo_loss: 1.1503 - comp_accuracy: 0.9828 - sev_accuracy: 0.8300 - sent_accuracy: 0.7406 - emo_accuracy: 0.5744 - val_loss: 1.5365 - val_comp_loss: 0.0720 - val_sev_loss: 0.5729 - val_sent_loss: 0.6245 - val_emo_loss: 1.1588 - val_comp_accuracy: 0.9812 - val_sev_accuracy: 0.8050 - val_sent_accuracy: 0.7400 - val_emo_accuracy: 0.5987\n",
            "50/50 [==============================] - 19s 387ms/step - loss: 1.3738 - comp_loss: 0.0410 - sev_loss: 0.4304 - sent_loss: 0.6321 - emo_loss: 1.1726 - comp_accuracy: 0.9894 - sev_accuracy: 0.8431 - sent_accuracy: 0.7262 - emo_accuracy: 0.5800\n"
          ]
        },
        {
          "output_type": "stream",
          "name": "stderr",
          "text": [
            "WARNING:tensorflow:Layer gru_4 will not use cuDNN kernels since it doesn't meet the criteria. It will use a generic GPU kernel as fallback when running on GPU.\n",
            "WARNING:tensorflow:Layer gru_4 will not use cuDNN kernels since it doesn't meet the criteria. It will use a generic GPU kernel as fallback when running on GPU.\n",
            "WARNING:tensorflow:Layer gru_4 will not use cuDNN kernels since it doesn't meet the criteria. It will use a generic GPU kernel as fallback when running on GPU.\n"
          ]
        },
        {
          "output_type": "stream",
          "name": "stdout",
          "text": [
            "Epoch 1/3\n"
          ]
        },
        {
          "output_type": "stream",
          "name": "stderr",
          "text": [
            "WARNING:tensorflow:Gradients do not exist for variables ['tf_roberta_model/roberta/pooler/dense/kernel:0', 'tf_roberta_model/roberta/pooler/dense/bias:0'] when minimizing the loss. If you're using `model.compile()`, did you forget to provide a `loss`argument?\n",
            "WARNING:tensorflow:Gradients do not exist for variables ['tf_roberta_model/roberta/pooler/dense/kernel:0', 'tf_roberta_model/roberta/pooler/dense/bias:0'] when minimizing the loss. If you're using `model.compile()`, did you forget to provide a `loss`argument?\n"
          ]
        },
        {
          "output_type": "stream",
          "name": "stdout",
          "text": [
            "100/100 [==============================] - 276s 3s/step - loss: 1.6705 - comp_loss: 0.1130 - sev_loss: 0.5642 - sent_loss: 0.6599 - emo_loss: 1.3268 - comp_accuracy: 0.9631 - sev_accuracy: 0.7866 - sent_accuracy: 0.6925 - emo_accuracy: 0.5034 - val_loss: 1.3402 - val_comp_loss: 0.0589 - val_sev_loss: 0.4144 - val_sent_loss: 0.5898 - val_emo_loss: 1.1440 - val_comp_accuracy: 0.9825 - val_sev_accuracy: 0.8481 - val_sent_accuracy: 0.7369 - val_emo_accuracy: 0.5569\n",
            "Epoch 2/3\n",
            "100/100 [==============================] - 249s 2s/step - loss: 1.3377 - comp_loss: 0.0444 - sev_loss: 0.4458 - sent_loss: 0.5797 - emo_loss: 1.1151 - comp_accuracy: 0.9894 - sev_accuracy: 0.8334 - sent_accuracy: 0.7266 - emo_accuracy: 0.5859 - val_loss: 1.3854 - val_comp_loss: 0.0712 - val_sev_loss: 0.4788 - val_sent_loss: 0.5462 - val_emo_loss: 1.1245 - val_comp_accuracy: 0.9825 - val_sev_accuracy: 0.8331 - val_sent_accuracy: 0.7556 - val_emo_accuracy: 0.5900\n",
            "Epoch 3/3\n",
            "100/100 [==============================] - 248s 2s/step - loss: 1.2645 - comp_loss: 0.0464 - sev_loss: 0.4043 - sent_loss: 0.5274 - emo_loss: 1.1001 - comp_accuracy: 0.9881 - sev_accuracy: 0.8572 - sent_accuracy: 0.7631 - emo_accuracy: 0.5909 - val_loss: 1.2919 - val_comp_loss: 0.0583 - val_sev_loss: 0.4208 - val_sent_loss: 0.5332 - val_emo_loss: 1.0923 - val_comp_accuracy: 0.9831 - val_sev_accuracy: 0.8556 - val_sent_accuracy: 0.7606 - val_emo_accuracy: 0.5894\n",
            "50/50 [==============================] - 19s 387ms/step - loss: 1.1889 - comp_loss: 0.0511 - sev_loss: 0.3677 - sent_loss: 0.5050 - emo_loss: 1.0350 - comp_accuracy: 0.9869 - sev_accuracy: 0.8731 - sent_accuracy: 0.7788 - emo_accuracy: 0.6194\n"
          ]
        },
        {
          "output_type": "stream",
          "name": "stderr",
          "text": [
            "WARNING:tensorflow:Layer gru_5 will not use cuDNN kernels since it doesn't meet the criteria. It will use a generic GPU kernel as fallback when running on GPU.\n",
            "WARNING:tensorflow:Layer gru_5 will not use cuDNN kernels since it doesn't meet the criteria. It will use a generic GPU kernel as fallback when running on GPU.\n",
            "WARNING:tensorflow:Layer gru_5 will not use cuDNN kernels since it doesn't meet the criteria. It will use a generic GPU kernel as fallback when running on GPU.\n"
          ]
        },
        {
          "output_type": "stream",
          "name": "stdout",
          "text": [
            "Epoch 1/3\n"
          ]
        },
        {
          "output_type": "stream",
          "name": "stderr",
          "text": [
            "WARNING:tensorflow:Gradients do not exist for variables ['tf_roberta_model/roberta/pooler/dense/kernel:0', 'tf_roberta_model/roberta/pooler/dense/bias:0'] when minimizing the loss. If you're using `model.compile()`, did you forget to provide a `loss`argument?\n",
            "WARNING:tensorflow:Gradients do not exist for variables ['tf_roberta_model/roberta/pooler/dense/kernel:0', 'tf_roberta_model/roberta/pooler/dense/bias:0'] when minimizing the loss. If you're using `model.compile()`, did you forget to provide a `loss`argument?\n"
          ]
        },
        {
          "output_type": "stream",
          "name": "stdout",
          "text": [
            "100/100 [==============================] - 277s 3s/step - loss: 1.5631 - comp_loss: 0.0950 - sev_loss: 0.5249 - sent_loss: 0.6450 - emo_loss: 1.2413 - comp_accuracy: 0.9787 - sev_accuracy: 0.8066 - sent_accuracy: 0.7081 - emo_accuracy: 0.5553 - val_loss: 1.2436 - val_comp_loss: 0.0560 - val_sev_loss: 0.3479 - val_sent_loss: 0.5979 - val_emo_loss: 1.0816 - val_comp_accuracy: 0.9856 - val_sev_accuracy: 0.8819 - val_sent_accuracy: 0.7581 - val_emo_accuracy: 0.5987\n",
            "Epoch 2/3\n",
            "100/100 [==============================] - 249s 2s/step - loss: 1.2939 - comp_loss: 0.0498 - sev_loss: 0.4172 - sent_loss: 0.5399 - emo_loss: 1.1140 - comp_accuracy: 0.9884 - sev_accuracy: 0.8494 - sent_accuracy: 0.7531 - emo_accuracy: 0.5909 - val_loss: 1.2331 - val_comp_loss: 0.0580 - val_sev_loss: 0.3569 - val_sent_loss: 0.5681 - val_emo_loss: 1.0684 - val_comp_accuracy: 0.9875 - val_sev_accuracy: 0.8813 - val_sent_accuracy: 0.7531 - val_emo_accuracy: 0.6025\n",
            "Epoch 3/3\n",
            "100/100 [==============================] - 249s 2s/step - loss: 1.2520 - comp_loss: 0.0444 - sev_loss: 0.4031 - sent_loss: 0.5246 - emo_loss: 1.0842 - comp_accuracy: 0.9891 - sev_accuracy: 0.8566 - sent_accuracy: 0.7725 - emo_accuracy: 0.5903 - val_loss: 1.1977 - val_comp_loss: 0.0571 - val_sev_loss: 0.3505 - val_sent_loss: 0.5333 - val_emo_loss: 1.0469 - val_comp_accuracy: 0.9856 - val_sev_accuracy: 0.8956 - val_sent_accuracy: 0.7825 - val_emo_accuracy: 0.5956\n",
            "50/50 [==============================] - 19s 389ms/step - loss: 1.1767 - comp_loss: 0.0455 - sev_loss: 0.3645 - sent_loss: 0.4917 - emo_loss: 1.0418 - comp_accuracy: 0.9894 - sev_accuracy: 0.8706 - sent_accuracy: 0.7962 - emo_accuracy: 0.6112\n"
          ]
        }
      ]
    },
    {
      "cell_type": "markdown",
      "source": [
        "### Saving the model for now, the predictions can be obtained on a new dataset without labels later"
      ],
      "metadata": {
        "id": "aQ0DVtcEhGZ4"
      }
    },
    {
      "cell_type": "code",
      "source": [
        "from google.colab import drive\n",
        "drive.mount('/content/gdrive')"
      ],
      "metadata": {
        "colab": {
          "base_uri": "https://localhost:8080/"
        },
        "id": "iyV0keaiWqJ0",
        "outputId": "b223ad43-dbd8-4c30-b789-b273949e078f"
      },
      "execution_count": null,
      "outputs": [
        {
          "output_type": "stream",
          "name": "stdout",
          "text": [
            "Mounted at /content/gdrive\n"
          ]
        }
      ]
    },
    {
      "cell_type": "code",
      "source": [
        "model.save('/content/gdrive/MyDrive')"
      ],
      "metadata": {
        "id": "V3TdUfCmW2z6"
      },
      "execution_count": null,
      "outputs": []
    },
    {
      "cell_type": "code",
      "source": [
        "# y_pred_train = model.predict(train_encoded)"
      ],
      "metadata": {
        "id": "kwvbdOApd29Q"
      },
      "execution_count": null,
      "outputs": []
    },
    {
      "cell_type": "code",
      "source": [
        ""
      ],
      "metadata": {
        "id": "OjFzW413d3As"
      },
      "execution_count": null,
      "outputs": []
    },
    {
      "cell_type": "code",
      "source": [
        ""
      ],
      "metadata": {
        "id": "Y7NrhLlPd3Ua"
      },
      "execution_count": null,
      "outputs": []
    }
  ],
  "metadata": {
    "accelerator": "GPU",
    "colab": {
      "name": "MTL Model.ipynb",
      "provenance": [],
      "machine_shape": "hm",
      "collapsed_sections": [
        "hBpTwyX_fmnZ",
        "9C9GRcgJh1cy",
        "NOPB-2BDWH3k"
      ]
    },
    "gpuClass": "standard",
    "kernelspec": {
      "display_name": "Python 3",
      "name": "python3"
    },
    "language_info": {
      "name": "python"
    },
    "widgets": {
      "application/vnd.jupyter.widget-state+json": {
        "a9472d26d14c4e28b4dd2a2e316e4e36": {
          "model_module": "@jupyter-widgets/controls",
          "model_name": "HBoxModel",
          "model_module_version": "2.0.0",
          "state": {
            "_dom_classes": [],
            "_model_module": "@jupyter-widgets/controls",
            "_model_module_version": "2.0.0",
            "_model_name": "HBoxModel",
            "_view_count": null,
            "_view_module": "@jupyter-widgets/controls",
            "_view_module_version": "2.0.0",
            "_view_name": "HBoxView",
            "box_style": "",
            "children": [
              "IPY_MODEL_d91e54af11664e28b8ed5a9bb96f5077",
              "IPY_MODEL_176179f765114794bb41690a10508504",
              "IPY_MODEL_def1caef5057414b948aeb5f27d3d6b1"
            ],
            "layout": "IPY_MODEL_44c23a14bc13486cbb82aae17c57417a",
            "tabbable": null,
            "tooltip": null
          }
        },
        "d91e54af11664e28b8ed5a9bb96f5077": {
          "model_module": "@jupyter-widgets/controls",
          "model_name": "HTMLModel",
          "model_module_version": "2.0.0",
          "state": {
            "_dom_classes": [],
            "_model_module": "@jupyter-widgets/controls",
            "_model_module_version": "2.0.0",
            "_model_name": "HTMLModel",
            "_view_count": null,
            "_view_module": "@jupyter-widgets/controls",
            "_view_module_version": "2.0.0",
            "_view_name": "HTMLView",
            "description": "",
            "description_allow_html": false,
            "layout": "IPY_MODEL_ea001c289d8744629f3a843008c07d25",
            "placeholder": "​",
            "style": "IPY_MODEL_083e62639efe49a1abad82fe7f74bf37",
            "tabbable": null,
            "tooltip": null,
            "value": "Downloading config.json: 100%"
          }
        },
        "176179f765114794bb41690a10508504": {
          "model_module": "@jupyter-widgets/controls",
          "model_name": "FloatProgressModel",
          "model_module_version": "2.0.0",
          "state": {
            "_dom_classes": [],
            "_model_module": "@jupyter-widgets/controls",
            "_model_module_version": "2.0.0",
            "_model_name": "FloatProgressModel",
            "_view_count": null,
            "_view_module": "@jupyter-widgets/controls",
            "_view_module_version": "2.0.0",
            "_view_name": "ProgressView",
            "bar_style": "success",
            "description": "",
            "description_allow_html": false,
            "layout": "IPY_MODEL_b54d73443e6c4f0abc972bbacc52ceb3",
            "max": 481,
            "min": 0,
            "orientation": "horizontal",
            "style": "IPY_MODEL_ae8cb0c4346d41448455d72a072d2c38",
            "tabbable": null,
            "tooltip": null,
            "value": 481
          }
        },
        "def1caef5057414b948aeb5f27d3d6b1": {
          "model_module": "@jupyter-widgets/controls",
          "model_name": "HTMLModel",
          "model_module_version": "2.0.0",
          "state": {
            "_dom_classes": [],
            "_model_module": "@jupyter-widgets/controls",
            "_model_module_version": "2.0.0",
            "_model_name": "HTMLModel",
            "_view_count": null,
            "_view_module": "@jupyter-widgets/controls",
            "_view_module_version": "2.0.0",
            "_view_name": "HTMLView",
            "description": "",
            "description_allow_html": false,
            "layout": "IPY_MODEL_aaeef7dcf3f24a9d854b9d1c8dcd0a54",
            "placeholder": "​",
            "style": "IPY_MODEL_38908346aa794f728ef50a61645cec63",
            "tabbable": null,
            "tooltip": null,
            "value": " 481/481 [00:00&lt;00:00, 14.8kB/s]"
          }
        },
        "44c23a14bc13486cbb82aae17c57417a": {
          "model_module": "@jupyter-widgets/base",
          "model_name": "LayoutModel",
          "model_module_version": "2.0.0",
          "state": {
            "_model_module": "@jupyter-widgets/base",
            "_model_module_version": "2.0.0",
            "_model_name": "LayoutModel",
            "_view_count": null,
            "_view_module": "@jupyter-widgets/base",
            "_view_module_version": "2.0.0",
            "_view_name": "LayoutView",
            "align_content": null,
            "align_items": null,
            "align_self": null,
            "border_bottom": null,
            "border_left": null,
            "border_right": null,
            "border_top": null,
            "bottom": null,
            "display": null,
            "flex": null,
            "flex_flow": null,
            "grid_area": null,
            "grid_auto_columns": null,
            "grid_auto_flow": null,
            "grid_auto_rows": null,
            "grid_column": null,
            "grid_gap": null,
            "grid_row": null,
            "grid_template_areas": null,
            "grid_template_columns": null,
            "grid_template_rows": null,
            "height": null,
            "justify_content": null,
            "justify_items": null,
            "left": null,
            "margin": null,
            "max_height": null,
            "max_width": null,
            "min_height": null,
            "min_width": null,
            "object_fit": null,
            "object_position": null,
            "order": null,
            "overflow": null,
            "padding": null,
            "right": null,
            "top": null,
            "visibility": null,
            "width": null
          }
        },
        "ea001c289d8744629f3a843008c07d25": {
          "model_module": "@jupyter-widgets/base",
          "model_name": "LayoutModel",
          "model_module_version": "2.0.0",
          "state": {
            "_model_module": "@jupyter-widgets/base",
            "_model_module_version": "2.0.0",
            "_model_name": "LayoutModel",
            "_view_count": null,
            "_view_module": "@jupyter-widgets/base",
            "_view_module_version": "2.0.0",
            "_view_name": "LayoutView",
            "align_content": null,
            "align_items": null,
            "align_self": null,
            "border_bottom": null,
            "border_left": null,
            "border_right": null,
            "border_top": null,
            "bottom": null,
            "display": null,
            "flex": null,
            "flex_flow": null,
            "grid_area": null,
            "grid_auto_columns": null,
            "grid_auto_flow": null,
            "grid_auto_rows": null,
            "grid_column": null,
            "grid_gap": null,
            "grid_row": null,
            "grid_template_areas": null,
            "grid_template_columns": null,
            "grid_template_rows": null,
            "height": null,
            "justify_content": null,
            "justify_items": null,
            "left": null,
            "margin": null,
            "max_height": null,
            "max_width": null,
            "min_height": null,
            "min_width": null,
            "object_fit": null,
            "object_position": null,
            "order": null,
            "overflow": null,
            "padding": null,
            "right": null,
            "top": null,
            "visibility": null,
            "width": null
          }
        },
        "083e62639efe49a1abad82fe7f74bf37": {
          "model_module": "@jupyter-widgets/controls",
          "model_name": "HTMLStyleModel",
          "model_module_version": "2.0.0",
          "state": {
            "_model_module": "@jupyter-widgets/controls",
            "_model_module_version": "2.0.0",
            "_model_name": "HTMLStyleModel",
            "_view_count": null,
            "_view_module": "@jupyter-widgets/base",
            "_view_module_version": "2.0.0",
            "_view_name": "StyleView",
            "background": null,
            "description_width": "",
            "font_size": null,
            "text_color": null
          }
        },
        "b54d73443e6c4f0abc972bbacc52ceb3": {
          "model_module": "@jupyter-widgets/base",
          "model_name": "LayoutModel",
          "model_module_version": "2.0.0",
          "state": {
            "_model_module": "@jupyter-widgets/base",
            "_model_module_version": "2.0.0",
            "_model_name": "LayoutModel",
            "_view_count": null,
            "_view_module": "@jupyter-widgets/base",
            "_view_module_version": "2.0.0",
            "_view_name": "LayoutView",
            "align_content": null,
            "align_items": null,
            "align_self": null,
            "border_bottom": null,
            "border_left": null,
            "border_right": null,
            "border_top": null,
            "bottom": null,
            "display": null,
            "flex": null,
            "flex_flow": null,
            "grid_area": null,
            "grid_auto_columns": null,
            "grid_auto_flow": null,
            "grid_auto_rows": null,
            "grid_column": null,
            "grid_gap": null,
            "grid_row": null,
            "grid_template_areas": null,
            "grid_template_columns": null,
            "grid_template_rows": null,
            "height": null,
            "justify_content": null,
            "justify_items": null,
            "left": null,
            "margin": null,
            "max_height": null,
            "max_width": null,
            "min_height": null,
            "min_width": null,
            "object_fit": null,
            "object_position": null,
            "order": null,
            "overflow": null,
            "padding": null,
            "right": null,
            "top": null,
            "visibility": null,
            "width": null
          }
        },
        "ae8cb0c4346d41448455d72a072d2c38": {
          "model_module": "@jupyter-widgets/controls",
          "model_name": "ProgressStyleModel",
          "model_module_version": "2.0.0",
          "state": {
            "_model_module": "@jupyter-widgets/controls",
            "_model_module_version": "2.0.0",
            "_model_name": "ProgressStyleModel",
            "_view_count": null,
            "_view_module": "@jupyter-widgets/base",
            "_view_module_version": "2.0.0",
            "_view_name": "StyleView",
            "bar_color": null,
            "description_width": ""
          }
        },
        "aaeef7dcf3f24a9d854b9d1c8dcd0a54": {
          "model_module": "@jupyter-widgets/base",
          "model_name": "LayoutModel",
          "model_module_version": "2.0.0",
          "state": {
            "_model_module": "@jupyter-widgets/base",
            "_model_module_version": "2.0.0",
            "_model_name": "LayoutModel",
            "_view_count": null,
            "_view_module": "@jupyter-widgets/base",
            "_view_module_version": "2.0.0",
            "_view_name": "LayoutView",
            "align_content": null,
            "align_items": null,
            "align_self": null,
            "border_bottom": null,
            "border_left": null,
            "border_right": null,
            "border_top": null,
            "bottom": null,
            "display": null,
            "flex": null,
            "flex_flow": null,
            "grid_area": null,
            "grid_auto_columns": null,
            "grid_auto_flow": null,
            "grid_auto_rows": null,
            "grid_column": null,
            "grid_gap": null,
            "grid_row": null,
            "grid_template_areas": null,
            "grid_template_columns": null,
            "grid_template_rows": null,
            "height": null,
            "justify_content": null,
            "justify_items": null,
            "left": null,
            "margin": null,
            "max_height": null,
            "max_width": null,
            "min_height": null,
            "min_width": null,
            "object_fit": null,
            "object_position": null,
            "order": null,
            "overflow": null,
            "padding": null,
            "right": null,
            "top": null,
            "visibility": null,
            "width": null
          }
        },
        "38908346aa794f728ef50a61645cec63": {
          "model_module": "@jupyter-widgets/controls",
          "model_name": "HTMLStyleModel",
          "model_module_version": "2.0.0",
          "state": {
            "_model_module": "@jupyter-widgets/controls",
            "_model_module_version": "2.0.0",
            "_model_name": "HTMLStyleModel",
            "_view_count": null,
            "_view_module": "@jupyter-widgets/base",
            "_view_module_version": "2.0.0",
            "_view_name": "StyleView",
            "background": null,
            "description_width": "",
            "font_size": null,
            "text_color": null
          }
        },
        "9b4fdb8d578f4feba9123e9a8c201b17": {
          "model_module": "@jupyter-widgets/controls",
          "model_name": "HBoxModel",
          "model_module_version": "2.0.0",
          "state": {
            "_dom_classes": [],
            "_model_module": "@jupyter-widgets/controls",
            "_model_module_version": "2.0.0",
            "_model_name": "HBoxModel",
            "_view_count": null,
            "_view_module": "@jupyter-widgets/controls",
            "_view_module_version": "2.0.0",
            "_view_name": "HBoxView",
            "box_style": "",
            "children": [
              "IPY_MODEL_66d7411a76cb437ca4b7e3fb41a6019b",
              "IPY_MODEL_66727f06e1ed4df8a431c66db2747dd5",
              "IPY_MODEL_5ec562a886594fbb936e9862c0a06247"
            ],
            "layout": "IPY_MODEL_b7ded6f7e11f4572ab994874d1a83bf5",
            "tabbable": null,
            "tooltip": null
          }
        },
        "66d7411a76cb437ca4b7e3fb41a6019b": {
          "model_module": "@jupyter-widgets/controls",
          "model_name": "HTMLModel",
          "model_module_version": "2.0.0",
          "state": {
            "_dom_classes": [],
            "_model_module": "@jupyter-widgets/controls",
            "_model_module_version": "2.0.0",
            "_model_name": "HTMLModel",
            "_view_count": null,
            "_view_module": "@jupyter-widgets/controls",
            "_view_module_version": "2.0.0",
            "_view_name": "HTMLView",
            "description": "",
            "description_allow_html": false,
            "layout": "IPY_MODEL_8b0a1de43ed944c2aafb33061cc32528",
            "placeholder": "​",
            "style": "IPY_MODEL_9bc4b05a40ef423da2040d0a84416dc7",
            "tabbable": null,
            "tooltip": null,
            "value": "Downloading vocab.json: 100%"
          }
        },
        "66727f06e1ed4df8a431c66db2747dd5": {
          "model_module": "@jupyter-widgets/controls",
          "model_name": "FloatProgressModel",
          "model_module_version": "2.0.0",
          "state": {
            "_dom_classes": [],
            "_model_module": "@jupyter-widgets/controls",
            "_model_module_version": "2.0.0",
            "_model_name": "FloatProgressModel",
            "_view_count": null,
            "_view_module": "@jupyter-widgets/controls",
            "_view_module_version": "2.0.0",
            "_view_name": "ProgressView",
            "bar_style": "success",
            "description": "",
            "description_allow_html": false,
            "layout": "IPY_MODEL_8b9a8f3814e44e34b3338e700f7a36b1",
            "max": 898823,
            "min": 0,
            "orientation": "horizontal",
            "style": "IPY_MODEL_68eec6616c32433baafac2a56721e818",
            "tabbable": null,
            "tooltip": null,
            "value": 898823
          }
        },
        "5ec562a886594fbb936e9862c0a06247": {
          "model_module": "@jupyter-widgets/controls",
          "model_name": "HTMLModel",
          "model_module_version": "2.0.0",
          "state": {
            "_dom_classes": [],
            "_model_module": "@jupyter-widgets/controls",
            "_model_module_version": "2.0.0",
            "_model_name": "HTMLModel",
            "_view_count": null,
            "_view_module": "@jupyter-widgets/controls",
            "_view_module_version": "2.0.0",
            "_view_name": "HTMLView",
            "description": "",
            "description_allow_html": false,
            "layout": "IPY_MODEL_45ad7ab195584df9981c7437b81df79d",
            "placeholder": "​",
            "style": "IPY_MODEL_ad07b09cf57840ed84ffd5ba45030604",
            "tabbable": null,
            "tooltip": null,
            "value": " 878k/878k [00:00&lt;00:00, 2.69MB/s]"
          }
        },
        "b7ded6f7e11f4572ab994874d1a83bf5": {
          "model_module": "@jupyter-widgets/base",
          "model_name": "LayoutModel",
          "model_module_version": "2.0.0",
          "state": {
            "_model_module": "@jupyter-widgets/base",
            "_model_module_version": "2.0.0",
            "_model_name": "LayoutModel",
            "_view_count": null,
            "_view_module": "@jupyter-widgets/base",
            "_view_module_version": "2.0.0",
            "_view_name": "LayoutView",
            "align_content": null,
            "align_items": null,
            "align_self": null,
            "border_bottom": null,
            "border_left": null,
            "border_right": null,
            "border_top": null,
            "bottom": null,
            "display": null,
            "flex": null,
            "flex_flow": null,
            "grid_area": null,
            "grid_auto_columns": null,
            "grid_auto_flow": null,
            "grid_auto_rows": null,
            "grid_column": null,
            "grid_gap": null,
            "grid_row": null,
            "grid_template_areas": null,
            "grid_template_columns": null,
            "grid_template_rows": null,
            "height": null,
            "justify_content": null,
            "justify_items": null,
            "left": null,
            "margin": null,
            "max_height": null,
            "max_width": null,
            "min_height": null,
            "min_width": null,
            "object_fit": null,
            "object_position": null,
            "order": null,
            "overflow": null,
            "padding": null,
            "right": null,
            "top": null,
            "visibility": null,
            "width": null
          }
        },
        "8b0a1de43ed944c2aafb33061cc32528": {
          "model_module": "@jupyter-widgets/base",
          "model_name": "LayoutModel",
          "model_module_version": "2.0.0",
          "state": {
            "_model_module": "@jupyter-widgets/base",
            "_model_module_version": "2.0.0",
            "_model_name": "LayoutModel",
            "_view_count": null,
            "_view_module": "@jupyter-widgets/base",
            "_view_module_version": "2.0.0",
            "_view_name": "LayoutView",
            "align_content": null,
            "align_items": null,
            "align_self": null,
            "border_bottom": null,
            "border_left": null,
            "border_right": null,
            "border_top": null,
            "bottom": null,
            "display": null,
            "flex": null,
            "flex_flow": null,
            "grid_area": null,
            "grid_auto_columns": null,
            "grid_auto_flow": null,
            "grid_auto_rows": null,
            "grid_column": null,
            "grid_gap": null,
            "grid_row": null,
            "grid_template_areas": null,
            "grid_template_columns": null,
            "grid_template_rows": null,
            "height": null,
            "justify_content": null,
            "justify_items": null,
            "left": null,
            "margin": null,
            "max_height": null,
            "max_width": null,
            "min_height": null,
            "min_width": null,
            "object_fit": null,
            "object_position": null,
            "order": null,
            "overflow": null,
            "padding": null,
            "right": null,
            "top": null,
            "visibility": null,
            "width": null
          }
        },
        "9bc4b05a40ef423da2040d0a84416dc7": {
          "model_module": "@jupyter-widgets/controls",
          "model_name": "HTMLStyleModel",
          "model_module_version": "2.0.0",
          "state": {
            "_model_module": "@jupyter-widgets/controls",
            "_model_module_version": "2.0.0",
            "_model_name": "HTMLStyleModel",
            "_view_count": null,
            "_view_module": "@jupyter-widgets/base",
            "_view_module_version": "2.0.0",
            "_view_name": "StyleView",
            "background": null,
            "description_width": "",
            "font_size": null,
            "text_color": null
          }
        },
        "8b9a8f3814e44e34b3338e700f7a36b1": {
          "model_module": "@jupyter-widgets/base",
          "model_name": "LayoutModel",
          "model_module_version": "2.0.0",
          "state": {
            "_model_module": "@jupyter-widgets/base",
            "_model_module_version": "2.0.0",
            "_model_name": "LayoutModel",
            "_view_count": null,
            "_view_module": "@jupyter-widgets/base",
            "_view_module_version": "2.0.0",
            "_view_name": "LayoutView",
            "align_content": null,
            "align_items": null,
            "align_self": null,
            "border_bottom": null,
            "border_left": null,
            "border_right": null,
            "border_top": null,
            "bottom": null,
            "display": null,
            "flex": null,
            "flex_flow": null,
            "grid_area": null,
            "grid_auto_columns": null,
            "grid_auto_flow": null,
            "grid_auto_rows": null,
            "grid_column": null,
            "grid_gap": null,
            "grid_row": null,
            "grid_template_areas": null,
            "grid_template_columns": null,
            "grid_template_rows": null,
            "height": null,
            "justify_content": null,
            "justify_items": null,
            "left": null,
            "margin": null,
            "max_height": null,
            "max_width": null,
            "min_height": null,
            "min_width": null,
            "object_fit": null,
            "object_position": null,
            "order": null,
            "overflow": null,
            "padding": null,
            "right": null,
            "top": null,
            "visibility": null,
            "width": null
          }
        },
        "68eec6616c32433baafac2a56721e818": {
          "model_module": "@jupyter-widgets/controls",
          "model_name": "ProgressStyleModel",
          "model_module_version": "2.0.0",
          "state": {
            "_model_module": "@jupyter-widgets/controls",
            "_model_module_version": "2.0.0",
            "_model_name": "ProgressStyleModel",
            "_view_count": null,
            "_view_module": "@jupyter-widgets/base",
            "_view_module_version": "2.0.0",
            "_view_name": "StyleView",
            "bar_color": null,
            "description_width": ""
          }
        },
        "45ad7ab195584df9981c7437b81df79d": {
          "model_module": "@jupyter-widgets/base",
          "model_name": "LayoutModel",
          "model_module_version": "2.0.0",
          "state": {
            "_model_module": "@jupyter-widgets/base",
            "_model_module_version": "2.0.0",
            "_model_name": "LayoutModel",
            "_view_count": null,
            "_view_module": "@jupyter-widgets/base",
            "_view_module_version": "2.0.0",
            "_view_name": "LayoutView",
            "align_content": null,
            "align_items": null,
            "align_self": null,
            "border_bottom": null,
            "border_left": null,
            "border_right": null,
            "border_top": null,
            "bottom": null,
            "display": null,
            "flex": null,
            "flex_flow": null,
            "grid_area": null,
            "grid_auto_columns": null,
            "grid_auto_flow": null,
            "grid_auto_rows": null,
            "grid_column": null,
            "grid_gap": null,
            "grid_row": null,
            "grid_template_areas": null,
            "grid_template_columns": null,
            "grid_template_rows": null,
            "height": null,
            "justify_content": null,
            "justify_items": null,
            "left": null,
            "margin": null,
            "max_height": null,
            "max_width": null,
            "min_height": null,
            "min_width": null,
            "object_fit": null,
            "object_position": null,
            "order": null,
            "overflow": null,
            "padding": null,
            "right": null,
            "top": null,
            "visibility": null,
            "width": null
          }
        },
        "ad07b09cf57840ed84ffd5ba45030604": {
          "model_module": "@jupyter-widgets/controls",
          "model_name": "HTMLStyleModel",
          "model_module_version": "2.0.0",
          "state": {
            "_model_module": "@jupyter-widgets/controls",
            "_model_module_version": "2.0.0",
            "_model_name": "HTMLStyleModel",
            "_view_count": null,
            "_view_module": "@jupyter-widgets/base",
            "_view_module_version": "2.0.0",
            "_view_name": "StyleView",
            "background": null,
            "description_width": "",
            "font_size": null,
            "text_color": null
          }
        },
        "37fa304b8d3640d19c7e33f8cdd4bd19": {
          "model_module": "@jupyter-widgets/controls",
          "model_name": "HBoxModel",
          "model_module_version": "2.0.0",
          "state": {
            "_dom_classes": [],
            "_model_module": "@jupyter-widgets/controls",
            "_model_module_version": "2.0.0",
            "_model_name": "HBoxModel",
            "_view_count": null,
            "_view_module": "@jupyter-widgets/controls",
            "_view_module_version": "2.0.0",
            "_view_name": "HBoxView",
            "box_style": "",
            "children": [
              "IPY_MODEL_2119ac636a4f4a27a0bfe8397e3cf1fa",
              "IPY_MODEL_7dbfb63671904705a3c431b272c211a3",
              "IPY_MODEL_52399d594fce46a3897b9ced4f9d697c"
            ],
            "layout": "IPY_MODEL_f648b8e519944ad39056ff41d6edaa59",
            "tabbable": null,
            "tooltip": null
          }
        },
        "2119ac636a4f4a27a0bfe8397e3cf1fa": {
          "model_module": "@jupyter-widgets/controls",
          "model_name": "HTMLModel",
          "model_module_version": "2.0.0",
          "state": {
            "_dom_classes": [],
            "_model_module": "@jupyter-widgets/controls",
            "_model_module_version": "2.0.0",
            "_model_name": "HTMLModel",
            "_view_count": null,
            "_view_module": "@jupyter-widgets/controls",
            "_view_module_version": "2.0.0",
            "_view_name": "HTMLView",
            "description": "",
            "description_allow_html": false,
            "layout": "IPY_MODEL_da23838328e5494698e3c18b5381774c",
            "placeholder": "​",
            "style": "IPY_MODEL_d95108b8f96c4acaae225629dc74f804",
            "tabbable": null,
            "tooltip": null,
            "value": "Downloading merges.txt: 100%"
          }
        },
        "7dbfb63671904705a3c431b272c211a3": {
          "model_module": "@jupyter-widgets/controls",
          "model_name": "FloatProgressModel",
          "model_module_version": "2.0.0",
          "state": {
            "_dom_classes": [],
            "_model_module": "@jupyter-widgets/controls",
            "_model_module_version": "2.0.0",
            "_model_name": "FloatProgressModel",
            "_view_count": null,
            "_view_module": "@jupyter-widgets/controls",
            "_view_module_version": "2.0.0",
            "_view_name": "ProgressView",
            "bar_style": "success",
            "description": "",
            "description_allow_html": false,
            "layout": "IPY_MODEL_e994dd85b98f4be988e2b085eb634ed9",
            "max": 456318,
            "min": 0,
            "orientation": "horizontal",
            "style": "IPY_MODEL_fee987bd1354489f86335cca32eb3cd8",
            "tabbable": null,
            "tooltip": null,
            "value": 456318
          }
        },
        "52399d594fce46a3897b9ced4f9d697c": {
          "model_module": "@jupyter-widgets/controls",
          "model_name": "HTMLModel",
          "model_module_version": "2.0.0",
          "state": {
            "_dom_classes": [],
            "_model_module": "@jupyter-widgets/controls",
            "_model_module_version": "2.0.0",
            "_model_name": "HTMLModel",
            "_view_count": null,
            "_view_module": "@jupyter-widgets/controls",
            "_view_module_version": "2.0.0",
            "_view_name": "HTMLView",
            "description": "",
            "description_allow_html": false,
            "layout": "IPY_MODEL_e0073f5983f1437a95162c0336ac7c9a",
            "placeholder": "​",
            "style": "IPY_MODEL_124fa24f603748329375b6ab8ebec267",
            "tabbable": null,
            "tooltip": null,
            "value": " 446k/446k [00:00&lt;00:00, 888kB/s]"
          }
        },
        "f648b8e519944ad39056ff41d6edaa59": {
          "model_module": "@jupyter-widgets/base",
          "model_name": "LayoutModel",
          "model_module_version": "2.0.0",
          "state": {
            "_model_module": "@jupyter-widgets/base",
            "_model_module_version": "2.0.0",
            "_model_name": "LayoutModel",
            "_view_count": null,
            "_view_module": "@jupyter-widgets/base",
            "_view_module_version": "2.0.0",
            "_view_name": "LayoutView",
            "align_content": null,
            "align_items": null,
            "align_self": null,
            "border_bottom": null,
            "border_left": null,
            "border_right": null,
            "border_top": null,
            "bottom": null,
            "display": null,
            "flex": null,
            "flex_flow": null,
            "grid_area": null,
            "grid_auto_columns": null,
            "grid_auto_flow": null,
            "grid_auto_rows": null,
            "grid_column": null,
            "grid_gap": null,
            "grid_row": null,
            "grid_template_areas": null,
            "grid_template_columns": null,
            "grid_template_rows": null,
            "height": null,
            "justify_content": null,
            "justify_items": null,
            "left": null,
            "margin": null,
            "max_height": null,
            "max_width": null,
            "min_height": null,
            "min_width": null,
            "object_fit": null,
            "object_position": null,
            "order": null,
            "overflow": null,
            "padding": null,
            "right": null,
            "top": null,
            "visibility": null,
            "width": null
          }
        },
        "da23838328e5494698e3c18b5381774c": {
          "model_module": "@jupyter-widgets/base",
          "model_name": "LayoutModel",
          "model_module_version": "2.0.0",
          "state": {
            "_model_module": "@jupyter-widgets/base",
            "_model_module_version": "2.0.0",
            "_model_name": "LayoutModel",
            "_view_count": null,
            "_view_module": "@jupyter-widgets/base",
            "_view_module_version": "2.0.0",
            "_view_name": "LayoutView",
            "align_content": null,
            "align_items": null,
            "align_self": null,
            "border_bottom": null,
            "border_left": null,
            "border_right": null,
            "border_top": null,
            "bottom": null,
            "display": null,
            "flex": null,
            "flex_flow": null,
            "grid_area": null,
            "grid_auto_columns": null,
            "grid_auto_flow": null,
            "grid_auto_rows": null,
            "grid_column": null,
            "grid_gap": null,
            "grid_row": null,
            "grid_template_areas": null,
            "grid_template_columns": null,
            "grid_template_rows": null,
            "height": null,
            "justify_content": null,
            "justify_items": null,
            "left": null,
            "margin": null,
            "max_height": null,
            "max_width": null,
            "min_height": null,
            "min_width": null,
            "object_fit": null,
            "object_position": null,
            "order": null,
            "overflow": null,
            "padding": null,
            "right": null,
            "top": null,
            "visibility": null,
            "width": null
          }
        },
        "d95108b8f96c4acaae225629dc74f804": {
          "model_module": "@jupyter-widgets/controls",
          "model_name": "HTMLStyleModel",
          "model_module_version": "2.0.0",
          "state": {
            "_model_module": "@jupyter-widgets/controls",
            "_model_module_version": "2.0.0",
            "_model_name": "HTMLStyleModel",
            "_view_count": null,
            "_view_module": "@jupyter-widgets/base",
            "_view_module_version": "2.0.0",
            "_view_name": "StyleView",
            "background": null,
            "description_width": "",
            "font_size": null,
            "text_color": null
          }
        },
        "e994dd85b98f4be988e2b085eb634ed9": {
          "model_module": "@jupyter-widgets/base",
          "model_name": "LayoutModel",
          "model_module_version": "2.0.0",
          "state": {
            "_model_module": "@jupyter-widgets/base",
            "_model_module_version": "2.0.0",
            "_model_name": "LayoutModel",
            "_view_count": null,
            "_view_module": "@jupyter-widgets/base",
            "_view_module_version": "2.0.0",
            "_view_name": "LayoutView",
            "align_content": null,
            "align_items": null,
            "align_self": null,
            "border_bottom": null,
            "border_left": null,
            "border_right": null,
            "border_top": null,
            "bottom": null,
            "display": null,
            "flex": null,
            "flex_flow": null,
            "grid_area": null,
            "grid_auto_columns": null,
            "grid_auto_flow": null,
            "grid_auto_rows": null,
            "grid_column": null,
            "grid_gap": null,
            "grid_row": null,
            "grid_template_areas": null,
            "grid_template_columns": null,
            "grid_template_rows": null,
            "height": null,
            "justify_content": null,
            "justify_items": null,
            "left": null,
            "margin": null,
            "max_height": null,
            "max_width": null,
            "min_height": null,
            "min_width": null,
            "object_fit": null,
            "object_position": null,
            "order": null,
            "overflow": null,
            "padding": null,
            "right": null,
            "top": null,
            "visibility": null,
            "width": null
          }
        },
        "fee987bd1354489f86335cca32eb3cd8": {
          "model_module": "@jupyter-widgets/controls",
          "model_name": "ProgressStyleModel",
          "model_module_version": "2.0.0",
          "state": {
            "_model_module": "@jupyter-widgets/controls",
            "_model_module_version": "2.0.0",
            "_model_name": "ProgressStyleModel",
            "_view_count": null,
            "_view_module": "@jupyter-widgets/base",
            "_view_module_version": "2.0.0",
            "_view_name": "StyleView",
            "bar_color": null,
            "description_width": ""
          }
        },
        "e0073f5983f1437a95162c0336ac7c9a": {
          "model_module": "@jupyter-widgets/base",
          "model_name": "LayoutModel",
          "model_module_version": "2.0.0",
          "state": {
            "_model_module": "@jupyter-widgets/base",
            "_model_module_version": "2.0.0",
            "_model_name": "LayoutModel",
            "_view_count": null,
            "_view_module": "@jupyter-widgets/base",
            "_view_module_version": "2.0.0",
            "_view_name": "LayoutView",
            "align_content": null,
            "align_items": null,
            "align_self": null,
            "border_bottom": null,
            "border_left": null,
            "border_right": null,
            "border_top": null,
            "bottom": null,
            "display": null,
            "flex": null,
            "flex_flow": null,
            "grid_area": null,
            "grid_auto_columns": null,
            "grid_auto_flow": null,
            "grid_auto_rows": null,
            "grid_column": null,
            "grid_gap": null,
            "grid_row": null,
            "grid_template_areas": null,
            "grid_template_columns": null,
            "grid_template_rows": null,
            "height": null,
            "justify_content": null,
            "justify_items": null,
            "left": null,
            "margin": null,
            "max_height": null,
            "max_width": null,
            "min_height": null,
            "min_width": null,
            "object_fit": null,
            "object_position": null,
            "order": null,
            "overflow": null,
            "padding": null,
            "right": null,
            "top": null,
            "visibility": null,
            "width": null
          }
        },
        "124fa24f603748329375b6ab8ebec267": {
          "model_module": "@jupyter-widgets/controls",
          "model_name": "HTMLStyleModel",
          "model_module_version": "2.0.0",
          "state": {
            "_model_module": "@jupyter-widgets/controls",
            "_model_module_version": "2.0.0",
            "_model_name": "HTMLStyleModel",
            "_view_count": null,
            "_view_module": "@jupyter-widgets/base",
            "_view_module_version": "2.0.0",
            "_view_name": "StyleView",
            "background": null,
            "description_width": "",
            "font_size": null,
            "text_color": null
          }
        },
        "6fcf14e1e1d34dd190c206a5de0a319f": {
          "model_module": "@jupyter-widgets/controls",
          "model_name": "HBoxModel",
          "model_module_version": "2.0.0",
          "state": {
            "_dom_classes": [],
            "_model_module": "@jupyter-widgets/controls",
            "_model_module_version": "2.0.0",
            "_model_name": "HBoxModel",
            "_view_count": null,
            "_view_module": "@jupyter-widgets/controls",
            "_view_module_version": "2.0.0",
            "_view_name": "HBoxView",
            "box_style": "",
            "children": [
              "IPY_MODEL_2dc3007087ef4f6190ce1dac16d2d5fa",
              "IPY_MODEL_fc1824e6dee34296a518b400cae86586",
              "IPY_MODEL_a9139706da214cc1a0b2050297257f73"
            ],
            "layout": "IPY_MODEL_a1fbe101fb9044cb8d264f688ee9a474",
            "tabbable": null,
            "tooltip": null
          }
        },
        "2dc3007087ef4f6190ce1dac16d2d5fa": {
          "model_module": "@jupyter-widgets/controls",
          "model_name": "HTMLModel",
          "model_module_version": "2.0.0",
          "state": {
            "_dom_classes": [],
            "_model_module": "@jupyter-widgets/controls",
            "_model_module_version": "2.0.0",
            "_model_name": "HTMLModel",
            "_view_count": null,
            "_view_module": "@jupyter-widgets/controls",
            "_view_module_version": "2.0.0",
            "_view_name": "HTMLView",
            "description": "",
            "description_allow_html": false,
            "layout": "IPY_MODEL_adaba5bd0ef641aba41cd77de09e2e51",
            "placeholder": "​",
            "style": "IPY_MODEL_4876aed4d70546a0ae7d922e89573549",
            "tabbable": null,
            "tooltip": null,
            "value": "Downloading tokenizer.json: 100%"
          }
        },
        "fc1824e6dee34296a518b400cae86586": {
          "model_module": "@jupyter-widgets/controls",
          "model_name": "FloatProgressModel",
          "model_module_version": "2.0.0",
          "state": {
            "_dom_classes": [],
            "_model_module": "@jupyter-widgets/controls",
            "_model_module_version": "2.0.0",
            "_model_name": "FloatProgressModel",
            "_view_count": null,
            "_view_module": "@jupyter-widgets/controls",
            "_view_module_version": "2.0.0",
            "_view_name": "ProgressView",
            "bar_style": "success",
            "description": "",
            "description_allow_html": false,
            "layout": "IPY_MODEL_7162386353eb4a219e80252b39a5f61a",
            "max": 1355863,
            "min": 0,
            "orientation": "horizontal",
            "style": "IPY_MODEL_e3f473c1296c46659ace2aa936e0f31b",
            "tabbable": null,
            "tooltip": null,
            "value": 1355863
          }
        },
        "a9139706da214cc1a0b2050297257f73": {
          "model_module": "@jupyter-widgets/controls",
          "model_name": "HTMLModel",
          "model_module_version": "2.0.0",
          "state": {
            "_dom_classes": [],
            "_model_module": "@jupyter-widgets/controls",
            "_model_module_version": "2.0.0",
            "_model_name": "HTMLModel",
            "_view_count": null,
            "_view_module": "@jupyter-widgets/controls",
            "_view_module_version": "2.0.0",
            "_view_name": "HTMLView",
            "description": "",
            "description_allow_html": false,
            "layout": "IPY_MODEL_bdbe2d8067fc4cb4a2b6352d1c739bdf",
            "placeholder": "​",
            "style": "IPY_MODEL_58404cd0f71c407da906098f2e2865d0",
            "tabbable": null,
            "tooltip": null,
            "value": " 1.29M/1.29M [00:00&lt;00:00, 2.88MB/s]"
          }
        },
        "a1fbe101fb9044cb8d264f688ee9a474": {
          "model_module": "@jupyter-widgets/base",
          "model_name": "LayoutModel",
          "model_module_version": "2.0.0",
          "state": {
            "_model_module": "@jupyter-widgets/base",
            "_model_module_version": "2.0.0",
            "_model_name": "LayoutModel",
            "_view_count": null,
            "_view_module": "@jupyter-widgets/base",
            "_view_module_version": "2.0.0",
            "_view_name": "LayoutView",
            "align_content": null,
            "align_items": null,
            "align_self": null,
            "border_bottom": null,
            "border_left": null,
            "border_right": null,
            "border_top": null,
            "bottom": null,
            "display": null,
            "flex": null,
            "flex_flow": null,
            "grid_area": null,
            "grid_auto_columns": null,
            "grid_auto_flow": null,
            "grid_auto_rows": null,
            "grid_column": null,
            "grid_gap": null,
            "grid_row": null,
            "grid_template_areas": null,
            "grid_template_columns": null,
            "grid_template_rows": null,
            "height": null,
            "justify_content": null,
            "justify_items": null,
            "left": null,
            "margin": null,
            "max_height": null,
            "max_width": null,
            "min_height": null,
            "min_width": null,
            "object_fit": null,
            "object_position": null,
            "order": null,
            "overflow": null,
            "padding": null,
            "right": null,
            "top": null,
            "visibility": null,
            "width": null
          }
        },
        "adaba5bd0ef641aba41cd77de09e2e51": {
          "model_module": "@jupyter-widgets/base",
          "model_name": "LayoutModel",
          "model_module_version": "2.0.0",
          "state": {
            "_model_module": "@jupyter-widgets/base",
            "_model_module_version": "2.0.0",
            "_model_name": "LayoutModel",
            "_view_count": null,
            "_view_module": "@jupyter-widgets/base",
            "_view_module_version": "2.0.0",
            "_view_name": "LayoutView",
            "align_content": null,
            "align_items": null,
            "align_self": null,
            "border_bottom": null,
            "border_left": null,
            "border_right": null,
            "border_top": null,
            "bottom": null,
            "display": null,
            "flex": null,
            "flex_flow": null,
            "grid_area": null,
            "grid_auto_columns": null,
            "grid_auto_flow": null,
            "grid_auto_rows": null,
            "grid_column": null,
            "grid_gap": null,
            "grid_row": null,
            "grid_template_areas": null,
            "grid_template_columns": null,
            "grid_template_rows": null,
            "height": null,
            "justify_content": null,
            "justify_items": null,
            "left": null,
            "margin": null,
            "max_height": null,
            "max_width": null,
            "min_height": null,
            "min_width": null,
            "object_fit": null,
            "object_position": null,
            "order": null,
            "overflow": null,
            "padding": null,
            "right": null,
            "top": null,
            "visibility": null,
            "width": null
          }
        },
        "4876aed4d70546a0ae7d922e89573549": {
          "model_module": "@jupyter-widgets/controls",
          "model_name": "HTMLStyleModel",
          "model_module_version": "2.0.0",
          "state": {
            "_model_module": "@jupyter-widgets/controls",
            "_model_module_version": "2.0.0",
            "_model_name": "HTMLStyleModel",
            "_view_count": null,
            "_view_module": "@jupyter-widgets/base",
            "_view_module_version": "2.0.0",
            "_view_name": "StyleView",
            "background": null,
            "description_width": "",
            "font_size": null,
            "text_color": null
          }
        },
        "7162386353eb4a219e80252b39a5f61a": {
          "model_module": "@jupyter-widgets/base",
          "model_name": "LayoutModel",
          "model_module_version": "2.0.0",
          "state": {
            "_model_module": "@jupyter-widgets/base",
            "_model_module_version": "2.0.0",
            "_model_name": "LayoutModel",
            "_view_count": null,
            "_view_module": "@jupyter-widgets/base",
            "_view_module_version": "2.0.0",
            "_view_name": "LayoutView",
            "align_content": null,
            "align_items": null,
            "align_self": null,
            "border_bottom": null,
            "border_left": null,
            "border_right": null,
            "border_top": null,
            "bottom": null,
            "display": null,
            "flex": null,
            "flex_flow": null,
            "grid_area": null,
            "grid_auto_columns": null,
            "grid_auto_flow": null,
            "grid_auto_rows": null,
            "grid_column": null,
            "grid_gap": null,
            "grid_row": null,
            "grid_template_areas": null,
            "grid_template_columns": null,
            "grid_template_rows": null,
            "height": null,
            "justify_content": null,
            "justify_items": null,
            "left": null,
            "margin": null,
            "max_height": null,
            "max_width": null,
            "min_height": null,
            "min_width": null,
            "object_fit": null,
            "object_position": null,
            "order": null,
            "overflow": null,
            "padding": null,
            "right": null,
            "top": null,
            "visibility": null,
            "width": null
          }
        },
        "e3f473c1296c46659ace2aa936e0f31b": {
          "model_module": "@jupyter-widgets/controls",
          "model_name": "ProgressStyleModel",
          "model_module_version": "2.0.0",
          "state": {
            "_model_module": "@jupyter-widgets/controls",
            "_model_module_version": "2.0.0",
            "_model_name": "ProgressStyleModel",
            "_view_count": null,
            "_view_module": "@jupyter-widgets/base",
            "_view_module_version": "2.0.0",
            "_view_name": "StyleView",
            "bar_color": null,
            "description_width": ""
          }
        },
        "bdbe2d8067fc4cb4a2b6352d1c739bdf": {
          "model_module": "@jupyter-widgets/base",
          "model_name": "LayoutModel",
          "model_module_version": "2.0.0",
          "state": {
            "_model_module": "@jupyter-widgets/base",
            "_model_module_version": "2.0.0",
            "_model_name": "LayoutModel",
            "_view_count": null,
            "_view_module": "@jupyter-widgets/base",
            "_view_module_version": "2.0.0",
            "_view_name": "LayoutView",
            "align_content": null,
            "align_items": null,
            "align_self": null,
            "border_bottom": null,
            "border_left": null,
            "border_right": null,
            "border_top": null,
            "bottom": null,
            "display": null,
            "flex": null,
            "flex_flow": null,
            "grid_area": null,
            "grid_auto_columns": null,
            "grid_auto_flow": null,
            "grid_auto_rows": null,
            "grid_column": null,
            "grid_gap": null,
            "grid_row": null,
            "grid_template_areas": null,
            "grid_template_columns": null,
            "grid_template_rows": null,
            "height": null,
            "justify_content": null,
            "justify_items": null,
            "left": null,
            "margin": null,
            "max_height": null,
            "max_width": null,
            "min_height": null,
            "min_width": null,
            "object_fit": null,
            "object_position": null,
            "order": null,
            "overflow": null,
            "padding": null,
            "right": null,
            "top": null,
            "visibility": null,
            "width": null
          }
        },
        "58404cd0f71c407da906098f2e2865d0": {
          "model_module": "@jupyter-widgets/controls",
          "model_name": "HTMLStyleModel",
          "model_module_version": "2.0.0",
          "state": {
            "_model_module": "@jupyter-widgets/controls",
            "_model_module_version": "2.0.0",
            "_model_name": "HTMLStyleModel",
            "_view_count": null,
            "_view_module": "@jupyter-widgets/base",
            "_view_module_version": "2.0.0",
            "_view_name": "StyleView",
            "background": null,
            "description_width": "",
            "font_size": null,
            "text_color": null
          }
        }
      }
    }
  },
  "nbformat": 4,
  "nbformat_minor": 0
}
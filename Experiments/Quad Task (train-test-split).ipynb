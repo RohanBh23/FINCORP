{
  "cells": [
    {
      "cell_type": "markdown",
      "metadata": {
        "id": "nw0zI9aL8ovB"
      },
      "source": [
        "# **Dependencies**"
      ]
    },
    {
      "cell_type": "code",
      "execution_count": null,
      "metadata": {
        "id": "lHQM3YIX2O0u"
      },
      "outputs": [],
      "source": [
        "pip install transformers"
      ]
    },
    {
      "cell_type": "code",
      "execution_count": 2,
      "metadata": {
        "id": "ioIYt5I51_pQ"
      },
      "outputs": [],
      "source": [
        "import tensorflow as tf\n",
        "\n",
        "from keras.layers import Dense, Dropout, Embedding, LSTM, Bidirectional\n",
        "from tensorflow.keras.layers import Embedding, LSTM, Dense, Bidirectional\n",
        "from tensorflow.keras.layers.experimental.preprocessing import TextVectorization\n",
        "from tensorflow.keras.models import Sequential\n",
        "from tensorflow.keras.optimizers import Adam\n",
        "from transformers import BertTokenizer, TFBertModel\n",
        "\n",
        "import numpy as np\n",
        "import os\n",
        "import pandas as pd\n",
        "from sklearn.model_selection import train_test_split"
      ]
    },
    {
      "cell_type": "code",
      "execution_count": 3,
      "metadata": {
        "id": "8sXleoL31_sU"
      },
      "outputs": [],
      "source": [
        "os.environ[\"WANDB_API_KEY\"] = \"0\""
      ]
    },
    {
      "cell_type": "code",
      "execution_count": 6,
      "metadata": {
        "colab": {
          "base_uri": "https://localhost:8080/"
        },
        "id": "tltpM7s11_v-",
        "outputId": "8fda96e0-7bb7-4a16-dac1-7eb745209734"
      },
      "outputs": [
        {
          "output_type": "stream",
          "name": "stdout",
          "text": [
            "Number of replicas: 1\n"
          ]
        }
      ],
      "source": [
        "try:\n",
        "    tpu = tf.distribute.cluster_resolver.TPUClusterResolver()\n",
        "    tf.config.experimental_connect_to_cluster(tpu)\n",
        "    tf.tpu.experimental.initialize_tpu_system(tpu)\n",
        "    strategy = tf.distribute.TPUStrategy(tpu)\n",
        "except ValueError:\n",
        "    strategy = tf.distribute.get_strategy() # for CPU and single GPU\n",
        "    print('Number of replicas:', strategy.num_replicas_in_sync)"
      ]
    },
    {
      "cell_type": "code",
      "execution_count": 7,
      "metadata": {
        "id": "xmB8scfb1_zc"
      },
      "outputs": [],
      "source": [
        "max_length = 200\n",
        "batch_size = 32\n",
        "# dev_size = 0.25"
      ]
    },
    {
      "cell_type": "code",
      "execution_count": 8,
      "metadata": {
        "colab": {
          "base_uri": "https://localhost:8080/",
          "height": 145,
          "referenced_widgets": [
            "29a23d5618694a6b88ab736e511eb859",
            "41bbcd49fed443ab9c7ace9fbb9416ae",
            "c560f32980634e2abd9fdd19164f4177",
            "6efe8902fd684b2aa0692e1b0ae2b634",
            "b32a0992ae524d3aa5de370d47b58165",
            "22f5c4a59e7f4accb26160ed2091fe2a",
            "6eaf6bedefdd408682666a7163d58270",
            "e9d24b23deef4aeca291eca1700b6822",
            "47baf24433954bd7af1f201e68b2f7db",
            "093cf75b2a524fc9965552c74d9fe61b",
            "79a0a3f0aacb42788df9b4365cdfa64d",
            "d799727d41904980a67b055bd0561156",
            "7087fbd6ee954ca19f5dfe5b462df019",
            "cf0dcf08ab7a48b39f89f670d7d48f44",
            "0ff0ae4c442a4f659d7c8806f2bd6821",
            "86a37a62e5b84a35be24763aba0bd3a4",
            "04d57c6ed1da489fb93c3255e77dc926",
            "52ecc7ced45545dca480719b9c2a4eea",
            "8501c6adad38438bb4d4e52a2d8fc1b1",
            "c6329508b08f4f9badb20c73f000390d",
            "3569e80bec7e4101bd26921c104fa2b7",
            "975d7bdfab414fb2afea8292727baf82",
            "e0e473a164a64c269a3d093aa76f6ae7",
            "0d708e8bb45341c28384abcf1d9561b2",
            "f1b202921ba843a08d42f4f62e48a3f2",
            "a1c67f0882474812a09d95b3c2fc05a6",
            "90562b5aa4ba48da8a61cedb39063d4d",
            "8a23058372444272bf25132f1fb85a66",
            "fbd4b70c613c442fb55c546b662907ed",
            "fc42224ffa85456da8da5ae1e14eff0f",
            "fb972e05cff44cf2944f40fec8e297d9",
            "286e3c753cb9438bb1a28368f62938e2",
            "52c7b9aef2fd44cb907b8046b42f1e6c",
            "ab959eda9bbb4d18b0eff8b7fdccbe2b",
            "8bd72caea6f847309e38703f5a8c4e2f",
            "bdba50495a0041bebc7f6104b8b6d9a1",
            "75c382cf329b44029c411ce707136c6e",
            "61db7ebb91354b2a8fa108d22f727b89",
            "ad319f8fd9d74f5ead0785c52dde5506",
            "b55d59d7539449d89c7bb67fd900fea1",
            "fe8f8f3df0fa4f4cb39a43091e55876d",
            "cb8f27495b2e460cbf65a3f4588edfe3",
            "910369ba84ac49fbbe1634f0189d480e",
            "a21fcfb6be7f49c2a979fabf60b1e3b7"
          ]
        },
        "id": "raWH_kGce7Kh",
        "outputId": "27bce884-04cb-49e3-d400-2438d850cf0e"
      },
      "outputs": [
        {
          "output_type": "display_data",
          "data": {
            "text/plain": [
              "Downloading config.json:   0%|          | 0.00/481 [00:00<?, ?B/s]"
            ],
            "application/vnd.jupyter.widget-view+json": {
              "version_major": 2,
              "version_minor": 0,
              "model_id": "29a23d5618694a6b88ab736e511eb859"
            }
          },
          "metadata": {}
        },
        {
          "output_type": "display_data",
          "data": {
            "text/plain": [
              "Downloading vocab.json:   0%|          | 0.00/878k [00:00<?, ?B/s]"
            ],
            "application/vnd.jupyter.widget-view+json": {
              "version_major": 2,
              "version_minor": 0,
              "model_id": "d799727d41904980a67b055bd0561156"
            }
          },
          "metadata": {}
        },
        {
          "output_type": "display_data",
          "data": {
            "text/plain": [
              "Downloading merges.txt:   0%|          | 0.00/446k [00:00<?, ?B/s]"
            ],
            "application/vnd.jupyter.widget-view+json": {
              "version_major": 2,
              "version_minor": 0,
              "model_id": "e0e473a164a64c269a3d093aa76f6ae7"
            }
          },
          "metadata": {}
        },
        {
          "output_type": "display_data",
          "data": {
            "text/plain": [
              "Downloading tokenizer.json:   0%|          | 0.00/1.29M [00:00<?, ?B/s]"
            ],
            "application/vnd.jupyter.widget-view+json": {
              "version_major": 2,
              "version_minor": 0,
              "model_id": "ab959eda9bbb4d18b0eff8b7fdccbe2b"
            }
          },
          "metadata": {}
        }
      ],
      "source": [
        "from transformers import AutoTokenizer, AutoModelForMaskedLM\n",
        "tokenizer = AutoTokenizer.from_pretrained(\"roberta-base\")"
      ]
    },
    {
      "cell_type": "code",
      "execution_count": 8,
      "metadata": {
        "id": "7-2RvyUIcj7_"
      },
      "outputs": [],
      "source": []
    },
    {
      "cell_type": "markdown",
      "metadata": {
        "id": "LEqRXzdMzUDW"
      },
      "source": [
        "### **Dataset Preparation**"
      ]
    },
    {
      "cell_type": "code",
      "execution_count": 9,
      "metadata": {
        "id": "nPFrHTVbzUDX"
      },
      "outputs": [],
      "source": [
        "from sklearn import preprocessing\n",
        "le = preprocessing.LabelEncoder()"
      ]
    },
    {
      "cell_type": "code",
      "execution_count": 10,
      "metadata": {
        "id": "Wfiirg8bzUDY"
      },
      "outputs": [],
      "source": [
        "df = pd.read_csv('Fincorp.csv')\n",
        "df = df.sample(frac = 1)"
      ]
    },
    {
      "cell_type": "markdown",
      "metadata": {
        "id": "BM2Soha0zUDY"
      },
      "source": [
        "**Label Encoding**"
      ]
    },
    {
      "cell_type": "code",
      "execution_count": 11,
      "metadata": {
        "id": "c2gOcX3hzUDY"
      },
      "outputs": [],
      "source": [
        "df['Emotion'] = le.fit_transform(df['Emotion'])\n",
        "df['Severity level'] = le.fit_transform(df['Severity level'])\n",
        "df['Sentiment'] = le.fit_transform(df['Sentiment'])\n",
        "df['Emotion'] = le.fit_transform(df['Emotion'])"
      ]
    },
    {
      "cell_type": "code",
      "execution_count": 12,
      "metadata": {
        "colab": {
          "base_uri": "https://localhost:8080/",
          "height": 424
        },
        "id": "N7aLvm2qzUDZ",
        "outputId": "0340b76e-e1ee-41a4-893d-8e0e9cce94df"
      },
      "outputs": [
        {
          "output_type": "execute_result",
          "data": {
            "text/plain": [
              "                     Domain  \\\n",
              "5568  Stocks and investment   \n",
              "129        Transaction Fail   \n",
              "2196                    Tax   \n",
              "1752    Transaction Failure   \n",
              "3996                 Crypto   \n",
              "...                     ...   \n",
              "658        Customer Service   \n",
              "3819                  Stock   \n",
              "4565                Economy   \n",
              "1590                    ATM   \n",
              "5097             Debit card   \n",
              "\n",
              "                                     Complaint/ Opinion  Complaint Label  \\\n",
              "5568  Masks for Educators Mutual Aid Fund just bough...                0   \n",
              "129   @HDFCBank_Cares my issue related to loading an...                1   \n",
              "2196  @IncomeTaxIndia Dear Team, I filled the return...                1   \n",
              "1752  @CryptoZyte_News @CryptoPieceNFT Is blockchain...                1   \n",
              "3996  @TheHouseOfTrad1 @JasonPLowery The problem is ...                0   \n",
              "...                                                 ...              ...   \n",
              "658   @TheOfficialSBI Hello Team, Again I'm facing a...                1   \n",
              "3819  @NoMoreHeroes451 If you view BTC as property a...                0   \n",
              "4565  October-December sugar output up 4.75  at 115....                0   \n",
              "1590  @ChaseSupport are ATM and debit card services ...                1   \n",
              "5097  @rovercrc The best performing #alt in 2022 wil...                0   \n",
              "\n",
              "      Severity level  Sentiment  Emotion  \n",
              "5568               4          2        3  \n",
              "129                3          0        5  \n",
              "2196               2          0        5  \n",
              "1752               3          1        4  \n",
              "3996               4          1        5  \n",
              "...              ...        ...      ...  \n",
              "658                2          0        5  \n",
              "3819               4          2        3  \n",
              "4565               4          2        3  \n",
              "1590               1          0        5  \n",
              "5097               4          1        6  \n",
              "\n",
              "[6281 rows x 6 columns]"
            ],
            "text/html": [
              "\n",
              "  <div id=\"df-23f1e169-ec2a-4e6c-af09-7dce12466e92\">\n",
              "    <div class=\"colab-df-container\">\n",
              "      <div>\n",
              "<style scoped>\n",
              "    .dataframe tbody tr th:only-of-type {\n",
              "        vertical-align: middle;\n",
              "    }\n",
              "\n",
              "    .dataframe tbody tr th {\n",
              "        vertical-align: top;\n",
              "    }\n",
              "\n",
              "    .dataframe thead th {\n",
              "        text-align: right;\n",
              "    }\n",
              "</style>\n",
              "<table border=\"1\" class=\"dataframe\">\n",
              "  <thead>\n",
              "    <tr style=\"text-align: right;\">\n",
              "      <th></th>\n",
              "      <th>Domain</th>\n",
              "      <th>Complaint/ Opinion</th>\n",
              "      <th>Complaint Label</th>\n",
              "      <th>Severity level</th>\n",
              "      <th>Sentiment</th>\n",
              "      <th>Emotion</th>\n",
              "    </tr>\n",
              "  </thead>\n",
              "  <tbody>\n",
              "    <tr>\n",
              "      <th>5568</th>\n",
              "      <td>Stocks and investment</td>\n",
              "      <td>Masks for Educators Mutual Aid Fund just bough...</td>\n",
              "      <td>0</td>\n",
              "      <td>4</td>\n",
              "      <td>2</td>\n",
              "      <td>3</td>\n",
              "    </tr>\n",
              "    <tr>\n",
              "      <th>129</th>\n",
              "      <td>Transaction Fail</td>\n",
              "      <td>@HDFCBank_Cares my issue related to loading an...</td>\n",
              "      <td>1</td>\n",
              "      <td>3</td>\n",
              "      <td>0</td>\n",
              "      <td>5</td>\n",
              "    </tr>\n",
              "    <tr>\n",
              "      <th>2196</th>\n",
              "      <td>Tax</td>\n",
              "      <td>@IncomeTaxIndia Dear Team, I filled the return...</td>\n",
              "      <td>1</td>\n",
              "      <td>2</td>\n",
              "      <td>0</td>\n",
              "      <td>5</td>\n",
              "    </tr>\n",
              "    <tr>\n",
              "      <th>1752</th>\n",
              "      <td>Transaction Failure</td>\n",
              "      <td>@CryptoZyte_News @CryptoPieceNFT Is blockchain...</td>\n",
              "      <td>1</td>\n",
              "      <td>3</td>\n",
              "      <td>1</td>\n",
              "      <td>4</td>\n",
              "    </tr>\n",
              "    <tr>\n",
              "      <th>3996</th>\n",
              "      <td>Crypto</td>\n",
              "      <td>@TheHouseOfTrad1 @JasonPLowery The problem is ...</td>\n",
              "      <td>0</td>\n",
              "      <td>4</td>\n",
              "      <td>1</td>\n",
              "      <td>5</td>\n",
              "    </tr>\n",
              "    <tr>\n",
              "      <th>...</th>\n",
              "      <td>...</td>\n",
              "      <td>...</td>\n",
              "      <td>...</td>\n",
              "      <td>...</td>\n",
              "      <td>...</td>\n",
              "      <td>...</td>\n",
              "    </tr>\n",
              "    <tr>\n",
              "      <th>658</th>\n",
              "      <td>Customer Service</td>\n",
              "      <td>@TheOfficialSBI Hello Team, Again I'm facing a...</td>\n",
              "      <td>1</td>\n",
              "      <td>2</td>\n",
              "      <td>0</td>\n",
              "      <td>5</td>\n",
              "    </tr>\n",
              "    <tr>\n",
              "      <th>3819</th>\n",
              "      <td>Stock</td>\n",
              "      <td>@NoMoreHeroes451 If you view BTC as property a...</td>\n",
              "      <td>0</td>\n",
              "      <td>4</td>\n",
              "      <td>2</td>\n",
              "      <td>3</td>\n",
              "    </tr>\n",
              "    <tr>\n",
              "      <th>4565</th>\n",
              "      <td>Economy</td>\n",
              "      <td>October-December sugar output up 4.75  at 115....</td>\n",
              "      <td>0</td>\n",
              "      <td>4</td>\n",
              "      <td>2</td>\n",
              "      <td>3</td>\n",
              "    </tr>\n",
              "    <tr>\n",
              "      <th>1590</th>\n",
              "      <td>ATM</td>\n",
              "      <td>@ChaseSupport are ATM and debit card services ...</td>\n",
              "      <td>1</td>\n",
              "      <td>1</td>\n",
              "      <td>0</td>\n",
              "      <td>5</td>\n",
              "    </tr>\n",
              "    <tr>\n",
              "      <th>5097</th>\n",
              "      <td>Debit card</td>\n",
              "      <td>@rovercrc The best performing #alt in 2022 wil...</td>\n",
              "      <td>0</td>\n",
              "      <td>4</td>\n",
              "      <td>1</td>\n",
              "      <td>6</td>\n",
              "    </tr>\n",
              "  </tbody>\n",
              "</table>\n",
              "<p>6281 rows × 6 columns</p>\n",
              "</div>\n",
              "      <button class=\"colab-df-convert\" onclick=\"convertToInteractive('df-23f1e169-ec2a-4e6c-af09-7dce12466e92')\"\n",
              "              title=\"Convert this dataframe to an interactive table.\"\n",
              "              style=\"display:none;\">\n",
              "        \n",
              "  <svg xmlns=\"http://www.w3.org/2000/svg\" height=\"24px\"viewBox=\"0 0 24 24\"\n",
              "       width=\"24px\">\n",
              "    <path d=\"M0 0h24v24H0V0z\" fill=\"none\"/>\n",
              "    <path d=\"M18.56 5.44l.94 2.06.94-2.06 2.06-.94-2.06-.94-.94-2.06-.94 2.06-2.06.94zm-11 1L8.5 8.5l.94-2.06 2.06-.94-2.06-.94L8.5 2.5l-.94 2.06-2.06.94zm10 10l.94 2.06.94-2.06 2.06-.94-2.06-.94-.94-2.06-.94 2.06-2.06.94z\"/><path d=\"M17.41 7.96l-1.37-1.37c-.4-.4-.92-.59-1.43-.59-.52 0-1.04.2-1.43.59L10.3 9.45l-7.72 7.72c-.78.78-.78 2.05 0 2.83L4 21.41c.39.39.9.59 1.41.59.51 0 1.02-.2 1.41-.59l7.78-7.78 2.81-2.81c.8-.78.8-2.07 0-2.86zM5.41 20L4 18.59l7.72-7.72 1.47 1.35L5.41 20z\"/>\n",
              "  </svg>\n",
              "      </button>\n",
              "      \n",
              "  <style>\n",
              "    .colab-df-container {\n",
              "      display:flex;\n",
              "      flex-wrap:wrap;\n",
              "      gap: 12px;\n",
              "    }\n",
              "\n",
              "    .colab-df-convert {\n",
              "      background-color: #E8F0FE;\n",
              "      border: none;\n",
              "      border-radius: 50%;\n",
              "      cursor: pointer;\n",
              "      display: none;\n",
              "      fill: #1967D2;\n",
              "      height: 32px;\n",
              "      padding: 0 0 0 0;\n",
              "      width: 32px;\n",
              "    }\n",
              "\n",
              "    .colab-df-convert:hover {\n",
              "      background-color: #E2EBFA;\n",
              "      box-shadow: 0px 1px 2px rgba(60, 64, 67, 0.3), 0px 1px 3px 1px rgba(60, 64, 67, 0.15);\n",
              "      fill: #174EA6;\n",
              "    }\n",
              "\n",
              "    [theme=dark] .colab-df-convert {\n",
              "      background-color: #3B4455;\n",
              "      fill: #D2E3FC;\n",
              "    }\n",
              "\n",
              "    [theme=dark] .colab-df-convert:hover {\n",
              "      background-color: #434B5C;\n",
              "      box-shadow: 0px 1px 3px 1px rgba(0, 0, 0, 0.15);\n",
              "      filter: drop-shadow(0px 1px 2px rgba(0, 0, 0, 0.3));\n",
              "      fill: #FFFFFF;\n",
              "    }\n",
              "  </style>\n",
              "\n",
              "      <script>\n",
              "        const buttonEl =\n",
              "          document.querySelector('#df-23f1e169-ec2a-4e6c-af09-7dce12466e92 button.colab-df-convert');\n",
              "        buttonEl.style.display =\n",
              "          google.colab.kernel.accessAllowed ? 'block' : 'none';\n",
              "\n",
              "        async function convertToInteractive(key) {\n",
              "          const element = document.querySelector('#df-23f1e169-ec2a-4e6c-af09-7dce12466e92');\n",
              "          const dataTable =\n",
              "            await google.colab.kernel.invokeFunction('convertToInteractive',\n",
              "                                                     [key], {});\n",
              "          if (!dataTable) return;\n",
              "\n",
              "          const docLinkHtml = 'Like what you see? Visit the ' +\n",
              "            '<a target=\"_blank\" href=https://colab.research.google.com/notebooks/data_table.ipynb>data table notebook</a>'\n",
              "            + ' to learn more about interactive tables.';\n",
              "          element.innerHTML = '';\n",
              "          dataTable['output_type'] = 'display_data';\n",
              "          await google.colab.output.renderOutput(dataTable, element);\n",
              "          const docLink = document.createElement('div');\n",
              "          docLink.innerHTML = docLinkHtml;\n",
              "          element.appendChild(docLink);\n",
              "        }\n",
              "      </script>\n",
              "    </div>\n",
              "  </div>\n",
              "  "
            ]
          },
          "metadata": {},
          "execution_count": 12
        }
      ],
      "source": [
        "df"
      ]
    },
    {
      "cell_type": "code",
      "execution_count": 12,
      "metadata": {
        "id": "Y-1rZMMPzUDZ"
      },
      "outputs": [],
      "source": []
    },
    {
      "cell_type": "markdown",
      "metadata": {
        "id": "OeONKVNdzUDa"
      },
      "source": [
        "### **Tokenization (RoBERTa)**"
      ]
    },
    {
      "cell_type": "code",
      "execution_count": 13,
      "metadata": {
        "id": "eJmGG0JlzUDa"
      },
      "outputs": [],
      "source": [
        "def bert_encode(data):\n",
        "    tokens = tokenizer.batch_encode_plus(data, max_length=max_length, padding='max_length', truncation=True)\n",
        "    \n",
        "    return tf.constant(tokens['input_ids'])"
      ]
    },
    {
      "cell_type": "code",
      "execution_count": 14,
      "metadata": {
        "id": "vpp4xqZmwPUO"
      },
      "outputs": [],
      "source": [
        "import numpy as np\n",
        "from sklearn.model_selection import train_test_split\n",
        "\n",
        "df_train, df_test = train_test_split(df,  test_size=0.3, shuffle=True, random_state=42)"
      ]
    },
    {
      "cell_type": "code",
      "source": [
        "df_train, df_val = train_test_split(df_train,  test_size=0.15, shuffle=True, random_state=42)"
      ],
      "metadata": {
        "id": "YIpqFl9HwPUO"
      },
      "execution_count": 15,
      "outputs": []
    },
    {
      "cell_type": "code",
      "execution_count": 16,
      "metadata": {
        "id": "raFY1nKXzUDb"
      },
      "outputs": [],
      "source": [
        "train_encoded = bert_encode(df_train['Complaint/ Opinion'].values.tolist())"
      ]
    },
    {
      "cell_type": "code",
      "execution_count": 17,
      "metadata": {
        "id": "d7nPYs6fzUDb",
        "colab": {
          "base_uri": "https://localhost:8080/"
        },
        "outputId": "a3b47222-58ca-4654-d76d-ea494ab15a56"
      },
      "outputs": [
        {
          "output_type": "execute_result",
          "data": {
            "text/plain": [
              "(3736, 200)"
            ]
          },
          "metadata": {},
          "execution_count": 17
        }
      ],
      "source": [
        "train_encoded.numpy().shape"
      ]
    },
    {
      "cell_type": "code",
      "execution_count": 18,
      "metadata": {
        "id": "o2rQvcVBxGvS"
      },
      "outputs": [],
      "source": [
        "test_encoded = bert_encode(df_test['Complaint/ Opinion'].values.tolist())"
      ]
    },
    {
      "cell_type": "code",
      "execution_count": 19,
      "metadata": {
        "colab": {
          "base_uri": "https://localhost:8080/"
        },
        "outputId": "8666913c-cf1f-4e3c-b00d-9b7fae0cb80f",
        "id": "ydhwFmlqxGvT"
      },
      "outputs": [
        {
          "output_type": "execute_result",
          "data": {
            "text/plain": [
              "(1885, 200)"
            ]
          },
          "metadata": {},
          "execution_count": 19
        }
      ],
      "source": [
        "test_encoded.numpy().shape"
      ]
    },
    {
      "cell_type": "code",
      "execution_count": 20,
      "metadata": {
        "id": "AvtSq3yFxHX7"
      },
      "outputs": [],
      "source": [
        "val_encoded = bert_encode(df_val['Complaint/ Opinion'].values.tolist())"
      ]
    },
    {
      "cell_type": "code",
      "source": [],
      "metadata": {
        "id": "zRistpawA0xV"
      },
      "execution_count": 20,
      "outputs": []
    },
    {
      "cell_type": "markdown",
      "source": [
        "### **Creating Batched Dataset**"
      ],
      "metadata": {
        "id": "TRbKSEers4kg"
      }
    },
    {
      "cell_type": "code",
      "execution_count": 10,
      "metadata": {
        "id": "LiLQFeb79Vh2"
      },
      "outputs": [],
      "source": [
        "# For Single task experiments\n",
        "def gen_data1(x,y,batch_size=32):\n",
        "\n",
        "  num_examples = len(y)\n",
        "\n",
        "  while True:\n",
        "    x_batch = np.zeros((batch_size, 200))\n",
        "    y_batch = np.zeros((batch_size, ))\n",
        "\n",
        "    for i in range(0, batch_size):\n",
        "\n",
        "      index = np.random.randint(0, num_examples)\n",
        "      text , emo = x[index], y[index]\n",
        "\n",
        "      x_batch[i] = text\n",
        "      y_batch[i] = emo\n",
        "\n",
        "    yield x_batch, y_batch\n",
        "\n",
        "# For Bi-task Experiments\n",
        "def gen_data2(x,y,z, batch_size=32):\n",
        "\n",
        "  num_examples = len(y)\n",
        "\n",
        "  while True:\n",
        "    x_batch = np.zeros((batch_size, 200))\n",
        "    y_batch = np.zeros((batch_size, ))\n",
        "    z_batch = np.zeros((batch_size, ))  \n",
        "\n",
        "    for i in range(0, batch_size):\n",
        "\n",
        "      index = np.random.randint(0, num_examples)\n",
        "      text, comp, sev= x[index], y[index], z[index]\n",
        "\n",
        "      x_batch[i] = text\n",
        "      y_batch[i] = comp\n",
        "      z_batch[i] = sev\n",
        "\n",
        "    yield x_batch, [y_batch, z_batch]\n",
        "\n",
        "# For Tri-task Experiments\n",
        "def gen_data3(x,y,z, p, batch_size=32):\n",
        "\n",
        "  num_examples = len(y)\n",
        "\n",
        "  while True:\n",
        "    x_batch = np.zeros((batch_size, 200))\n",
        "    y_batch = np.zeros((batch_size, ))\n",
        "    z_batch = np.zeros((batch_size, ))\n",
        "    p_batch = np.zeros((batch_size, ))    \n",
        "\n",
        "    for i in range(0, batch_size):\n",
        "\n",
        "      index = np.random.randint(0, num_examples)\n",
        "      text, comp, sev, sent = x[index], y[index], z[index], p[index]\n",
        "\n",
        "      x_batch[i] = text\n",
        "      y_batch[i] = comp\n",
        "      z_batch[i] = sev\n",
        "      p_batch[i] = sent\n",
        "\n",
        "    yield x_batch, [y_batch, z_batch, p_batch]\n",
        "\n",
        "# For MTL experiments, ie all 4 tasks together\n",
        "def gen_data4(x,y,z, p, q, batch_size=32):\n",
        "\n",
        "  num_examples = len(y)\n",
        "\n",
        "  while True:\n",
        "    x_batch = np.zeros((batch_size, 200))\n",
        "    y_batch = np.zeros((batch_size, ))\n",
        "    z_batch = np.zeros((batch_size, ))\n",
        "    p_batch = np.zeros((batch_size, ))\n",
        "    q_batch = np.zeros((batch_size, ))\n",
        "\n",
        "    for i in range(0, batch_size):\n",
        "\n",
        "      index = np.random.randint(0, num_examples)\n",
        "      text, comp, sev, sent, emo = x[index], y[index], z[index], p[index], q[index]\n",
        "\n",
        "      x_batch[i] = text\n",
        "      y_batch[i] = comp\n",
        "      z_batch[i] = sev\n",
        "      p_batch[i] = sent\n",
        "      q_batch[i] = emo\n",
        "\n",
        "    yield x_batch, [y_batch, z_batch, p_batch, q_batch]"
      ]
    },
    {
      "cell_type": "code",
      "source": [
        "# Non-shuffled batches for getting the predictions on testing data and Macro F1 score calculation\n",
        "def gen_data_mtl(x,y,z, p,q, batch_size= 32):\n",
        "\n",
        "  xbatched = []\n",
        "  ybatched = []\n",
        "  zbatched = []\n",
        "  pbatched = []\n",
        "  qbatched = []\n",
        "\n",
        "\n",
        "  num_examples = len(y)\n",
        "  num = len(x)//batch_size\n",
        "  i = 1\n",
        "\n",
        "  while (i<num):\n",
        "\n",
        "    xbatched.append(x[32*i:32*(i+1)])\n",
        "    ybatched.append(y[32*i:32*(i+1)])\n",
        "    zbatched.append(z[32*i:32*(i+1)])\n",
        "    pbatched.append(p[32*i:32*(i+1)])\n",
        "    qbatched.append(q[32*i:32*(i+1)])\n",
        "    i+=1\n",
        "  \n",
        "  return xbatched, [ybatched, zbatched, pbatched, qbatched]\n",
        "\n",
        "# Non-shuffled batches\n",
        "def gen_data_tri(x,y,z, p, batch_size= 32):\n",
        "\n",
        "  xbatched = []\n",
        "  ybatched = []\n",
        "  zbatched = []\n",
        "  pbatched = []\n",
        "\n",
        "\n",
        "  num_examples = len(y)\n",
        "  num = len(x)//batch_size\n",
        "  i = 1\n",
        "\n",
        "  while (i<num):\n",
        "\n",
        "    xbatched.append(x[32*i:32*(i+1)])\n",
        "    ybatched.append(y[32*i:32*(i+1)])\n",
        "    zbatched.append(z[32*i:32*(i+1)])\n",
        "    pbatched.append(p[32*i:32*(i+1)])\n",
        "    i+=1\n",
        "  \n",
        "  return xbatched, [ybatched, zbatched, pbatched]  "
      ],
      "metadata": {
        "id": "Okpi0g6oxiaJ"
      },
      "execution_count": 11,
      "outputs": []
    },
    {
      "cell_type": "code",
      "source": [
        "train_er = gen_data4(train_encoded.numpy(),\n",
        "                     df_train['Complaint Label'].values ,\n",
        "                     df_train['Severity level'].values, \n",
        "                     df_train['Sentiment'].values,\n",
        "                     df_train['Emotion'].values)"
      ],
      "metadata": {
        "id": "GBD07hNR0GUh"
      },
      "execution_count": 23,
      "outputs": []
    },
    {
      "cell_type": "code",
      "source": [
        "test_er = gen_data4(test_encoded.numpy(),\n",
        "                    df_test['Complaint Label'].values ,\n",
        "                    df_test['Severity level'].values ,\n",
        "                    df_test['Sentiment'].values,\n",
        "                    df_test['Emotion'].values)"
      ],
      "metadata": {
        "id": "Szws1GDXyrx1"
      },
      "execution_count": 24,
      "outputs": []
    },
    {
      "cell_type": "code",
      "source": [
        "val_er = gen_data4(val_encoded.numpy(),\n",
        "                   df_val['Complaint Label'].values ,\n",
        "                   df_val['Severity level'].values, \n",
        "                   df_val['Sentiment'].values,\n",
        "                   df_val['Emotion'].values)"
      ],
      "metadata": {
        "id": "GTR-gM4F1Gn4"
      },
      "execution_count": 25,
      "outputs": []
    },
    {
      "cell_type": "markdown",
      "source": [
        "# **Model Building**"
      ],
      "metadata": {
        "id": "W0IcJwprz7V2"
      }
    },
    {
      "cell_type": "code",
      "execution_count": 12,
      "metadata": {
        "colab": {
          "base_uri": "https://localhost:8080/",
          "height": 156,
          "referenced_widgets": [
            "3b879a41eced425eb407ee3ea79dbf52",
            "8b16db45509546bbb1c881b9302134d1",
            "f225b4c2d60344a09acb6abf700f1da2",
            "5313387c719b499090f404b4a56a0ebe",
            "82407c0356364f519461e7e08ab89ad7",
            "3009fdbfaa2d4473a841f76b07a6bbf7",
            "2ac36ec0593846f9bfa7f8dd4a4c1eef",
            "91e1b029a76c4b20b1c7cb41419e72e2",
            "da3bd5fb4c444c77991eb081b94fefe2",
            "208ac354f07047d9a0a2feb8211878dd",
            "9c1342dba0e04ce88e4e5a58f8a59911"
          ]
        },
        "outputId": "337b35db-32be-4318-903c-a946de74d941",
        "id": "v8gQEVCtCkN0"
      },
      "outputs": [
        {
          "output_type": "display_data",
          "data": {
            "text/plain": [
              "Downloading tf_model.h5:   0%|          | 0.00/627M [00:00<?, ?B/s]"
            ],
            "application/vnd.jupyter.widget-view+json": {
              "version_major": 2,
              "version_minor": 0,
              "model_id": "3b879a41eced425eb407ee3ea79dbf52"
            }
          },
          "metadata": {}
        },
        {
          "output_type": "stream",
          "name": "stderr",
          "text": [
            "Some layers from the model checkpoint at roberta-base were not used when initializing TFRobertaModel: ['lm_head']\n",
            "- This IS expected if you are initializing TFRobertaModel from the checkpoint of a model trained on another task or with another architecture (e.g. initializing a BertForSequenceClassification model from a BertForPreTraining model).\n",
            "- This IS NOT expected if you are initializing TFRobertaModel from the checkpoint of a model that you expect to be exactly identical (initializing a BertForSequenceClassification model from a BertForSequenceClassification model).\n",
            "All the layers of TFRobertaModel were initialized from the model checkpoint at roberta-base.\n",
            "If your task is similar to the task the model of the checkpoint was trained on, you can already use TFRobertaModel for predictions without further training.\n"
          ]
        }
      ],
      "source": [
        "from transformers import TFAutoModel\n",
        "bert_encoder = TFAutoModel.from_pretrained(\"roberta-base\")"
      ]
    },
    {
      "cell_type": "code",
      "execution_count": 13,
      "metadata": {
        "id": "3QnSH_mxB2D1"
      },
      "outputs": [],
      "source": [
        "def bert_tweets_model_quad():\n",
        "\n",
        "    # Shared Layers - 1. RoBERTa embeddings 2. BiGRU layer \n",
        "    input_word_ids = tf.keras.Input(shape=(max_length,), dtype=tf.int32, name=\"input_ids\")\n",
        "    last_hidden_states = bert_encoder(input_word_ids)[0]    \n",
        "    x = Bidirectional(tf.keras.layers.GRU(100, dropout=0.3, recurrent_dropout=0.3))(last_hidden_states)\n",
        "\n",
        "    # Sentiment detection task (Auxiliary Task)\n",
        "    output3 = tf.keras.layers.Dense(3, activation='softmax', name='sent')(x)\n",
        "\n",
        "    # Emotion Detection task (Auxiliary Task)\n",
        "    output4 = tf.keras.layers.Dense(7, activation='softmax', name='emo')(x)\n",
        "\n",
        "    # Severity Detection Task with information from Auxiliary tasks fed\n",
        "    add = tf.keras.layers.Concatenate(axis=1)([x, output3, output4])\n",
        "    output2 = tf.keras.layers.Dense(5, activation='softmax', name='sev')(add)\n",
        "\n",
        "    # Complaint Detection Task with information from Auxiliary tasks fed\n",
        "    add = tf.keras.layers.Concatenate(axis=1)([x, output3 , output4])\n",
        "    output1 = tf.keras.layers.Dense(1, activation='sigmoid', name='comp')(add)\n",
        "\n",
        "    model = tf.keras.Model(inputs=input_word_ids, outputs=[output1,output2,output3, output4])\n",
        "    \n",
        "    return model"
      ]
    },
    {
      "cell_type": "code",
      "execution_count": 14,
      "metadata": {
        "id": "Ojpf8Wf-B2D1",
        "colab": {
          "base_uri": "https://localhost:8080/"
        },
        "outputId": "6b9891a5-703c-4e8c-e1e9-34bac2501127"
      },
      "outputs": [
        {
          "output_type": "stream",
          "name": "stderr",
          "text": [
            "WARNING:tensorflow:Layer gru will not use cuDNN kernels since it doesn't meet the criteria. It will use a generic GPU kernel as fallback when running on GPU.\n",
            "WARNING:tensorflow:Layer gru will not use cuDNN kernels since it doesn't meet the criteria. It will use a generic GPU kernel as fallback when running on GPU.\n",
            "WARNING:tensorflow:Layer gru will not use cuDNN kernels since it doesn't meet the criteria. It will use a generic GPU kernel as fallback when running on GPU.\n"
          ]
        }
      ],
      "source": [
        "model_diag = bert_tweets_model_quad()"
      ]
    },
    {
      "cell_type": "code",
      "execution_count": 15,
      "metadata": {
        "colab": {
          "base_uri": "https://localhost:8080/",
          "height": 564
        },
        "outputId": "bedb3eca-096f-4789-ab50-62ce5fe307b8",
        "id": "K26PgPCBB2D2"
      },
      "outputs": [
        {
          "output_type": "execute_result",
          "data": {
            "image/png": "[encoded data removed]",
            "text/plain": [
              "<IPython.core.display.Image object>"
            ]
          },
          "metadata": {},
          "execution_count": 15
        }
      ],
      "source": [
        "tf.keras.utils.plot_model(model_diag)"
      ]
    },
    {
      "cell_type": "code",
      "source": [],
      "metadata": {
        "id": "vkWp-gDQq6Du"
      },
      "execution_count": null,
      "outputs": []
    },
    {
      "cell_type": "markdown",
      "source": [
        "# **Final Execution**"
      ],
      "metadata": {
        "id": "TRg1MJM1tIUn"
      }
    },
    {
      "cell_type": "markdown",
      "source": [
        "## **Experiment 1**"
      ],
      "metadata": {
        "id": "snG36ynnq6QF"
      }
    },
    {
      "cell_type": "code",
      "execution_count": null,
      "metadata": {
        "colab": {
          "base_uri": "https://localhost:8080/"
        },
        "outputId": "c08c1b4f-f067-493f-f86c-2401cc38d313",
        "id": "O98c8CiY1aVp"
      },
      "outputs": [
        {
          "output_type": "stream",
          "name": "stderr",
          "text": [
            "WARNING:tensorflow:Layer gru_2 will not use cuDNN kernels since it doesn't meet the criteria. It will use a generic GPU kernel as fallback when running on GPU.\n",
            "WARNING:tensorflow:Layer gru_2 will not use cuDNN kernels since it doesn't meet the criteria. It will use a generic GPU kernel as fallback when running on GPU.\n",
            "WARNING:tensorflow:Layer gru_2 will not use cuDNN kernels since it doesn't meet the criteria. It will use a generic GPU kernel as fallback when running on GPU.\n"
          ]
        },
        {
          "output_type": "stream",
          "name": "stdout",
          "text": [
            "Epoch 1/3\n"
          ]
        },
        {
          "output_type": "stream",
          "name": "stderr",
          "text": [
            "WARNING:tensorflow:Gradients do not exist for variables ['tf_roberta_model/roberta/pooler/dense/kernel:0', 'tf_roberta_model/roberta/pooler/dense/bias:0'] when minimizing the loss. If you're using `model.compile()`, did you forget to provide a `loss`argument?\n",
            "WARNING:tensorflow:Gradients do not exist for variables ['tf_roberta_model/roberta/pooler/dense/kernel:0', 'tf_roberta_model/roberta/pooler/dense/bias:0'] when minimizing the loss. If you're using `model.compile()`, did you forget to provide a `loss`argument?\n"
          ]
        },
        {
          "output_type": "stream",
          "name": "stdout",
          "text": [
            "150/150 [==============================] - 455s 3s/step - loss: 2.9797 - comp_loss: 0.5650 - sev_loss: 1.1433 - sent_loss: 0.9224 - emo_loss: 1.6204 - comp_accuracy: 0.6821 - sev_accuracy: 0.5483 - sent_accuracy: 0.5852 - emo_accuracy: 0.4150 - val_loss: 2.0451 - val_comp_loss: 0.2297 - val_sev_loss: 0.7951 - val_sent_loss: 0.7273 - val_emo_loss: 1.3134 - val_comp_accuracy: 0.9228 - val_sev_accuracy: 0.7019 - val_sent_accuracy: 0.6791 - val_emo_accuracy: 0.5256\n",
            "Epoch 2/3\n",
            "150/150 [==============================] - 429s 3s/step - loss: 2.0352 - comp_loss: 0.2266 - sev_loss: 0.7540 - sent_loss: 0.7238 - emo_loss: 1.3854 - comp_accuracy: 0.9152 - sev_accuracy: 0.7108 - sent_accuracy: 0.6723 - emo_accuracy: 0.5052 - val_loss: 1.6169 - val_comp_loss: 0.1196 - val_sev_loss: 0.6020 - val_sent_loss: 0.5846 - val_emo_loss: 1.2060 - val_comp_accuracy: 0.9506 - val_sev_accuracy: 0.7709 - val_sent_accuracy: 0.7366 - val_emo_accuracy: 0.5544\n",
            "Epoch 3/3\n",
            "150/150 [==============================] - 428s 3s/step - loss: 1.5903 - comp_loss: 0.1119 - sev_loss: 0.5911 - sent_loss: 0.5793 - emo_loss: 1.1954 - comp_accuracy: 0.9625 - sev_accuracy: 0.7738 - sent_accuracy: 0.7540 - emo_accuracy: 0.5660 - val_loss: 1.4312 - val_comp_loss: 0.1144 - val_sev_loss: 0.5106 - val_sent_loss: 0.4963 - val_emo_loss: 1.1159 - val_comp_accuracy: 0.9634 - val_sev_accuracy: 0.8178 - val_sent_accuracy: 0.7844 - val_emo_accuracy: 0.5866\n"
          ]
        }
      ],
      "source": [
        "model = bert_tweets_model_quad()\n",
        "\n",
        "adam_optimizer = tf.keras.optimizers.Adam(learning_rate=1e-5)\n",
        "\n",
        "losses = {\n",
        "\"comp\": \"binary_crossentropy\",\n",
        "\"sev\": \"sparse_categorical_crossentropy\",\n",
        "\"sent\": \"sparse_categorical_crossentropy\",\n",
        "\"emo\": \"sparse_categorical_crossentropy\"\n",
        "}\n",
        "\n",
        "lossWeights = {\"comp\": 1.0, \"sev\": 1.0, \"sent\":0.5, \"emo\":0.5}\n",
        "# run_opts = tf.RunOptions(report_tensor_allocations_upon_oom = True)\n",
        "model.compile(loss=losses,loss_weights=lossWeights, optimizer=adam_optimizer,metrics=['accuracy'])\n",
        "\n",
        "# train the model\n",
        "_ = model.fit(\n",
        "    train_er,\n",
        "    validation_data = val_er,\n",
        "    steps_per_epoch = 150, \n",
        "    validation_steps = 100,\n",
        "    epochs = 3,\n",
        "    verbose = True\n",
        "    )\n",
        "\n",
        "# validate the model\n"
      ]
    },
    {
      "cell_type": "code",
      "source": [
        "acc = model.evaluate(test_er, steps = 100, verbose = True)"
      ],
      "metadata": {
        "id": "--12Kh-X3GYj",
        "colab": {
          "base_uri": "https://localhost:8080/"
        },
        "outputId": "10102d2e-6eec-464e-cfbf-ca0e04d85bb6"
      },
      "execution_count": null,
      "outputs": [
        {
          "output_type": "stream",
          "name": "stdout",
          "text": [
            "100/100 [==============================] - 55s 547ms/step - loss: 1.3674 - comp_loss: 0.0777 - sev_loss: 0.4716 - sent_loss: 0.5201 - emo_loss: 1.1161 - comp_accuracy: 0.9772 - sev_accuracy: 0.8359 - sent_accuracy: 0.7675 - emo_accuracy: 0.6003\n"
          ]
        }
      ]
    },
    {
      "cell_type": "code",
      "source": [
        "test_pred_data,[y_pred,z_pred, p_pred,q_pred] = gen_data_mtl(test_encoded.numpy(),\n",
        "                    df_test['Complaint Label'].values ,\n",
        "                    df_test['Severity level'].values ,\n",
        "                    df_test['Sentiment'].values,\n",
        "                    df_test['Emotion'].values)"
      ],
      "metadata": {
        "id": "vfDNkHqd3Gbb"
      },
      "execution_count": null,
      "outputs": []
    },
    {
      "cell_type": "code",
      "source": [
        "test_pred_data"
      ],
      "metadata": {
        "id": "u6vwtx-gviFx"
      },
      "execution_count": null,
      "outputs": []
    },
    {
      "cell_type": "code",
      "source": [
        "from sklearn.metrics import f1_score\n",
        "from sklearn.metrics import accuracy_score\n",
        "\n",
        "def macrof1s(y_true, y_pred):\n",
        "  return f1_score(y_true, y_pred, average='macro')\n",
        "\n",
        "acc1 = []\n",
        "mfs1 = []\n",
        "acc2 = []\n",
        "mfs2 = []\n",
        "acc3 = []\n",
        "mfs3 = []\n",
        "acc4 = []\n",
        "mfs4 = []\n",
        "\n",
        "for idx in range(len(test_pred_data)):\n",
        "  yp1, zp1, pp1, qp1 = model.predict(test_pred_data[idx])\n",
        "\n",
        "  yp2 = []\n",
        "  for i in yp1:\n",
        "    if(i>0.5):\n",
        "      yp2.append(1)\n",
        "    else:\n",
        "      yp2.append(0)\n",
        "\n",
        "  zp2 = zp1.argmax(axis = -1)\n",
        "  pp2 = pp1.argmax(axis = -1)\n",
        "  qp2 = qp1.argmax(axis = -1)\n",
        "\n",
        "  acc1.append(accuracy_score(yp2, y_pred[idx]))\n",
        "  acc2.append(accuracy_score(zp2, z_pred[idx]))\n",
        "  acc3.append(accuracy_score(pp2, p_pred[idx]))\n",
        "  acc4.append(accuracy_score(qp2, q_pred[idx]))\n",
        "\n",
        "\n",
        "  mfs1.append(f1_score(yp2, y_pred[idx], average='macro'))\n",
        "  mfs2.append(f1_score(zp2, z_pred[idx], average='macro'))\n",
        "  mfs3.append(f1_score(pp2, p_pred[idx], average='macro'))\n",
        "  mfs4.append(f1_score(qp2, q_pred[idx], average='macro'))\n"
      ],
      "metadata": {
        "id": "avCwqgpfucLK"
      },
      "execution_count": null,
      "outputs": []
    },
    {
      "cell_type": "code",
      "source": [],
      "metadata": {
        "id": "AvszqNzLfkN_"
      },
      "execution_count": null,
      "outputs": []
    },
    {
      "cell_type": "markdown",
      "source": [
        "### **Final Macro F1 Score and Testing Accuracy**"
      ],
      "metadata": {
        "id": "UixSMR5nwSsH"
      }
    },
    {
      "cell_type": "code",
      "source": [
        "#Complaint Detection Task -\n",
        "print(\"Accuracy : \", sum(acc1)/len(acc1))\n",
        "print(\"Macro F1 Score : \", sum(mfs1)/len(mfs1))"
      ],
      "metadata": {
        "colab": {
          "base_uri": "https://localhost:8080/"
        },
        "outputId": "5db42dbe-85a3-42ae-a32c-c17a6a62e2fd",
        "id": "rs7nANM6wSsN"
      },
      "execution_count": null,
      "outputs": [
        {
          "output_type": "stream",
          "name": "stdout",
          "text": [
            "Accuracy :  0.9714912280701754\n",
            "Macro F1 Score :  0.9706010936955747\n"
          ]
        }
      ]
    },
    {
      "cell_type": "code",
      "source": [
        "#Severity Detection Task -\n",
        "print(\"Accuracy : \", sum(acc2)/len(acc2))\n",
        "print(\"Macro F1 Score : \", sum(mfs2)/len(mfs2))"
      ],
      "metadata": {
        "colab": {
          "base_uri": "https://localhost:8080/"
        },
        "outputId": "18d4f42f-2e37-4f5a-e070-aafb7c7f4544",
        "id": "BNGFKA_cwSsN"
      },
      "execution_count": null,
      "outputs": [
        {
          "output_type": "stream",
          "name": "stdout",
          "text": [
            "Accuracy :  0.8305921052631579\n",
            "Macro F1 Score :  0.6702400508656867\n"
          ]
        }
      ]
    },
    {
      "cell_type": "code",
      "source": [
        "#Sentiment Detection Task -\n",
        "print(\"Accuracy : \", sum(acc3)/len(acc3))\n",
        "print(\"Macro F1 Score : \", sum(mfs3)/len(mfs3))"
      ],
      "metadata": {
        "colab": {
          "base_uri": "https://localhost:8080/"
        },
        "outputId": "6f272a0f-2757-42f9-8efe-9e729769f70b",
        "id": "VXX5dzNIwSsO"
      },
      "execution_count": null,
      "outputs": [
        {
          "output_type": "stream",
          "name": "stdout",
          "text": [
            "Accuracy :  0.7774122807017544\n",
            "Macro F1 Score :  0.6760976696429579\n"
          ]
        }
      ]
    },
    {
      "cell_type": "code",
      "source": [
        "#Emotion Detection Task -\n",
        "print(\"Accuracy : \", sum(acc4)/len(acc4))\n",
        "print(\"Macro F1 Score : \", sum(mfs4)/len(mfs4))"
      ],
      "metadata": {
        "colab": {
          "base_uri": "https://localhost:8080/"
        },
        "id": "tJqYkJLewfZg",
        "outputId": "c1287e66-07c1-49d7-dacb-e50d0d948556"
      },
      "execution_count": null,
      "outputs": [
        {
          "output_type": "stream",
          "name": "stdout",
          "text": [
            "Accuracy :  0.5910087719298246\n",
            "Macro F1 Score :  0.3457996052470952\n"
          ]
        }
      ]
    },
    {
      "cell_type": "markdown",
      "source": [
        "## **Experiment 2**"
      ],
      "metadata": {
        "id": "2O1SWLclrG5F"
      }
    },
    {
      "cell_type": "code",
      "execution_count": null,
      "metadata": {
        "colab": {
          "base_uri": "https://localhost:8080/"
        },
        "outputId": "9fee8a02-5a5b-485c-f1dd-e234bf8c2bf5",
        "id": "k-LEZrIGwu4u"
      },
      "outputs": [
        {
          "output_type": "stream",
          "name": "stderr",
          "text": [
            "WARNING:tensorflow:Layer gru_1 will not use cuDNN kernels since it doesn't meet the criteria. It will use a generic GPU kernel as fallback when running on GPU.\n",
            "WARNING:tensorflow:Layer gru_1 will not use cuDNN kernels since it doesn't meet the criteria. It will use a generic GPU kernel as fallback when running on GPU.\n",
            "WARNING:tensorflow:Layer gru_1 will not use cuDNN kernels since it doesn't meet the criteria. It will use a generic GPU kernel as fallback when running on GPU.\n"
          ]
        },
        {
          "output_type": "stream",
          "name": "stdout",
          "text": [
            "Epoch 1/3\n"
          ]
        },
        {
          "output_type": "stream",
          "name": "stderr",
          "text": [
            "WARNING:tensorflow:Gradients do not exist for variables ['tf_roberta_model/roberta/pooler/dense/kernel:0', 'tf_roberta_model/roberta/pooler/dense/bias:0'] when minimizing the loss. If you're using `model.compile()`, did you forget to provide a `loss`argument?\n",
            "WARNING:tensorflow:Gradients do not exist for variables ['tf_roberta_model/roberta/pooler/dense/kernel:0', 'tf_roberta_model/roberta/pooler/dense/bias:0'] when minimizing the loss. If you're using `model.compile()`, did you forget to provide a `loss`argument?\n"
          ]
        },
        {
          "output_type": "stream",
          "name": "stdout",
          "text": [
            "150/150 [==============================] - 439s 3s/step - loss: 2.7999 - comp_loss: 0.4996 - sev_loss: 1.0814 - sent_loss: 0.8953 - emo_loss: 1.5426 - comp_accuracy: 0.7327 - sev_accuracy: 0.5775 - sent_accuracy: 0.5915 - emo_accuracy: 0.4508 - val_loss: 2.1622 - val_comp_loss: 0.2702 - val_sev_loss: 0.8045 - val_sent_loss: 0.7531 - val_emo_loss: 1.4218 - val_comp_accuracy: 0.9144 - val_sev_accuracy: 0.6944 - val_sent_accuracy: 0.6609 - val_emo_accuracy: 0.5122\n",
            "Epoch 2/3\n",
            "150/150 [==============================] - 399s 3s/step - loss: 1.8228 - comp_loss: 0.1652 - sev_loss: 0.6778 - sent_loss: 0.6773 - emo_loss: 1.2823 - comp_accuracy: 0.9408 - sev_accuracy: 0.7371 - sent_accuracy: 0.6883 - emo_accuracy: 0.5417 - val_loss: 1.8258 - val_comp_loss: 0.1805 - val_sev_loss: 0.6824 - val_sent_loss: 0.6687 - val_emo_loss: 1.2572 - val_comp_accuracy: 0.9484 - val_sev_accuracy: 0.7563 - val_sent_accuracy: 0.6966 - val_emo_accuracy: 0.5572\n",
            "Epoch 3/3\n",
            "150/150 [==============================] - 398s 3s/step - loss: 1.6128 - comp_loss: 0.1210 - sev_loss: 0.5745 - sent_loss: 0.6142 - emo_loss: 1.2203 - comp_accuracy: 0.9613 - sev_accuracy: 0.7802 - sent_accuracy: 0.7217 - emo_accuracy: 0.5469 - val_loss: 1.5758 - val_comp_loss: 0.1099 - val_sev_loss: 0.5898 - val_sent_loss: 0.5627 - val_emo_loss: 1.1896 - val_comp_accuracy: 0.9659 - val_sev_accuracy: 0.7841 - val_sent_accuracy: 0.7453 - val_emo_accuracy: 0.5616\n"
          ]
        }
      ],
      "source": [
        "model = bert_tweets_model_quad()\n",
        "\n",
        "adam_optimizer = tf.keras.optimizers.Adam(learning_rate=1e-5)\n",
        "\n",
        "losses = {\n",
        "\"comp\": \"binary_crossentropy\",\n",
        "\"sev\": \"sparse_categorical_crossentropy\",\n",
        "\"sent\": \"sparse_categorical_crossentropy\",\n",
        "\"emo\": \"sparse_categorical_crossentropy\"\n",
        "}\n",
        "\n",
        "lossWeights = {\"comp\": 1.0, \"sev\": 1.0, \"sent\":0.5, \"emo\":0.5}\n",
        "# run_opts = tf.RunOptions(report_tensor_allocations_upon_oom = True)\n",
        "model.compile(loss=losses,loss_weights=lossWeights, optimizer=adam_optimizer,metrics=['accuracy'])\n",
        "\n",
        "# train the model\n",
        "_ = model.fit(\n",
        "    train_er,\n",
        "    validation_data = val_er,\n",
        "    steps_per_epoch = 150, \n",
        "    validation_steps = 100,\n",
        "    epochs = 3,\n",
        "    verbose = True\n",
        "    )\n",
        "\n",
        "# validate the model\n"
      ]
    },
    {
      "cell_type": "code",
      "source": [
        "acc = model.evaluate(test_er, steps = 100, verbose = True)"
      ],
      "metadata": {
        "colab": {
          "base_uri": "https://localhost:8080/"
        },
        "outputId": "70c50ec0-22de-44fb-8c43-323f8289ddc6",
        "id": "1_7LlprDwu4z"
      },
      "execution_count": null,
      "outputs": [
        {
          "output_type": "stream",
          "name": "stdout",
          "text": [
            "100/100 [==============================] - 40s 404ms/step - loss: 1.6854 - comp_loss: 0.1494 - sev_loss: 0.6301 - sent_loss: 0.6125 - emo_loss: 1.1993 - comp_accuracy: 0.9528 - sev_accuracy: 0.7734 - sent_accuracy: 0.7387 - emo_accuracy: 0.5609\n"
          ]
        }
      ]
    },
    {
      "cell_type": "code",
      "source": [
        "test_pred_data,[y_pred,z_pred, p_pred,q_pred] = gen_data_mtl(test_encoded.numpy(),\n",
        "                    df_test['Complaint Label'].values ,\n",
        "                    df_test['Severity level'].values ,\n",
        "                    df_test['Sentiment'].values,\n",
        "                    df_test['Emotion'].values)"
      ],
      "metadata": {
        "id": "Arz9IuyOwu40"
      },
      "execution_count": null,
      "outputs": []
    },
    {
      "cell_type": "code",
      "source": [
        "test_pred_data"
      ],
      "metadata": {
        "id": "jbT2SHRYwu40"
      },
      "execution_count": null,
      "outputs": []
    },
    {
      "cell_type": "code",
      "source": [
        "from sklearn.metrics import f1_score\n",
        "from sklearn.metrics import accuracy_score\n",
        "\n",
        "def macrof1s(y_true, y_pred):\n",
        "  return f1_score(y_true, y_pred, average='macro')\n",
        "\n",
        "acc1 = []\n",
        "mfs1 = []\n",
        "acc2 = []\n",
        "mfs2 = []\n",
        "acc3 = []\n",
        "mfs3 = []\n",
        "acc4 = []\n",
        "mfs4 = []\n",
        "\n",
        "for idx in range(len(test_pred_data)):\n",
        "  yp1, zp1, pp1, qp1 = model.predict(test_pred_data[idx])\n",
        "\n",
        "  yp2 = []\n",
        "  for i in yp1:\n",
        "    if(i>0.5):\n",
        "      yp2.append(1)\n",
        "    else:\n",
        "      yp2.append(0)\n",
        "\n",
        "  zp2 = zp1.argmax(axis = -1)\n",
        "  pp2 = pp1.argmax(axis = -1)\n",
        "  qp2 = qp1.argmax(axis = -1)\n",
        "\n",
        "  acc1.append(accuracy_score(yp2, y_pred[idx]))\n",
        "  acc2.append(accuracy_score(zp2, z_pred[idx]))\n",
        "  acc3.append(accuracy_score(pp2, p_pred[idx]))\n",
        "  acc4.append(accuracy_score(qp2, q_pred[idx]))\n",
        "\n",
        "\n",
        "  mfs1.append(f1_score(yp2, y_pred[idx], average='macro'))\n",
        "  mfs2.append(f1_score(zp2, z_pred[idx], average='macro'))\n",
        "  mfs3.append(f1_score(pp2, p_pred[idx], average='macro'))\n",
        "  mfs4.append(f1_score(qp2, q_pred[idx], average='macro'))\n"
      ],
      "metadata": {
        "id": "AKeTZ_LYwu40"
      },
      "execution_count": null,
      "outputs": []
    },
    {
      "cell_type": "code",
      "source": [],
      "metadata": {
        "id": "8u4qT2oCwu40"
      },
      "execution_count": null,
      "outputs": []
    },
    {
      "cell_type": "markdown",
      "source": [
        "### **Final Macro F1 Score and Testing Accuracy**"
      ],
      "metadata": {
        "id": "tkh4mjnuwu40"
      }
    },
    {
      "cell_type": "code",
      "source": [
        "#Complaint Detection Task -\n",
        "print(\"Accuracy : \", sum(acc1)/len(acc1))\n",
        "print(\"Macro F1 Score : \", sum(mfs1)/len(mfs1))"
      ],
      "metadata": {
        "colab": {
          "base_uri": "https://localhost:8080/"
        },
        "outputId": "55852214-c935-40d0-e59e-4bd9595c7c3e",
        "id": "BH_uG8YSwu40"
      },
      "execution_count": null,
      "outputs": [
        {
          "output_type": "stream",
          "name": "stdout",
          "text": [
            "Accuracy :  0.9605263157894737\n",
            "Macro F1 Score :  0.9596241690302442\n"
          ]
        }
      ]
    },
    {
      "cell_type": "code",
      "source": [
        "#Severity Detection Task -\n",
        "print(\"Accuracy : \", sum(acc2)/len(acc2))\n",
        "print(\"Macro F1 Score : \", sum(mfs2)/len(mfs2))"
      ],
      "metadata": {
        "colab": {
          "base_uri": "https://localhost:8080/"
        },
        "outputId": "603d3622-3728-4fa2-d126-e09a026fb679",
        "id": "GdoRDdgDwu41"
      },
      "execution_count": null,
      "outputs": [
        {
          "output_type": "stream",
          "name": "stdout",
          "text": [
            "Accuracy :  0.7933114035087719\n",
            "Macro F1 Score :  0.6193297948156415\n"
          ]
        }
      ]
    },
    {
      "cell_type": "code",
      "source": [
        "#Sentiment Detection Task -\n",
        "print(\"Accuracy : \", sum(acc3)/len(acc3))\n",
        "print(\"Macro F1 Score : \", sum(mfs3)/len(mfs3))"
      ],
      "metadata": {
        "colab": {
          "base_uri": "https://localhost:8080/"
        },
        "outputId": "71000104-4b59-459b-8b46-de88f1f159c5",
        "id": "rtms5SjKwu41"
      },
      "execution_count": null,
      "outputs": [
        {
          "output_type": "stream",
          "name": "stdout",
          "text": [
            "Accuracy :  0.7286184210526315\n",
            "Macro F1 Score :  0.6029974742070241\n"
          ]
        }
      ]
    },
    {
      "cell_type": "code",
      "source": [
        "#Emotion Detection Task -\n",
        "print(\"Accuracy : \", sum(acc4)/len(acc4))\n",
        "print(\"Macro F1 Score : \", sum(mfs4)/len(mfs4))"
      ],
      "metadata": {
        "colab": {
          "base_uri": "https://localhost:8080/"
        },
        "outputId": "e72e06f3-8301-444a-dd8e-5f3f0f37d698",
        "id": "xbfpr8aOwu41"
      },
      "execution_count": null,
      "outputs": [
        {
          "output_type": "stream",
          "name": "stdout",
          "text": [
            "Accuracy :  0.5597587719298246\n",
            "Macro F1 Score :  0.2670919708824191\n"
          ]
        }
      ]
    },
    {
      "cell_type": "markdown",
      "source": [
        "## **Experiment 3**"
      ],
      "metadata": {
        "id": "Jvy9KxysxCEj"
      }
    },
    {
      "cell_type": "code",
      "source": [],
      "metadata": {
        "id": "DxomCva2IZbO"
      },
      "execution_count": null,
      "outputs": []
    },
    {
      "cell_type": "code",
      "execution_count": null,
      "metadata": {
        "id": "TptLuW4tIZ90"
      },
      "outputs": [],
      "source": [
        "df = pd.read_csv('Fincorp.csv')\n",
        "df = df.sample(frac = 1)"
      ]
    },
    {
      "cell_type": "markdown",
      "metadata": {
        "id": "5i8xD99nIZ91"
      },
      "source": [
        "**Label Encoding**"
      ]
    },
    {
      "cell_type": "code",
      "execution_count": null,
      "metadata": {
        "id": "evJwyYH7IZ91"
      },
      "outputs": [],
      "source": [
        "df['Emotion'] = le.fit_transform(df['Emotion'])\n",
        "df['Severity level'] = le.fit_transform(df['Severity level'])\n",
        "df['Sentiment'] = le.fit_transform(df['Sentiment'])\n",
        "df['Emotion'] = le.fit_transform(df['Emotion'])"
      ]
    },
    {
      "cell_type": "code",
      "execution_count": null,
      "metadata": {
        "colab": {
          "base_uri": "https://localhost:8080/",
          "height": 424
        },
        "outputId": "9e86ae52-0016-4dae-bf41-de012ca737ab",
        "id": "h9EKyhrZIZ91"
      },
      "outputs": [
        {
          "output_type": "execute_result",
          "data": {
            "text/plain": [
              "                Domain                                 Complaint/ Opinion  \\\n",
              "4748       Transaction  @Venmo In case @Venmo wants to try out gift-wr...   \n",
              "1128  Customer Service  @AmazonHelp @jagograhakjago After raising the ...   \n",
              "3856            Crypto  @MorganTBennett @gluk64 @epolynya @jadler0 @er...   \n",
              "524               Loan  @BarclaysUKHelp say I had a business account, ...   \n",
              "3209       Credit Card  @mightyteapot Player housing and more guild ha...   \n",
              "...                ...                                                ...   \n",
              "305               Loan  @ICICIBank @ICICIBank_Care @ICICI_Direct @RBI ...   \n",
              "5188        Debit card  Well, good luck with that.  You can't do it us...   \n",
              "5014        Debit card  Ugh, I think someone stole my debit card info....   \n",
              "4752       Transaction  @Millions @Venmo OMG i would love to have my B...   \n",
              "4154           Economy  @MightyFetta @CNBC I get mailed DNC surveys as...   \n",
              "\n",
              "      Complaint Label  Severity level  Sentiment  Emotion  \n",
              "4748                0               4          2        4  \n",
              "1128                1               2          0        1  \n",
              "3856                0               4          0        1  \n",
              "524                 1               3          0        2  \n",
              "3209                0               4          1        4  \n",
              "...               ...             ...        ...      ...  \n",
              "305                 1               1          0        5  \n",
              "5188                0               4          0        2  \n",
              "5014                0               4          2        3  \n",
              "4752                0               4          2        3  \n",
              "4154                0               4          0        0  \n",
              "\n",
              "[6281 rows x 6 columns]"
            ],
            "text/html": [
              "\n",
              "  <div id=\"df-24811ecf-697d-414c-ab32-d2f7647720c9\">\n",
              "    <div class=\"colab-df-container\">\n",
              "      <div>\n",
              "<style scoped>\n",
              "    .dataframe tbody tr th:only-of-type {\n",
              "        vertical-align: middle;\n",
              "    }\n",
              "\n",
              "    .dataframe tbody tr th {\n",
              "        vertical-align: top;\n",
              "    }\n",
              "\n",
              "    .dataframe thead th {\n",
              "        text-align: right;\n",
              "    }\n",
              "</style>\n",
              "<table border=\"1\" class=\"dataframe\">\n",
              "  <thead>\n",
              "    <tr style=\"text-align: right;\">\n",
              "      <th></th>\n",
              "      <th>Domain</th>\n",
              "      <th>Complaint/ Opinion</th>\n",
              "      <th>Complaint Label</th>\n",
              "      <th>Severity level</th>\n",
              "      <th>Sentiment</th>\n",
              "      <th>Emotion</th>\n",
              "    </tr>\n",
              "  </thead>\n",
              "  <tbody>\n",
              "    <tr>\n",
              "      <th>4748</th>\n",
              "      <td>Transaction</td>\n",
              "      <td>@Venmo In case @Venmo wants to try out gift-wr...</td>\n",
              "      <td>0</td>\n",
              "      <td>4</td>\n",
              "      <td>2</td>\n",
              "      <td>4</td>\n",
              "    </tr>\n",
              "    <tr>\n",
              "      <th>1128</th>\n",
              "      <td>Customer Service</td>\n",
              "      <td>@AmazonHelp @jagograhakjago After raising the ...</td>\n",
              "      <td>1</td>\n",
              "      <td>2</td>\n",
              "      <td>0</td>\n",
              "      <td>1</td>\n",
              "    </tr>\n",
              "    <tr>\n",
              "      <th>3856</th>\n",
              "      <td>Crypto</td>\n",
              "      <td>@MorganTBennett @gluk64 @epolynya @jadler0 @er...</td>\n",
              "      <td>0</td>\n",
              "      <td>4</td>\n",
              "      <td>0</td>\n",
              "      <td>1</td>\n",
              "    </tr>\n",
              "    <tr>\n",
              "      <th>524</th>\n",
              "      <td>Loan</td>\n",
              "      <td>@BarclaysUKHelp say I had a business account, ...</td>\n",
              "      <td>1</td>\n",
              "      <td>3</td>\n",
              "      <td>0</td>\n",
              "      <td>2</td>\n",
              "    </tr>\n",
              "    <tr>\n",
              "      <th>3209</th>\n",
              "      <td>Credit Card</td>\n",
              "      <td>@mightyteapot Player housing and more guild ha...</td>\n",
              "      <td>0</td>\n",
              "      <td>4</td>\n",
              "      <td>1</td>\n",
              "      <td>4</td>\n",
              "    </tr>\n",
              "    <tr>\n",
              "      <th>...</th>\n",
              "      <td>...</td>\n",
              "      <td>...</td>\n",
              "      <td>...</td>\n",
              "      <td>...</td>\n",
              "      <td>...</td>\n",
              "      <td>...</td>\n",
              "    </tr>\n",
              "    <tr>\n",
              "      <th>305</th>\n",
              "      <td>Loan</td>\n",
              "      <td>@ICICIBank @ICICIBank_Care @ICICI_Direct @RBI ...</td>\n",
              "      <td>1</td>\n",
              "      <td>1</td>\n",
              "      <td>0</td>\n",
              "      <td>5</td>\n",
              "    </tr>\n",
              "    <tr>\n",
              "      <th>5188</th>\n",
              "      <td>Debit card</td>\n",
              "      <td>Well, good luck with that.  You can't do it us...</td>\n",
              "      <td>0</td>\n",
              "      <td>4</td>\n",
              "      <td>0</td>\n",
              "      <td>2</td>\n",
              "    </tr>\n",
              "    <tr>\n",
              "      <th>5014</th>\n",
              "      <td>Debit card</td>\n",
              "      <td>Ugh, I think someone stole my debit card info....</td>\n",
              "      <td>0</td>\n",
              "      <td>4</td>\n",
              "      <td>2</td>\n",
              "      <td>3</td>\n",
              "    </tr>\n",
              "    <tr>\n",
              "      <th>4752</th>\n",
              "      <td>Transaction</td>\n",
              "      <td>@Millions @Venmo OMG i would love to have my B...</td>\n",
              "      <td>0</td>\n",
              "      <td>4</td>\n",
              "      <td>2</td>\n",
              "      <td>3</td>\n",
              "    </tr>\n",
              "    <tr>\n",
              "      <th>4154</th>\n",
              "      <td>Economy</td>\n",
              "      <td>@MightyFetta @CNBC I get mailed DNC surveys as...</td>\n",
              "      <td>0</td>\n",
              "      <td>4</td>\n",
              "      <td>0</td>\n",
              "      <td>0</td>\n",
              "    </tr>\n",
              "  </tbody>\n",
              "</table>\n",
              "<p>6281 rows × 6 columns</p>\n",
              "</div>\n",
              "      <button class=\"colab-df-convert\" onclick=\"convertToInteractive('df-24811ecf-697d-414c-ab32-d2f7647720c9')\"\n",
              "              title=\"Convert this dataframe to an interactive table.\"\n",
              "              style=\"display:none;\">\n",
              "        \n",
              "  <svg xmlns=\"http://www.w3.org/2000/svg\" height=\"24px\"viewBox=\"0 0 24 24\"\n",
              "       width=\"24px\">\n",
              "    <path d=\"M0 0h24v24H0V0z\" fill=\"none\"/>\n",
              "    <path d=\"M18.56 5.44l.94 2.06.94-2.06 2.06-.94-2.06-.94-.94-2.06-.94 2.06-2.06.94zm-11 1L8.5 8.5l.94-2.06 2.06-.94-2.06-.94L8.5 2.5l-.94 2.06-2.06.94zm10 10l.94 2.06.94-2.06 2.06-.94-2.06-.94-.94-2.06-.94 2.06-2.06.94z\"/><path d=\"M17.41 7.96l-1.37-1.37c-.4-.4-.92-.59-1.43-.59-.52 0-1.04.2-1.43.59L10.3 9.45l-7.72 7.72c-.78.78-.78 2.05 0 2.83L4 21.41c.39.39.9.59 1.41.59.51 0 1.02-.2 1.41-.59l7.78-7.78 2.81-2.81c.8-.78.8-2.07 0-2.86zM5.41 20L4 18.59l7.72-7.72 1.47 1.35L5.41 20z\"/>\n",
              "  </svg>\n",
              "      </button>\n",
              "      \n",
              "  <style>\n",
              "    .colab-df-container {\n",
              "      display:flex;\n",
              "      flex-wrap:wrap;\n",
              "      gap: 12px;\n",
              "    }\n",
              "\n",
              "    .colab-df-convert {\n",
              "      background-color: #E8F0FE;\n",
              "      border: none;\n",
              "      border-radius: 50%;\n",
              "      cursor: pointer;\n",
              "      display: none;\n",
              "      fill: #1967D2;\n",
              "      height: 32px;\n",
              "      padding: 0 0 0 0;\n",
              "      width: 32px;\n",
              "    }\n",
              "\n",
              "    .colab-df-convert:hover {\n",
              "      background-color: #E2EBFA;\n",
              "      box-shadow: 0px 1px 2px rgba(60, 64, 67, 0.3), 0px 1px 3px 1px rgba(60, 64, 67, 0.15);\n",
              "      fill: #174EA6;\n",
              "    }\n",
              "\n",
              "    [theme=dark] .colab-df-convert {\n",
              "      background-color: #3B4455;\n",
              "      fill: #D2E3FC;\n",
              "    }\n",
              "\n",
              "    [theme=dark] .colab-df-convert:hover {\n",
              "      background-color: #434B5C;\n",
              "      box-shadow: 0px 1px 3px 1px rgba(0, 0, 0, 0.15);\n",
              "      filter: drop-shadow(0px 1px 2px rgba(0, 0, 0, 0.3));\n",
              "      fill: #FFFFFF;\n",
              "    }\n",
              "  </style>\n",
              "\n",
              "      <script>\n",
              "        const buttonEl =\n",
              "          document.querySelector('#df-24811ecf-697d-414c-ab32-d2f7647720c9 button.colab-df-convert');\n",
              "        buttonEl.style.display =\n",
              "          google.colab.kernel.accessAllowed ? 'block' : 'none';\n",
              "\n",
              "        async function convertToInteractive(key) {\n",
              "          const element = document.querySelector('#df-24811ecf-697d-414c-ab32-d2f7647720c9');\n",
              "          const dataTable =\n",
              "            await google.colab.kernel.invokeFunction('convertToInteractive',\n",
              "                                                     [key], {});\n",
              "          if (!dataTable) return;\n",
              "\n",
              "          const docLinkHtml = 'Like what you see? Visit the ' +\n",
              "            '<a target=\"_blank\" href=https://colab.research.google.com/notebooks/data_table.ipynb>data table notebook</a>'\n",
              "            + ' to learn more about interactive tables.';\n",
              "          element.innerHTML = '';\n",
              "          dataTable['output_type'] = 'display_data';\n",
              "          await google.colab.output.renderOutput(dataTable, element);\n",
              "          const docLink = document.createElement('div');\n",
              "          docLink.innerHTML = docLinkHtml;\n",
              "          element.appendChild(docLink);\n",
              "        }\n",
              "      </script>\n",
              "    </div>\n",
              "  </div>\n",
              "  "
            ]
          },
          "metadata": {},
          "execution_count": 33
        }
      ],
      "source": [
        "df"
      ]
    },
    {
      "cell_type": "code",
      "execution_count": null,
      "metadata": {
        "id": "rRGn1_i3IZ92"
      },
      "outputs": [],
      "source": []
    },
    {
      "cell_type": "markdown",
      "metadata": {
        "id": "SKxudbxoIZ92"
      },
      "source": [
        "### **Tokenization (RoBERTa)**"
      ]
    },
    {
      "cell_type": "code",
      "execution_count": null,
      "metadata": {
        "id": "gOpf-zFcIZ92"
      },
      "outputs": [],
      "source": [
        "def bert_encode(data):\n",
        "    tokens = tokenizer.batch_encode_plus(data, max_length=max_length, padding='max_length', truncation=True)\n",
        "    \n",
        "    return tf.constant(tokens['input_ids'])"
      ]
    },
    {
      "cell_type": "code",
      "execution_count": null,
      "metadata": {
        "id": "lqIwcRSmIZ92"
      },
      "outputs": [],
      "source": [
        "import numpy as np\n",
        "from sklearn.model_selection import train_test_split\n",
        "\n",
        "df_train, df_test = train_test_split(df,  test_size=0.3, shuffle=True, random_state=42)"
      ]
    },
    {
      "cell_type": "code",
      "source": [
        "df_train, df_val = train_test_split(df_train,  test_size=0.15, shuffle=True, random_state=42)"
      ],
      "metadata": {
        "id": "VW084kejIZ92"
      },
      "execution_count": null,
      "outputs": []
    },
    {
      "cell_type": "code",
      "source": [],
      "metadata": {
        "id": "YdY7c-G8IZ93"
      },
      "execution_count": null,
      "outputs": []
    },
    {
      "cell_type": "code",
      "execution_count": null,
      "metadata": {
        "id": "6x0_wQgGIZ93"
      },
      "outputs": [],
      "source": [
        "train_encoded = bert_encode(df_train['Complaint/ Opinion'].values.tolist())"
      ]
    },
    {
      "cell_type": "code",
      "execution_count": null,
      "metadata": {
        "colab": {
          "base_uri": "https://localhost:8080/"
        },
        "outputId": "b7b44a71-9607-48af-93b6-d0a5f7ce62b6",
        "id": "-aj-QAckIZ93"
      },
      "outputs": [
        {
          "output_type": "execute_result",
          "data": {
            "text/plain": [
              "(3736, 200)"
            ]
          },
          "metadata": {},
          "execution_count": 38
        }
      ],
      "source": [
        "train_encoded.numpy().shape"
      ]
    },
    {
      "cell_type": "code",
      "execution_count": null,
      "metadata": {
        "id": "Z8hAMFonIZ93"
      },
      "outputs": [],
      "source": [
        "test_encoded = bert_encode(df_test['Complaint/ Opinion'].values.tolist())"
      ]
    },
    {
      "cell_type": "code",
      "execution_count": null,
      "metadata": {
        "colab": {
          "base_uri": "https://localhost:8080/"
        },
        "outputId": "64e5058a-7b22-434b-e384-414bf6997758",
        "id": "og99cpndIZ93"
      },
      "outputs": [
        {
          "output_type": "execute_result",
          "data": {
            "text/plain": [
              "(1885, 200)"
            ]
          },
          "metadata": {},
          "execution_count": 40
        }
      ],
      "source": [
        "test_encoded.numpy().shape"
      ]
    },
    {
      "cell_type": "code",
      "execution_count": null,
      "metadata": {
        "id": "nUFOGGsRIZ93"
      },
      "outputs": [],
      "source": [
        "val_encoded = bert_encode(df_val['Complaint/ Opinion'].values.tolist())"
      ]
    },
    {
      "cell_type": "code",
      "source": [],
      "metadata": {
        "id": "5b7M6pqTInyI"
      },
      "execution_count": null,
      "outputs": []
    },
    {
      "cell_type": "code",
      "source": [
        "train_er = gen_data4(train_encoded.numpy(),\n",
        "                     df_train['Complaint Label'].values ,\n",
        "                     df_train['Severity level'].values, \n",
        "                     df_train['Sentiment'].values,\n",
        "                     df_train['Emotion'].values)"
      ],
      "metadata": {
        "id": "RFlS26kEIoIq"
      },
      "execution_count": null,
      "outputs": []
    },
    {
      "cell_type": "code",
      "source": [
        "test_er = gen_data4(test_encoded.numpy(),\n",
        "                    df_test['Complaint Label'].values ,\n",
        "                    df_test['Severity level'].values ,\n",
        "                    df_test['Sentiment'].values,\n",
        "                    df_test['Emotion'].values)"
      ],
      "metadata": {
        "id": "ZDuGN_xEIoIq"
      },
      "execution_count": null,
      "outputs": []
    },
    {
      "cell_type": "code",
      "source": [
        "val_er = gen_data4(val_encoded.numpy(),\n",
        "                   df_val['Complaint Label'].values ,\n",
        "                   df_val['Severity level'].values, \n",
        "                   df_val['Sentiment'].values,\n",
        "                   df_val['Emotion'].values)"
      ],
      "metadata": {
        "id": "OvP1K5bYIoIq"
      },
      "execution_count": null,
      "outputs": []
    },
    {
      "cell_type": "code",
      "source": [
        "test_pred_data,[y_pred,z_pred, p_pred,q_pred] = gen_data_mtl(test_encoded.numpy(),\n",
        "                    df_test['Complaint Label'].values ,\n",
        "                    df_test['Severity level'].values ,\n",
        "                    df_test['Sentiment'].values,\n",
        "                    df_test['Emotion'].values)"
      ],
      "metadata": {
        "id": "LB-LkCgQIoIr"
      },
      "execution_count": null,
      "outputs": []
    },
    {
      "cell_type": "code",
      "execution_count": null,
      "metadata": {
        "colab": {
          "base_uri": "https://localhost:8080/"
        },
        "outputId": "7c67302e-1174-48b4-d455-137ed0e37c8f",
        "id": "WQwXvJjWxCwg"
      },
      "outputs": [
        {
          "output_type": "stream",
          "name": "stderr",
          "text": [
            "WARNING:tensorflow:Layer gru_2 will not use cuDNN kernels since it doesn't meet the criteria. It will use a generic GPU kernel as fallback when running on GPU.\n",
            "WARNING:tensorflow:Layer gru_2 will not use cuDNN kernels since it doesn't meet the criteria. It will use a generic GPU kernel as fallback when running on GPU.\n",
            "WARNING:tensorflow:Layer gru_2 will not use cuDNN kernels since it doesn't meet the criteria. It will use a generic GPU kernel as fallback when running on GPU.\n"
          ]
        },
        {
          "output_type": "stream",
          "name": "stdout",
          "text": [
            "Epoch 1/3\n"
          ]
        },
        {
          "output_type": "stream",
          "name": "stderr",
          "text": [
            "WARNING:tensorflow:Gradients do not exist for variables ['tf_roberta_model/roberta/pooler/dense/kernel:0', 'tf_roberta_model/roberta/pooler/dense/bias:0'] when minimizing the loss. If you're using `model.compile()`, did you forget to provide a `loss`argument?\n",
            "WARNING:tensorflow:Gradients do not exist for variables ['tf_roberta_model/roberta/pooler/dense/kernel:0', 'tf_roberta_model/roberta/pooler/dense/bias:0'] when minimizing the loss. If you're using `model.compile()`, did you forget to provide a `loss`argument?\n"
          ]
        },
        {
          "output_type": "stream",
          "name": "stdout",
          "text": [
            "150/150 [==============================] - 328s 2s/step - loss: 2.9136 - comp_loss: 0.5338 - sev_loss: 1.1140 - sent_loss: 0.9117 - emo_loss: 1.6197 - comp_accuracy: 0.7150 - sev_accuracy: 0.5627 - sent_accuracy: 0.5821 - emo_accuracy: 0.4177 - val_loss: 2.0474 - val_comp_loss: 0.2593 - val_sev_loss: 0.7392 - val_sent_loss: 0.7404 - val_emo_loss: 1.3574 - val_comp_accuracy: 0.9244 - val_sev_accuracy: 0.7191 - val_sent_accuracy: 0.6544 - val_emo_accuracy: 0.5069\n",
            "Epoch 2/3\n",
            "150/150 [==============================] - 307s 2s/step - loss: 1.8475 - comp_loss: 0.1722 - sev_loss: 0.6882 - sent_loss: 0.6761 - emo_loss: 1.2981 - comp_accuracy: 0.9458 - sev_accuracy: 0.7325 - sent_accuracy: 0.6840 - emo_accuracy: 0.5281 - val_loss: 1.7839 - val_comp_loss: 0.1693 - val_sev_loss: 0.6350 - val_sent_loss: 0.7066 - val_emo_loss: 1.2526 - val_comp_accuracy: 0.9513 - val_sev_accuracy: 0.7647 - val_sent_accuracy: 0.6844 - val_emo_accuracy: 0.5319\n",
            "Epoch 3/3\n",
            "150/150 [==============================] - 306s 2s/step - loss: 1.5924 - comp_loss: 0.1109 - sev_loss: 0.5681 - sent_loss: 0.5989 - emo_loss: 1.2280 - comp_accuracy: 0.9660 - sev_accuracy: 0.7812 - sent_accuracy: 0.7300 - emo_accuracy: 0.5500 - val_loss: 1.6801 - val_comp_loss: 0.1477 - val_sev_loss: 0.6081 - val_sent_loss: 0.6229 - val_emo_loss: 1.2256 - val_comp_accuracy: 0.9538 - val_sev_accuracy: 0.7853 - val_sent_accuracy: 0.7153 - val_emo_accuracy: 0.5409\n"
          ]
        }
      ],
      "source": [
        "model = bert_tweets_model_quad()\n",
        "\n",
        "adam_optimizer = tf.keras.optimizers.Adam(learning_rate=1e-5)\n",
        "\n",
        "losses = {\n",
        "\"comp\": \"binary_crossentropy\",\n",
        "\"sev\": \"sparse_categorical_crossentropy\",\n",
        "\"sent\": \"sparse_categorical_crossentropy\",\n",
        "\"emo\": \"sparse_categorical_crossentropy\"\n",
        "}\n",
        "\n",
        "lossWeights = {\"comp\": 1.0, \"sev\": 1.0, \"sent\":0.5, \"emo\":0.5}\n",
        "# run_opts = tf.RunOptions(report_tensor_allocations_upon_oom = True)\n",
        "model.compile(loss=losses,loss_weights=lossWeights, optimizer=adam_optimizer,metrics=['accuracy'])\n",
        "\n",
        "# train the model\n",
        "_ = model.fit(\n",
        "    train_er,\n",
        "    validation_data = val_er,\n",
        "    steps_per_epoch = 150, \n",
        "    validation_steps = 100,\n",
        "    epochs = 3,\n",
        "    verbose = True\n",
        "    )\n",
        "\n",
        "# validate the model\n"
      ]
    },
    {
      "cell_type": "code",
      "source": [
        "acc = model.evaluate(test_er, steps = 100, verbose = True)"
      ],
      "metadata": {
        "colab": {
          "base_uri": "https://localhost:8080/"
        },
        "outputId": "a78203bd-55ad-4bd6-8bbb-c4fe05127462",
        "id": "5tz3YbZyxCwh"
      },
      "execution_count": null,
      "outputs": [
        {
          "output_type": "stream",
          "name": "stdout",
          "text": [
            "100/100 [==============================] - 36s 356ms/step - loss: 1.5905 - comp_loss: 0.1355 - sev_loss: 0.5402 - sent_loss: 0.6152 - emo_loss: 1.2144 - comp_accuracy: 0.9544 - sev_accuracy: 0.8122 - sent_accuracy: 0.7156 - emo_accuracy: 0.5494\n"
          ]
        }
      ]
    },
    {
      "cell_type": "code",
      "source": [
        "test_pred_data,[y_pred,z_pred, p_pred,q_pred] = gen_data_mtl(test_encoded.numpy(),\n",
        "                    df_test['Complaint Label'].values ,\n",
        "                    df_test['Severity level'].values ,\n",
        "                    df_test['Sentiment'].values,\n",
        "                    df_test['Emotion'].values)"
      ],
      "metadata": {
        "id": "EzY1qovjxCwh"
      },
      "execution_count": null,
      "outputs": []
    },
    {
      "cell_type": "code",
      "source": [
        "from sklearn.metrics import f1_score\n",
        "from sklearn.metrics import accuracy_score\n",
        "\n",
        "def macrof1s(y_true, y_pred):\n",
        "  return f1_score(y_true, y_pred, average='macro')\n",
        "\n",
        "acc1 = []\n",
        "mfs1 = []\n",
        "acc2 = []\n",
        "mfs2 = []\n",
        "acc3 = []\n",
        "mfs3 = []\n",
        "acc4 = []\n",
        "mfs4 = []\n",
        "\n",
        "for idx in range(len(test_pred_data)):\n",
        "  yp1, zp1, pp1, qp1 = model.predict(test_pred_data[idx])\n",
        "\n",
        "  yp2 = []\n",
        "  for i in yp1:\n",
        "    if(i>0.5):\n",
        "      yp2.append(1)\n",
        "    else:\n",
        "      yp2.append(0)\n",
        "\n",
        "  zp2 = zp1.argmax(axis = -1)\n",
        "  pp2 = pp1.argmax(axis = -1)\n",
        "  qp2 = qp1.argmax(axis = -1)\n",
        "\n",
        "  acc1.append(accuracy_score(yp2, y_pred[idx]))\n",
        "  acc2.append(accuracy_score(zp2, z_pred[idx]))\n",
        "  acc3.append(accuracy_score(pp2, p_pred[idx]))\n",
        "  acc4.append(accuracy_score(qp2, q_pred[idx]))\n",
        "\n",
        "\n",
        "  mfs1.append(f1_score(yp2, y_pred[idx], average='macro'))\n",
        "  mfs2.append(f1_score(zp2, z_pred[idx], average='macro'))\n",
        "  mfs3.append(f1_score(pp2, p_pred[idx], average='macro'))\n",
        "  mfs4.append(f1_score(qp2, q_pred[idx], average='macro'))\n"
      ],
      "metadata": {
        "id": "LInOJxa-xCwi"
      },
      "execution_count": null,
      "outputs": []
    },
    {
      "cell_type": "code",
      "source": [],
      "metadata": {
        "id": "FDmGZLlKxCwi"
      },
      "execution_count": null,
      "outputs": []
    },
    {
      "cell_type": "markdown",
      "source": [
        "### **Final Macro F1 Score and Testing Accuracy**"
      ],
      "metadata": {
        "id": "pPaqnSB6xCwi"
      }
    },
    {
      "cell_type": "code",
      "source": [
        "#Complaint Detection Task -\n",
        "print(\"Accuracy : \", sum(acc1)/len(acc1))\n",
        "print(\"Macro F1 Score : \", sum(mfs1)/len(mfs1))"
      ],
      "metadata": {
        "colab": {
          "base_uri": "https://localhost:8080/"
        },
        "outputId": "4ec3b2ce-9cff-4ef0-9c3b-1b20ebd318cc",
        "id": "5poP1S7KxCwi"
      },
      "execution_count": null,
      "outputs": [
        {
          "output_type": "stream",
          "name": "stdout",
          "text": [
            "Accuracy :  0.9577850877192983\n",
            "Macro F1 Score :  0.9560475347536072\n"
          ]
        }
      ]
    },
    {
      "cell_type": "code",
      "source": [
        "#Severity Detection Task -\n",
        "print(\"Accuracy : \", sum(acc2)/len(acc2))\n",
        "print(\"Macro F1 Score : \", sum(mfs2)/len(mfs2))"
      ],
      "metadata": {
        "colab": {
          "base_uri": "https://localhost:8080/"
        },
        "outputId": "acaccfb4-d37c-4506-c8ef-75cf1b960b47",
        "id": "ecDJCblzxCwi"
      },
      "execution_count": null,
      "outputs": [
        {
          "output_type": "stream",
          "name": "stdout",
          "text": [
            "Accuracy :  0.805921052631579\n",
            "Macro F1 Score :  0.6124473695456621\n"
          ]
        }
      ]
    },
    {
      "cell_type": "code",
      "source": [
        "#Sentiment Detection Task -\n",
        "print(\"Accuracy : \", sum(acc3)/len(acc3))\n",
        "print(\"Macro F1 Score : \", sum(mfs3)/len(mfs3))"
      ],
      "metadata": {
        "colab": {
          "base_uri": "https://localhost:8080/"
        },
        "outputId": "19bc2d96-5220-4f57-c37c-edc23412cc5c",
        "id": "xPQ5QkuQxCwi"
      },
      "execution_count": null,
      "outputs": [
        {
          "output_type": "stream",
          "name": "stdout",
          "text": [
            "Accuracy :  0.7105263157894737\n",
            "Macro F1 Score :  0.598537336615019\n"
          ]
        }
      ]
    },
    {
      "cell_type": "code",
      "source": [
        "#Emotion Detection Task -\n",
        "print(\"Accuracy : \", sum(acc4)/len(acc4))\n",
        "print(\"Macro F1 Score : \", sum(mfs4)/len(mfs4))"
      ],
      "metadata": {
        "colab": {
          "base_uri": "https://localhost:8080/"
        },
        "outputId": "b706b431-bf70-436e-8182-d828fa01559d",
        "id": "KdD1qXxNxCwj"
      },
      "execution_count": null,
      "outputs": [
        {
          "output_type": "stream",
          "name": "stdout",
          "text": [
            "Accuracy :  0.5444078947368421\n",
            "Macro F1 Score :  0.2528713177051638\n"
          ]
        }
      ]
    },
    {
      "cell_type": "markdown",
      "source": [
        "## **Experiment 4**"
      ],
      "metadata": {
        "id": "1ZdC93XUxbhX"
      }
    },
    {
      "cell_type": "code",
      "execution_count": 30,
      "metadata": {
        "colab": {
          "base_uri": "https://localhost:8080/"
        },
        "outputId": "f1fcac14-3f61-44b5-ce66-3f27cacf4aae",
        "id": "bmypi9Dnwzxw"
      },
      "outputs": [
        {
          "output_type": "stream",
          "name": "stderr",
          "text": [
            "WARNING:tensorflow:Layer gru_1 will not use cuDNN kernels since it doesn't meet the criteria. It will use a generic GPU kernel as fallback when running on GPU.\n",
            "WARNING:tensorflow:Layer gru_1 will not use cuDNN kernels since it doesn't meet the criteria. It will use a generic GPU kernel as fallback when running on GPU.\n",
            "WARNING:tensorflow:Layer gru_1 will not use cuDNN kernels since it doesn't meet the criteria. It will use a generic GPU kernel as fallback when running on GPU.\n"
          ]
        },
        {
          "output_type": "stream",
          "name": "stdout",
          "text": [
            "Epoch 1/3\n"
          ]
        },
        {
          "output_type": "stream",
          "name": "stderr",
          "text": [
            "WARNING:tensorflow:Gradients do not exist for variables ['tf_roberta_model/roberta/pooler/dense/kernel:0', 'tf_roberta_model/roberta/pooler/dense/bias:0'] when minimizing the loss. If you're using `model.compile()`, did you forget to provide a `loss`argument?\n",
            "WARNING:tensorflow:Gradients do not exist for variables ['tf_roberta_model/roberta/pooler/dense/kernel:0', 'tf_roberta_model/roberta/pooler/dense/bias:0'] when minimizing the loss. If you're using `model.compile()`, did you forget to provide a `loss`argument?\n"
          ]
        },
        {
          "output_type": "stream",
          "name": "stdout",
          "text": [
            "150/150 [==============================] - 422s 3s/step - loss: 3.2129 - comp_loss: 0.6637 - sev_loss: 1.2257 - sent_loss: 0.9864 - emo_loss: 1.6606 - comp_accuracy: 0.6042 - sev_accuracy: 0.5133 - sent_accuracy: 0.5642 - emo_accuracy: 0.4048 - val_loss: 2.9520 - val_comp_loss: 0.5546 - val_sev_loss: 1.1325 - val_sent_loss: 0.9393 - val_emo_loss: 1.5907 - val_comp_accuracy: 0.7359 - val_sev_accuracy: 0.5684 - val_sent_accuracy: 0.5603 - val_emo_accuracy: 0.4094\n",
            "Epoch 2/3\n",
            "150/150 [==============================] - 391s 3s/step - loss: 2.2406 - comp_loss: 0.3236 - sev_loss: 0.8413 - sent_loss: 0.7579 - emo_loss: 1.3935 - comp_accuracy: 0.8619 - sev_accuracy: 0.6821 - sent_accuracy: 0.6550 - emo_accuracy: 0.5113 - val_loss: 1.9353 - val_comp_loss: 0.2380 - val_sev_loss: 0.7646 - val_sent_loss: 0.5727 - val_emo_loss: 1.2927 - val_comp_accuracy: 0.9134 - val_sev_accuracy: 0.7044 - val_sent_accuracy: 0.7484 - val_emo_accuracy: 0.5487\n",
            "Epoch 3/3\n",
            "150/150 [==============================] - 391s 3s/step - loss: 1.5609 - comp_loss: 0.1221 - sev_loss: 0.5662 - sent_loss: 0.5893 - emo_loss: 1.1557 - comp_accuracy: 0.9571 - sev_accuracy: 0.7858 - sent_accuracy: 0.7427 - emo_accuracy: 0.5765 - val_loss: 1.5318 - val_comp_loss: 0.0950 - val_sev_loss: 0.5522 - val_sent_loss: 0.5772 - val_emo_loss: 1.1921 - val_comp_accuracy: 0.9688 - val_sev_accuracy: 0.7959 - val_sent_accuracy: 0.7663 - val_emo_accuracy: 0.5628\n"
          ]
        }
      ],
      "source": [
        "model = bert_tweets_model_quad()\n",
        "\n",
        "adam_optimizer = tf.keras.optimizers.Adam(learning_rate=1e-5)\n",
        "\n",
        "losses = {\n",
        "\"comp\": \"binary_crossentropy\",\n",
        "\"sev\": \"sparse_categorical_crossentropy\",\n",
        "\"sent\": \"sparse_categorical_crossentropy\",\n",
        "\"emo\": \"sparse_categorical_crossentropy\"\n",
        "}\n",
        "\n",
        "lossWeights = {\"comp\": 1.0, \"sev\": 1.0, \"sent\":0.5, \"emo\":0.5}\n",
        "# run_opts = tf.RunOptions(report_tensor_allocations_upon_oom = True)\n",
        "model.compile(loss=losses,loss_weights=lossWeights, optimizer=adam_optimizer,metrics=['accuracy'])\n",
        "\n",
        "# train the model\n",
        "_ = model.fit(\n",
        "    train_er,\n",
        "    validation_data = val_er,\n",
        "    steps_per_epoch = 150, \n",
        "    validation_steps = 100,\n",
        "    epochs = 3,\n",
        "    verbose = True\n",
        "    )\n",
        "\n",
        "# validate the model\n"
      ]
    },
    {
      "cell_type": "code",
      "source": [
        "acc = model.evaluate(test_er, steps = 100, verbose = True)"
      ],
      "metadata": {
        "colab": {
          "base_uri": "https://localhost:8080/"
        },
        "outputId": "3da58050-ade0-4944-db7b-62d1c235e78f",
        "id": "PmFiRv0Hwzxx"
      },
      "execution_count": 31,
      "outputs": [
        {
          "output_type": "stream",
          "name": "stdout",
          "text": [
            "100/100 [==============================] - 40s 402ms/step - loss: 1.5149 - comp_loss: 0.1196 - sev_loss: 0.5568 - sent_loss: 0.5538 - emo_loss: 1.1233 - comp_accuracy: 0.9600 - sev_accuracy: 0.7975 - sent_accuracy: 0.7609 - emo_accuracy: 0.5981\n"
          ]
        }
      ]
    },
    {
      "cell_type": "code",
      "source": [
        "test_pred_data,[y_pred,z_pred, p_pred,q_pred] = gen_data_mtl(test_encoded.numpy(),\n",
        "                    df_test['Complaint Label'].values ,\n",
        "                    df_test['Severity level'].values ,\n",
        "                    df_test['Sentiment'].values,\n",
        "                    df_test['Emotion'].values)"
      ],
      "metadata": {
        "id": "aVqBelSvwzxx"
      },
      "execution_count": 32,
      "outputs": []
    },
    {
      "cell_type": "code",
      "source": [
        "test_pred_data"
      ],
      "metadata": {
        "id": "39UKcFRxwzxx"
      },
      "execution_count": null,
      "outputs": []
    },
    {
      "cell_type": "code",
      "source": [
        "from sklearn.metrics import f1_score\n",
        "from sklearn.metrics import accuracy_score\n",
        "\n",
        "def macrof1s(y_true, y_pred):\n",
        "  return f1_score(y_true, y_pred, average='macro')\n",
        "\n",
        "acc1 = []\n",
        "mfs1 = []\n",
        "acc2 = []\n",
        "mfs2 = []\n",
        "acc3 = []\n",
        "mfs3 = []\n",
        "acc4 = []\n",
        "mfs4 = []\n",
        "\n",
        "for idx in range(len(test_pred_data)):\n",
        "  yp1, zp1, pp1, qp1 = model.predict(test_pred_data[idx])\n",
        "\n",
        "  yp2 = []\n",
        "  for i in yp1:\n",
        "    if(i>0.5):\n",
        "      yp2.append(1)\n",
        "    else:\n",
        "      yp2.append(0)\n",
        "\n",
        "  zp2 = zp1.argmax(axis = -1)\n",
        "  pp2 = pp1.argmax(axis = -1)\n",
        "  qp2 = qp1.argmax(axis = -1)\n",
        "\n",
        "  acc1.append(accuracy_score(yp2, y_pred[idx]))\n",
        "  acc2.append(accuracy_score(zp2, z_pred[idx]))\n",
        "  acc3.append(accuracy_score(pp2, p_pred[idx]))\n",
        "  acc4.append(accuracy_score(qp2, q_pred[idx]))\n",
        "\n",
        "\n",
        "  mfs1.append(f1_score(yp2, y_pred[idx], average='macro'))\n",
        "  mfs2.append(f1_score(zp2, z_pred[idx], average='macro'))\n",
        "  mfs3.append(f1_score(pp2, p_pred[idx], average='macro'))\n",
        "  mfs4.append(f1_score(qp2, q_pred[idx], average='macro'))\n"
      ],
      "metadata": {
        "id": "dT2_ExyLwzxx"
      },
      "execution_count": 34,
      "outputs": []
    },
    {
      "cell_type": "code",
      "source": [],
      "metadata": {
        "id": "pMHh8NCFwzxy"
      },
      "execution_count": 34,
      "outputs": []
    },
    {
      "cell_type": "markdown",
      "source": [
        "### **Final Macro F1 Score and Testing Accuracy**"
      ],
      "metadata": {
        "id": "VRKJ05Mtwzxy"
      }
    },
    {
      "cell_type": "code",
      "source": [
        "#Complaint Detection Task -\n",
        "print(\"Accuracy : \", sum(acc1)/len(acc1))\n",
        "print(\"Macro F1 Score : \", sum(mfs1)/len(mfs1))"
      ],
      "metadata": {
        "colab": {
          "base_uri": "https://localhost:8080/"
        },
        "outputId": "a9471141-0c5e-44c5-8a9e-6db0f7456cf8",
        "id": "Kqtx6Qb8wzxy"
      },
      "execution_count": 35,
      "outputs": [
        {
          "output_type": "stream",
          "name": "stdout",
          "text": [
            "Accuracy :  0.962171052631579\n",
            "Macro F1 Score :  0.9610289330882346\n"
          ]
        }
      ]
    },
    {
      "cell_type": "code",
      "source": [
        "#Severity Detection Task -\n",
        "print(\"Accuracy : \", sum(acc2)/len(acc2))\n",
        "print(\"Macro F1 Score : \", sum(mfs2)/len(mfs2))"
      ],
      "metadata": {
        "colab": {
          "base_uri": "https://localhost:8080/"
        },
        "outputId": "4e1629e3-8c2e-4f3d-fb1f-38d5e1f4de82",
        "id": "kJk_RuxTwzxy"
      },
      "execution_count": 36,
      "outputs": [
        {
          "output_type": "stream",
          "name": "stdout",
          "text": [
            "Accuracy :  0.7971491228070176\n",
            "Macro F1 Score :  0.6170619698629656\n"
          ]
        }
      ]
    },
    {
      "cell_type": "code",
      "source": [
        "#Sentiment Detection Task -\n",
        "print(\"Accuracy : \", sum(acc3)/len(acc3))\n",
        "print(\"Macro F1 Score : \", sum(mfs3)/len(mfs3))"
      ],
      "metadata": {
        "colab": {
          "base_uri": "https://localhost:8080/"
        },
        "outputId": "30f51ae6-19d1-4ef2-e1e4-a66c98717487",
        "id": "ZrJvDecTwzxy"
      },
      "execution_count": 37,
      "outputs": [
        {
          "output_type": "stream",
          "name": "stdout",
          "text": [
            "Accuracy :  0.7664473684210527\n",
            "Macro F1 Score :  0.6676371488613868\n"
          ]
        }
      ]
    },
    {
      "cell_type": "code",
      "source": [
        "#Emotion Detection Task -\n",
        "print(\"Accuracy : \", sum(acc4)/len(acc4))\n",
        "print(\"Macro F1 Score : \", sum(mfs4)/len(mfs4))"
      ],
      "metadata": {
        "colab": {
          "base_uri": "https://localhost:8080/"
        },
        "outputId": "7d91f9cf-37b8-467b-a0bc-dc5f59777d7f",
        "id": "quC1QSCwwzxz"
      },
      "execution_count": 38,
      "outputs": [
        {
          "output_type": "stream",
          "name": "stdout",
          "text": [
            "Accuracy :  0.5838815789473685\n",
            "Macro F1 Score :  0.33419183899441307\n"
          ]
        }
      ]
    },
    {
      "cell_type": "code",
      "source": [],
      "metadata": {
        "id": "Piw5t0M_qRFD"
      },
      "execution_count": null,
      "outputs": []
    },
    {
      "cell_type": "markdown",
      "source": [
        "## **Experiment 5**"
      ],
      "metadata": {
        "id": "L8CjefeDrZ3_"
      }
    },
    {
      "cell_type": "code",
      "source": [],
      "metadata": {
        "id": "jZqxoqglrgSB"
      },
      "execution_count": null,
      "outputs": []
    },
    {
      "cell_type": "code",
      "execution_count": 16,
      "metadata": {
        "id": "BPdyTXuJzGVK"
      },
      "outputs": [],
      "source": [
        "df = pd.read_csv('Fincorp.csv')\n",
        "df = df.sample(frac = 1)"
      ]
    },
    {
      "cell_type": "markdown",
      "metadata": {
        "id": "-TRQPrjUzGVK"
      },
      "source": [
        "**Label Encoding**"
      ]
    },
    {
      "cell_type": "code",
      "execution_count": 17,
      "metadata": {
        "id": "ErhNcF5CzGVL"
      },
      "outputs": [],
      "source": [
        "df['Emotion'] = le.fit_transform(df['Emotion'])\n",
        "df['Severity level'] = le.fit_transform(df['Severity level'])\n",
        "df['Sentiment'] = le.fit_transform(df['Sentiment'])\n",
        "df['Emotion'] = le.fit_transform(df['Emotion'])"
      ]
    },
    {
      "cell_type": "code",
      "execution_count": 18,
      "metadata": {
        "colab": {
          "base_uri": "https://localhost:8080/",
          "height": 424
        },
        "outputId": "bfa221d4-ab7a-4e19-a8d7-e1c5433ae089",
        "id": "iYDOncrFzGVL"
      },
      "outputs": [
        {
          "output_type": "execute_result",
          "data": {
            "text/plain": [
              "                               Domain  \\\n",
              "1199                 Customer Service   \n",
              "5599            Stocks and investment   \n",
              "181                  Transaction Fail   \n",
              "5870            Stocks and investment   \n",
              "5077                       Debit card   \n",
              "...                               ...   \n",
              "311                              Loan   \n",
              "2150              Transaction Failure   \n",
              "5935            Stocks and investment   \n",
              "2656  Consumer transaction complaints   \n",
              "5338                       Debit card   \n",
              "\n",
              "                                     Complaint/ Opinion  Complaint Label  \\\n",
              "1199  @AmazonHelp Several times i had connected to y...                1   \n",
              "5599  If you want to avoid volatility and steadily c...                0   \n",
              "181   Refund for my order on Myntra initiated on 24/...                1   \n",
              "5870  Watch this video to know, if Mutual Funds are ...                0   \n",
              "5077  @mackaycartoons @TheSpec you guys in Hamilton ...                0   \n",
              "...                                                 ...              ...   \n",
              "311   @ICICIBank_Care @ICICIBank @RBI @RBIsays not r...                1   \n",
              "2150  @chadflood888 @jaydee_757 You do know that Rip...                1   \n",
              "5935  🌓best index funds 2022 🌓Top5 mutual funds for ...                0   \n",
              "2656  Dear mr @_Kalyan_K your team of @flipkartsuppo...                1   \n",
              "5338  Grocery shopping with the EBT plug is such a b...                0   \n",
              "\n",
              "      Severity level  Sentiment  Emotion  \n",
              "1199               3          0        5  \n",
              "5599               4          2        4  \n",
              "181                3          0        5  \n",
              "5870               4          1        4  \n",
              "5077               4          2        3  \n",
              "...              ...        ...      ...  \n",
              "311                3          0        5  \n",
              "2150               3          0        5  \n",
              "5935               4          2        4  \n",
              "2656               1          0        0  \n",
              "5338               4          0        5  \n",
              "\n",
              "[6281 rows x 6 columns]"
            ],
            "text/html": [
              "\n",
              "  <div id=\"df-a11a39db-329a-4868-a7eb-8d4f688794f8\">\n",
              "    <div class=\"colab-df-container\">\n",
              "      <div>\n",
              "<style scoped>\n",
              "    .dataframe tbody tr th:only-of-type {\n",
              "        vertical-align: middle;\n",
              "    }\n",
              "\n",
              "    .dataframe tbody tr th {\n",
              "        vertical-align: top;\n",
              "    }\n",
              "\n",
              "    .dataframe thead th {\n",
              "        text-align: right;\n",
              "    }\n",
              "</style>\n",
              "<table border=\"1\" class=\"dataframe\">\n",
              "  <thead>\n",
              "    <tr style=\"text-align: right;\">\n",
              "      <th></th>\n",
              "      <th>Domain</th>\n",
              "      <th>Complaint/ Opinion</th>\n",
              "      <th>Complaint Label</th>\n",
              "      <th>Severity level</th>\n",
              "      <th>Sentiment</th>\n",
              "      <th>Emotion</th>\n",
              "    </tr>\n",
              "  </thead>\n",
              "  <tbody>\n",
              "    <tr>\n",
              "      <th>1199</th>\n",
              "      <td>Customer Service</td>\n",
              "      <td>@AmazonHelp Several times i had connected to y...</td>\n",
              "      <td>1</td>\n",
              "      <td>3</td>\n",
              "      <td>0</td>\n",
              "      <td>5</td>\n",
              "    </tr>\n",
              "    <tr>\n",
              "      <th>5599</th>\n",
              "      <td>Stocks and investment</td>\n",
              "      <td>If you want to avoid volatility and steadily c...</td>\n",
              "      <td>0</td>\n",
              "      <td>4</td>\n",
              "      <td>2</td>\n",
              "      <td>4</td>\n",
              "    </tr>\n",
              "    <tr>\n",
              "      <th>181</th>\n",
              "      <td>Transaction Fail</td>\n",
              "      <td>Refund for my order on Myntra initiated on 24/...</td>\n",
              "      <td>1</td>\n",
              "      <td>3</td>\n",
              "      <td>0</td>\n",
              "      <td>5</td>\n",
              "    </tr>\n",
              "    <tr>\n",
              "      <th>5870</th>\n",
              "      <td>Stocks and investment</td>\n",
              "      <td>Watch this video to know, if Mutual Funds are ...</td>\n",
              "      <td>0</td>\n",
              "      <td>4</td>\n",
              "      <td>1</td>\n",
              "      <td>4</td>\n",
              "    </tr>\n",
              "    <tr>\n",
              "      <th>5077</th>\n",
              "      <td>Debit card</td>\n",
              "      <td>@mackaycartoons @TheSpec you guys in Hamilton ...</td>\n",
              "      <td>0</td>\n",
              "      <td>4</td>\n",
              "      <td>2</td>\n",
              "      <td>3</td>\n",
              "    </tr>\n",
              "    <tr>\n",
              "      <th>...</th>\n",
              "      <td>...</td>\n",
              "      <td>...</td>\n",
              "      <td>...</td>\n",
              "      <td>...</td>\n",
              "      <td>...</td>\n",
              "      <td>...</td>\n",
              "    </tr>\n",
              "    <tr>\n",
              "      <th>311</th>\n",
              "      <td>Loan</td>\n",
              "      <td>@ICICIBank_Care @ICICIBank @RBI @RBIsays not r...</td>\n",
              "      <td>1</td>\n",
              "      <td>3</td>\n",
              "      <td>0</td>\n",
              "      <td>5</td>\n",
              "    </tr>\n",
              "    <tr>\n",
              "      <th>2150</th>\n",
              "      <td>Transaction Failure</td>\n",
              "      <td>@chadflood888 @jaydee_757 You do know that Rip...</td>\n",
              "      <td>1</td>\n",
              "      <td>3</td>\n",
              "      <td>0</td>\n",
              "      <td>5</td>\n",
              "    </tr>\n",
              "    <tr>\n",
              "      <th>5935</th>\n",
              "      <td>Stocks and investment</td>\n",
              "      <td>🌓best index funds 2022 🌓Top5 mutual funds for ...</td>\n",
              "      <td>0</td>\n",
              "      <td>4</td>\n",
              "      <td>2</td>\n",
              "      <td>4</td>\n",
              "    </tr>\n",
              "    <tr>\n",
              "      <th>2656</th>\n",
              "      <td>Consumer transaction complaints</td>\n",
              "      <td>Dear mr @_Kalyan_K your team of @flipkartsuppo...</td>\n",
              "      <td>1</td>\n",
              "      <td>1</td>\n",
              "      <td>0</td>\n",
              "      <td>0</td>\n",
              "    </tr>\n",
              "    <tr>\n",
              "      <th>5338</th>\n",
              "      <td>Debit card</td>\n",
              "      <td>Grocery shopping with the EBT plug is such a b...</td>\n",
              "      <td>0</td>\n",
              "      <td>4</td>\n",
              "      <td>0</td>\n",
              "      <td>5</td>\n",
              "    </tr>\n",
              "  </tbody>\n",
              "</table>\n",
              "<p>6281 rows × 6 columns</p>\n",
              "</div>\n",
              "      <button class=\"colab-df-convert\" onclick=\"convertToInteractive('df-a11a39db-329a-4868-a7eb-8d4f688794f8')\"\n",
              "              title=\"Convert this dataframe to an interactive table.\"\n",
              "              style=\"display:none;\">\n",
              "        \n",
              "  <svg xmlns=\"http://www.w3.org/2000/svg\" height=\"24px\"viewBox=\"0 0 24 24\"\n",
              "       width=\"24px\">\n",
              "    <path d=\"M0 0h24v24H0V0z\" fill=\"none\"/>\n",
              "    <path d=\"M18.56 5.44l.94 2.06.94-2.06 2.06-.94-2.06-.94-.94-2.06-.94 2.06-2.06.94zm-11 1L8.5 8.5l.94-2.06 2.06-.94-2.06-.94L8.5 2.5l-.94 2.06-2.06.94zm10 10l.94 2.06.94-2.06 2.06-.94-2.06-.94-.94-2.06-.94 2.06-2.06.94z\"/><path d=\"M17.41 7.96l-1.37-1.37c-.4-.4-.92-.59-1.43-.59-.52 0-1.04.2-1.43.59L10.3 9.45l-7.72 7.72c-.78.78-.78 2.05 0 2.83L4 21.41c.39.39.9.59 1.41.59.51 0 1.02-.2 1.41-.59l7.78-7.78 2.81-2.81c.8-.78.8-2.07 0-2.86zM5.41 20L4 18.59l7.72-7.72 1.47 1.35L5.41 20z\"/>\n",
              "  </svg>\n",
              "      </button>\n",
              "      \n",
              "  <style>\n",
              "    .colab-df-container {\n",
              "      display:flex;\n",
              "      flex-wrap:wrap;\n",
              "      gap: 12px;\n",
              "    }\n",
              "\n",
              "    .colab-df-convert {\n",
              "      background-color: #E8F0FE;\n",
              "      border: none;\n",
              "      border-radius: 50%;\n",
              "      cursor: pointer;\n",
              "      display: none;\n",
              "      fill: #1967D2;\n",
              "      height: 32px;\n",
              "      padding: 0 0 0 0;\n",
              "      width: 32px;\n",
              "    }\n",
              "\n",
              "    .colab-df-convert:hover {\n",
              "      background-color: #E2EBFA;\n",
              "      box-shadow: 0px 1px 2px rgba(60, 64, 67, 0.3), 0px 1px 3px 1px rgba(60, 64, 67, 0.15);\n",
              "      fill: #174EA6;\n",
              "    }\n",
              "\n",
              "    [theme=dark] .colab-df-convert {\n",
              "      background-color: #3B4455;\n",
              "      fill: #D2E3FC;\n",
              "    }\n",
              "\n",
              "    [theme=dark] .colab-df-convert:hover {\n",
              "      background-color: #434B5C;\n",
              "      box-shadow: 0px 1px 3px 1px rgba(0, 0, 0, 0.15);\n",
              "      filter: drop-shadow(0px 1px 2px rgba(0, 0, 0, 0.3));\n",
              "      fill: #FFFFFF;\n",
              "    }\n",
              "  </style>\n",
              "\n",
              "      <script>\n",
              "        const buttonEl =\n",
              "          document.querySelector('#df-a11a39db-329a-4868-a7eb-8d4f688794f8 button.colab-df-convert');\n",
              "        buttonEl.style.display =\n",
              "          google.colab.kernel.accessAllowed ? 'block' : 'none';\n",
              "\n",
              "        async function convertToInteractive(key) {\n",
              "          const element = document.querySelector('#df-a11a39db-329a-4868-a7eb-8d4f688794f8');\n",
              "          const dataTable =\n",
              "            await google.colab.kernel.invokeFunction('convertToInteractive',\n",
              "                                                     [key], {});\n",
              "          if (!dataTable) return;\n",
              "\n",
              "          const docLinkHtml = 'Like what you see? Visit the ' +\n",
              "            '<a target=\"_blank\" href=https://colab.research.google.com/notebooks/data_table.ipynb>data table notebook</a>'\n",
              "            + ' to learn more about interactive tables.';\n",
              "          element.innerHTML = '';\n",
              "          dataTable['output_type'] = 'display_data';\n",
              "          await google.colab.output.renderOutput(dataTable, element);\n",
              "          const docLink = document.createElement('div');\n",
              "          docLink.innerHTML = docLinkHtml;\n",
              "          element.appendChild(docLink);\n",
              "        }\n",
              "      </script>\n",
              "    </div>\n",
              "  </div>\n",
              "  "
            ]
          },
          "metadata": {},
          "execution_count": 18
        }
      ],
      "source": [
        "df"
      ]
    },
    {
      "cell_type": "code",
      "execution_count": 18,
      "metadata": {
        "id": "BdxnkL7mzGVL"
      },
      "outputs": [],
      "source": []
    },
    {
      "cell_type": "markdown",
      "metadata": {
        "id": "1XbSPEdGzGVM"
      },
      "source": [
        "### **Tokenization (RoBERTa)**"
      ]
    },
    {
      "cell_type": "code",
      "execution_count": 19,
      "metadata": {
        "id": "m7Nbzv4nzGVM"
      },
      "outputs": [],
      "source": [
        "def bert_encode(data):\n",
        "    tokens = tokenizer.batch_encode_plus(data, max_length=max_length, padding='max_length', truncation=True)\n",
        "    \n",
        "    return tf.constant(tokens['input_ids'])"
      ]
    },
    {
      "cell_type": "code",
      "execution_count": 20,
      "metadata": {
        "id": "KtCz08bizGVM"
      },
      "outputs": [],
      "source": [
        "import numpy as np\n",
        "from sklearn.model_selection import train_test_split\n",
        "\n",
        "df_train, df_test = train_test_split(df,  test_size=0.3, shuffle=True, random_state=42)"
      ]
    },
    {
      "cell_type": "code",
      "source": [
        "df_train, df_val = train_test_split(df_train,  test_size=0.15, shuffle=True, random_state=42)"
      ],
      "metadata": {
        "id": "1UvF_OyozGVM"
      },
      "execution_count": 21,
      "outputs": []
    },
    {
      "cell_type": "code",
      "source": [],
      "metadata": {
        "id": "6zBQ_ifTzGVN"
      },
      "execution_count": 21,
      "outputs": []
    },
    {
      "cell_type": "code",
      "execution_count": 22,
      "metadata": {
        "id": "1mXHdLDBzGVN"
      },
      "outputs": [],
      "source": [
        "train_encoded = bert_encode(df_train['Complaint/ Opinion'].values.tolist())"
      ]
    },
    {
      "cell_type": "code",
      "execution_count": 23,
      "metadata": {
        "colab": {
          "base_uri": "https://localhost:8080/"
        },
        "outputId": "4cccb744-8a1c-4fc2-9469-62d7396b0a74",
        "id": "r55ZJUttzGVN"
      },
      "outputs": [
        {
          "output_type": "execute_result",
          "data": {
            "text/plain": [
              "(3736, 200)"
            ]
          },
          "metadata": {},
          "execution_count": 23
        }
      ],
      "source": [
        "train_encoded.numpy().shape"
      ]
    },
    {
      "cell_type": "code",
      "execution_count": 24,
      "metadata": {
        "id": "lcOsOekvzGVN"
      },
      "outputs": [],
      "source": [
        "test_encoded = bert_encode(df_test['Complaint/ Opinion'].values.tolist())"
      ]
    },
    {
      "cell_type": "code",
      "execution_count": 25,
      "metadata": {
        "colab": {
          "base_uri": "https://localhost:8080/"
        },
        "outputId": "3a29f4c0-60c5-436a-c284-b27c09e77817",
        "id": "NYeW-KEdzGVN"
      },
      "outputs": [
        {
          "output_type": "execute_result",
          "data": {
            "text/plain": [
              "(1885, 200)"
            ]
          },
          "metadata": {},
          "execution_count": 25
        }
      ],
      "source": [
        "test_encoded.numpy().shape"
      ]
    },
    {
      "cell_type": "code",
      "execution_count": 26,
      "metadata": {
        "id": "9A9-1RuUzGVO"
      },
      "outputs": [],
      "source": [
        "val_encoded = bert_encode(df_val['Complaint/ Opinion'].values.tolist())"
      ]
    },
    {
      "cell_type": "code",
      "source": [],
      "metadata": {
        "id": "AzNnVC1KzGVO"
      },
      "execution_count": 26,
      "outputs": []
    },
    {
      "cell_type": "code",
      "source": [
        "train_er = gen_data4(train_encoded.numpy(),\n",
        "                     df_train['Complaint Label'].values ,\n",
        "                     df_train['Severity level'].values, \n",
        "                     df_train['Sentiment'].values,\n",
        "                     df_train['Emotion'].values)"
      ],
      "metadata": {
        "id": "Gk7zlmqMzGVO"
      },
      "execution_count": 27,
      "outputs": []
    },
    {
      "cell_type": "code",
      "source": [
        "test_er = gen_data4(test_encoded.numpy(),\n",
        "                    df_test['Complaint Label'].values ,\n",
        "                    df_test['Severity level'].values ,\n",
        "                    df_test['Sentiment'].values,\n",
        "                    df_test['Emotion'].values)"
      ],
      "metadata": {
        "id": "qKqZgn4azGVO"
      },
      "execution_count": 28,
      "outputs": []
    },
    {
      "cell_type": "code",
      "source": [
        "val_er = gen_data4(val_encoded.numpy(),\n",
        "                   df_val['Complaint Label'].values ,\n",
        "                   df_val['Severity level'].values, \n",
        "                   df_val['Sentiment'].values,\n",
        "                   df_val['Emotion'].values)"
      ],
      "metadata": {
        "id": "M_aKWELpzGVP"
      },
      "execution_count": 29,
      "outputs": []
    },
    {
      "cell_type": "code",
      "source": [
        "test_pred_data,[y_pred,z_pred, p_pred,q_pred] = gen_data_mtl(test_encoded.numpy(),\n",
        "                    df_test['Complaint Label'].values ,\n",
        "                    df_test['Severity level'].values ,\n",
        "                    df_test['Sentiment'].values,\n",
        "                    df_test['Emotion'].values)"
      ],
      "metadata": {
        "id": "nE1nLPg1zGVP"
      },
      "execution_count": 30,
      "outputs": []
    },
    {
      "cell_type": "code",
      "execution_count": 31,
      "metadata": {
        "colab": {
          "base_uri": "https://localhost:8080/"
        },
        "outputId": "a043e013-5cd7-448f-ae73-16a779c98f5d",
        "id": "IB3ssf0TzGVP"
      },
      "outputs": [
        {
          "output_type": "stream",
          "name": "stderr",
          "text": [
            "WARNING:tensorflow:Layer gru_1 will not use cuDNN kernels since it doesn't meet the criteria. It will use a generic GPU kernel as fallback when running on GPU.\n",
            "WARNING:tensorflow:Layer gru_1 will not use cuDNN kernels since it doesn't meet the criteria. It will use a generic GPU kernel as fallback when running on GPU.\n",
            "WARNING:tensorflow:Layer gru_1 will not use cuDNN kernels since it doesn't meet the criteria. It will use a generic GPU kernel as fallback when running on GPU.\n"
          ]
        },
        {
          "output_type": "stream",
          "name": "stdout",
          "text": [
            "Epoch 1/3\n"
          ]
        },
        {
          "output_type": "stream",
          "name": "stderr",
          "text": [
            "WARNING:tensorflow:Gradients do not exist for variables ['tf_roberta_model/roberta/pooler/dense/kernel:0', 'tf_roberta_model/roberta/pooler/dense/bias:0'] when minimizing the loss. If you're using `model.compile()`, did you forget to provide a `loss`argument?\n",
            "WARNING:tensorflow:Gradients do not exist for variables ['tf_roberta_model/roberta/pooler/dense/kernel:0', 'tf_roberta_model/roberta/pooler/dense/bias:0'] when minimizing the loss. If you're using `model.compile()`, did you forget to provide a `loss`argument?\n"
          ]
        },
        {
          "output_type": "stream",
          "name": "stdout",
          "text": [
            "150/150 [==============================] - 333s 2s/step - loss: 3.0254 - comp_loss: 0.5699 - sev_loss: 1.1835 - sent_loss: 0.9442 - emo_loss: 1.5997 - comp_accuracy: 0.6833 - sev_accuracy: 0.5371 - sent_accuracy: 0.5750 - emo_accuracy: 0.4298 - val_loss: 2.3039 - val_comp_loss: 0.3189 - val_sev_loss: 0.8740 - val_sent_loss: 0.7674 - val_emo_loss: 1.4546 - val_comp_accuracy: 0.8684 - val_sev_accuracy: 0.6669 - val_sent_accuracy: 0.6125 - val_emo_accuracy: 0.5181\n",
            "Epoch 2/3\n",
            "150/150 [==============================] - 310s 2s/step - loss: 2.0105 - comp_loss: 0.2267 - sev_loss: 0.7783 - sent_loss: 0.7041 - emo_loss: 1.3069 - comp_accuracy: 0.9152 - sev_accuracy: 0.7019 - sent_accuracy: 0.6829 - emo_accuracy: 0.5248 - val_loss: 1.8546 - val_comp_loss: 0.2056 - val_sev_loss: 0.7132 - val_sent_loss: 0.6238 - val_emo_loss: 1.2477 - val_comp_accuracy: 0.9247 - val_sev_accuracy: 0.7431 - val_sent_accuracy: 0.7344 - val_emo_accuracy: 0.5669\n",
            "Epoch 3/3\n",
            "150/150 [==============================] - 310s 2s/step - loss: 1.5203 - comp_loss: 0.1206 - sev_loss: 0.5530 - sent_loss: 0.5627 - emo_loss: 1.1306 - comp_accuracy: 0.9571 - sev_accuracy: 0.7937 - sent_accuracy: 0.7548 - emo_accuracy: 0.5860 - val_loss: 1.6072 - val_comp_loss: 0.1365 - val_sev_loss: 0.6296 - val_sent_loss: 0.5423 - val_emo_loss: 1.1400 - val_comp_accuracy: 0.9450 - val_sev_accuracy: 0.7828 - val_sent_accuracy: 0.7525 - val_emo_accuracy: 0.5841\n"
          ]
        }
      ],
      "source": [
        "model = bert_tweets_model_quad()\n",
        "\n",
        "adam_optimizer = tf.keras.optimizers.Adam(learning_rate=1e-5)\n",
        "\n",
        "losses = {\n",
        "\"comp\": \"binary_crossentropy\",\n",
        "\"sev\": \"sparse_categorical_crossentropy\",\n",
        "\"sent\": \"sparse_categorical_crossentropy\",\n",
        "\"emo\": \"sparse_categorical_crossentropy\"\n",
        "}\n",
        "\n",
        "lossWeights = {\"comp\": 1.0, \"sev\": 1.0, \"sent\":0.5, \"emo\":0.5}\n",
        "# run_opts = tf.RunOptions(report_tensor_allocations_upon_oom = True)\n",
        "model.compile(loss=losses,loss_weights=lossWeights, optimizer=adam_optimizer,metrics=['accuracy'])\n",
        "\n",
        "# train the model\n",
        "_ = model.fit(\n",
        "    train_er,\n",
        "    validation_data = val_er,\n",
        "    steps_per_epoch = 150, \n",
        "    validation_steps = 100,\n",
        "    epochs = 3,\n",
        "    verbose = True\n",
        "    )\n",
        "\n",
        "# validate the model\n"
      ]
    },
    {
      "cell_type": "code",
      "source": [
        "acc = model.evaluate(test_er, steps = 100, verbose = True)"
      ],
      "metadata": {
        "colab": {
          "base_uri": "https://localhost:8080/"
        },
        "outputId": "66779269-a04b-49d3-cc53-c887086af575",
        "id": "4z21dpr6zGVP"
      },
      "execution_count": 32,
      "outputs": [
        {
          "output_type": "stream",
          "name": "stdout",
          "text": [
            "100/100 [==============================] - 35s 354ms/step - loss: 1.4820 - comp_loss: 0.1134 - sev_loss: 0.5210 - sent_loss: 0.5477 - emo_loss: 1.1474 - comp_accuracy: 0.9634 - sev_accuracy: 0.7987 - sent_accuracy: 0.7694 - emo_accuracy: 0.5922\n"
          ]
        }
      ]
    },
    {
      "cell_type": "code",
      "source": [
        "test_pred_data,[y_pred,z_pred, p_pred,q_pred] = gen_data_mtl(test_encoded.numpy(),\n",
        "                    df_test['Complaint Label'].values ,\n",
        "                    df_test['Severity level'].values ,\n",
        "                    df_test['Sentiment'].values,\n",
        "                    df_test['Emotion'].values)"
      ],
      "metadata": {
        "id": "bgOqEadlzGVQ"
      },
      "execution_count": 33,
      "outputs": []
    },
    {
      "cell_type": "code",
      "source": [
        "from sklearn.metrics import f1_score\n",
        "from sklearn.metrics import accuracy_score\n",
        "\n",
        "def macrof1s(y_true, y_pred):\n",
        "  return f1_score(y_true, y_pred, average='macro')\n",
        "\n",
        "acc1 = []\n",
        "mfs1 = []\n",
        "acc2 = []\n",
        "mfs2 = []\n",
        "acc3 = []\n",
        "mfs3 = []\n",
        "acc4 = []\n",
        "mfs4 = []\n",
        "\n",
        "for idx in range(len(test_pred_data)):\n",
        "  yp1, zp1, pp1, qp1 = model.predict(test_pred_data[idx])\n",
        "\n",
        "  yp2 = []\n",
        "  for i in yp1:\n",
        "    if(i>0.5):\n",
        "      yp2.append(1)\n",
        "    else:\n",
        "      yp2.append(0)\n",
        "\n",
        "  zp2 = zp1.argmax(axis = -1)\n",
        "  pp2 = pp1.argmax(axis = -1)\n",
        "  qp2 = qp1.argmax(axis = -1)\n",
        "\n",
        "  acc1.append(accuracy_score(yp2, y_pred[idx]))\n",
        "  acc2.append(accuracy_score(zp2, z_pred[idx]))\n",
        "  acc3.append(accuracy_score(pp2, p_pred[idx]))\n",
        "  acc4.append(accuracy_score(qp2, q_pred[idx]))\n",
        "\n",
        "\n",
        "  mfs1.append(f1_score(yp2, y_pred[idx], average='macro'))\n",
        "  mfs2.append(f1_score(zp2, z_pred[idx], average='macro'))\n",
        "  mfs3.append(f1_score(pp2, p_pred[idx], average='macro'))\n",
        "  mfs4.append(f1_score(qp2, q_pred[idx], average='macro'))\n"
      ],
      "metadata": {
        "id": "O9ikXXRfzGVQ"
      },
      "execution_count": 34,
      "outputs": []
    },
    {
      "cell_type": "code",
      "source": [],
      "metadata": {
        "id": "U05rm2-TzGVQ"
      },
      "execution_count": 34,
      "outputs": []
    },
    {
      "cell_type": "markdown",
      "source": [
        "### **Final Macro F1 Score and Testing Accuracy**"
      ],
      "metadata": {
        "id": "8I7UrxHWzGVR"
      }
    },
    {
      "cell_type": "code",
      "source": [
        "#Complaint Detection Task -\n",
        "print(\"Accuracy : \", sum(acc1)/len(acc1))\n",
        "print(\"Macro F1 Score : \", sum(mfs1)/len(mfs1))"
      ],
      "metadata": {
        "colab": {
          "base_uri": "https://localhost:8080/"
        },
        "outputId": "0697efe4-9c9b-43c4-9bb9-95993b786673",
        "id": "EsicueEBzGVR"
      },
      "execution_count": 35,
      "outputs": [
        {
          "output_type": "stream",
          "name": "stdout",
          "text": [
            "Accuracy :  0.9643640350877193\n",
            "Macro F1 Score :  0.963157427261644\n"
          ]
        }
      ]
    },
    {
      "cell_type": "code",
      "source": [
        "#Severity Detection Task -\n",
        "print(\"Accuracy : \", sum(acc2)/len(acc2))\n",
        "print(\"Macro F1 Score : \", sum(mfs2)/len(mfs2))"
      ],
      "metadata": {
        "colab": {
          "base_uri": "https://localhost:8080/"
        },
        "outputId": "280426a9-e664-446b-b2b7-086f28f54669",
        "id": "EyhQPeZmzGVR"
      },
      "execution_count": 36,
      "outputs": [
        {
          "output_type": "stream",
          "name": "stdout",
          "text": [
            "Accuracy :  0.7856359649122807\n",
            "Macro F1 Score :  0.6138147783866927\n"
          ]
        }
      ]
    },
    {
      "cell_type": "code",
      "source": [
        "#Sentiment Detection Task -\n",
        "print(\"Accuracy : \", sum(acc3)/len(acc3))\n",
        "print(\"Macro F1 Score : \", sum(mfs3)/len(mfs3))"
      ],
      "metadata": {
        "colab": {
          "base_uri": "https://localhost:8080/"
        },
        "outputId": "40dea965-ac1e-4ed0-cfb8-2ee2964d4bca",
        "id": "viboVnWuzGVR"
      },
      "execution_count": 37,
      "outputs": [
        {
          "output_type": "stream",
          "name": "stdout",
          "text": [
            "Accuracy :  0.774671052631579\n",
            "Macro F1 Score :  0.691633737994133\n"
          ]
        }
      ]
    },
    {
      "cell_type": "code",
      "source": [
        "#Emotion Detection Task -\n",
        "print(\"Accuracy : \", sum(acc4)/len(acc4))\n",
        "print(\"Macro F1 Score : \", sum(mfs4)/len(mfs4))"
      ],
      "metadata": {
        "colab": {
          "base_uri": "https://localhost:8080/"
        },
        "outputId": "37481e38-af02-4e95-c9f1-896808a8f049",
        "id": "uFSCK8rgzGVS"
      },
      "execution_count": 38,
      "outputs": [
        {
          "output_type": "stream",
          "name": "stdout",
          "text": [
            "Accuracy :  0.6041666666666666\n",
            "Macro F1 Score :  0.34095329477856945\n"
          ]
        }
      ]
    },
    {
      "cell_type": "code",
      "source": [],
      "metadata": {
        "id": "IaFbugf5fkZv"
      },
      "execution_count": null,
      "outputs": []
    },
    {
      "cell_type": "code",
      "source": [],
      "metadata": {
        "id": "LW6aOQ66fkct"
      },
      "execution_count": null,
      "outputs": []
    }
  ],
  "metadata": {
    "accelerator": "GPU",
    "colab": {
      "collapsed_sections": [
        "ehBQaBb-cqxd",
        "hBpTwyX_fmnZ",
        "9C9GRcgJh1cy",
        "NOPB-2BDWH3k"
      ],
      "machine_shape": "hm",
      "name": "Quad_Task_Experiments.ipynb",
      "provenance": []
    },
    "gpuClass": "standard",
    "kernelspec": {
      "display_name": "Python 3",
      "name": "python3"
    },
    "language_info": {
      "name": "python"
    },
    "widgets": {
      "application/vnd.jupyter.widget-state+json": {
        "29a23d5618694a6b88ab736e511eb859": {
          "model_module": "@jupyter-widgets/controls",
          "model_name": "HBoxModel",
          "model_module_version": "1.5.0",
          "state": {
            "_dom_classes": [],
            "_model_module": "@jupyter-widgets/controls",
            "_model_module_version": "1.5.0",
            "_model_name": "HBoxModel",
            "_view_count": null,
            "_view_module": "@jupyter-widgets/controls",
            "_view_module_version": "1.5.0",
            "_view_name": "HBoxView",
            "box_style": "",
            "children": [
              "IPY_MODEL_41bbcd49fed443ab9c7ace9fbb9416ae",
              "IPY_MODEL_c560f32980634e2abd9fdd19164f4177",
              "IPY_MODEL_6efe8902fd684b2aa0692e1b0ae2b634"
            ],
            "layout": "IPY_MODEL_b32a0992ae524d3aa5de370d47b58165"
          }
        },
        "41bbcd49fed443ab9c7ace9fbb9416ae": {
          "model_module": "@jupyter-widgets/controls",
          "model_name": "HTMLModel",
          "model_module_version": "1.5.0",
          "state": {
            "_dom_classes": [],
            "_model_module": "@jupyter-widgets/controls",
            "_model_module_version": "1.5.0",
            "_model_name": "HTMLModel",
            "_view_count": null,
            "_view_module": "@jupyter-widgets/controls",
            "_view_module_version": "1.5.0",
            "_view_name": "HTMLView",
            "description": "",
            "description_tooltip": null,
            "layout": "IPY_MODEL_22f5c4a59e7f4accb26160ed2091fe2a",
            "placeholder": "​",
            "style": "IPY_MODEL_6eaf6bedefdd408682666a7163d58270",
            "value": "Downloading config.json: 100%"
          }
        },
        "c560f32980634e2abd9fdd19164f4177": {
          "model_module": "@jupyter-widgets/controls",
          "model_name": "FloatProgressModel",
          "model_module_version": "1.5.0",
          "state": {
            "_dom_classes": [],
            "_model_module": "@jupyter-widgets/controls",
            "_model_module_version": "1.5.0",
            "_model_name": "FloatProgressModel",
            "_view_count": null,
            "_view_module": "@jupyter-widgets/controls",
            "_view_module_version": "1.5.0",
            "_view_name": "ProgressView",
            "bar_style": "success",
            "description": "",
            "description_tooltip": null,
            "layout": "IPY_MODEL_e9d24b23deef4aeca291eca1700b6822",
            "max": 481,
            "min": 0,
            "orientation": "horizontal",
            "style": "IPY_MODEL_47baf24433954bd7af1f201e68b2f7db",
            "value": 481
          }
        },
        "6efe8902fd684b2aa0692e1b0ae2b634": {
          "model_module": "@jupyter-widgets/controls",
          "model_name": "HTMLModel",
          "model_module_version": "1.5.0",
          "state": {
            "_dom_classes": [],
            "_model_module": "@jupyter-widgets/controls",
            "_model_module_version": "1.5.0",
            "_model_name": "HTMLModel",
            "_view_count": null,
            "_view_module": "@jupyter-widgets/controls",
            "_view_module_version": "1.5.0",
            "_view_name": "HTMLView",
            "description": "",
            "description_tooltip": null,
            "layout": "IPY_MODEL_093cf75b2a524fc9965552c74d9fe61b",
            "placeholder": "​",
            "style": "IPY_MODEL_79a0a3f0aacb42788df9b4365cdfa64d",
            "value": " 481/481 [00:00&lt;00:00, 16.9kB/s]"
          }
        },
        "b32a0992ae524d3aa5de370d47b58165": {
          "model_module": "@jupyter-widgets/base",
          "model_name": "LayoutModel",
          "model_module_version": "1.2.0",
          "state": {
            "_model_module": "@jupyter-widgets/base",
            "_model_module_version": "1.2.0",
            "_model_name": "LayoutModel",
            "_view_count": null,
            "_view_module": "@jupyter-widgets/base",
            "_view_module_version": "1.2.0",
            "_view_name": "LayoutView",
            "align_content": null,
            "align_items": null,
            "align_self": null,
            "border": null,
            "bottom": null,
            "display": null,
            "flex": null,
            "flex_flow": null,
            "grid_area": null,
            "grid_auto_columns": null,
            "grid_auto_flow": null,
            "grid_auto_rows": null,
            "grid_column": null,
            "grid_gap": null,
            "grid_row": null,
            "grid_template_areas": null,
            "grid_template_columns": null,
            "grid_template_rows": null,
            "height": null,
            "justify_content": null,
            "justify_items": null,
            "left": null,
            "margin": null,
            "max_height": null,
            "max_width": null,
            "min_height": null,
            "min_width": null,
            "object_fit": null,
            "object_position": null,
            "order": null,
            "overflow": null,
            "overflow_x": null,
            "overflow_y": null,
            "padding": null,
            "right": null,
            "top": null,
            "visibility": null,
            "width": null
          }
        },
        "22f5c4a59e7f4accb26160ed2091fe2a": {
          "model_module": "@jupyter-widgets/base",
          "model_name": "LayoutModel",
          "model_module_version": "1.2.0",
          "state": {
            "_model_module": "@jupyter-widgets/base",
            "_model_module_version": "1.2.0",
            "_model_name": "LayoutModel",
            "_view_count": null,
            "_view_module": "@jupyter-widgets/base",
            "_view_module_version": "1.2.0",
            "_view_name": "LayoutView",
            "align_content": null,
            "align_items": null,
            "align_self": null,
            "border": null,
            "bottom": null,
            "display": null,
            "flex": null,
            "flex_flow": null,
            "grid_area": null,
            "grid_auto_columns": null,
            "grid_auto_flow": null,
            "grid_auto_rows": null,
            "grid_column": null,
            "grid_gap": null,
            "grid_row": null,
            "grid_template_areas": null,
            "grid_template_columns": null,
            "grid_template_rows": null,
            "height": null,
            "justify_content": null,
            "justify_items": null,
            "left": null,
            "margin": null,
            "max_height": null,
            "max_width": null,
            "min_height": null,
            "min_width": null,
            "object_fit": null,
            "object_position": null,
            "order": null,
            "overflow": null,
            "overflow_x": null,
            "overflow_y": null,
            "padding": null,
            "right": null,
            "top": null,
            "visibility": null,
            "width": null
          }
        },
        "6eaf6bedefdd408682666a7163d58270": {
          "model_module": "@jupyter-widgets/controls",
          "model_name": "DescriptionStyleModel",
          "model_module_version": "1.5.0",
          "state": {
            "_model_module": "@jupyter-widgets/controls",
            "_model_module_version": "1.5.0",
            "_model_name": "DescriptionStyleModel",
            "_view_count": null,
            "_view_module": "@jupyter-widgets/base",
            "_view_module_version": "1.2.0",
            "_view_name": "StyleView",
            "description_width": ""
          }
        },
        "e9d24b23deef4aeca291eca1700b6822": {
          "model_module": "@jupyter-widgets/base",
          "model_name": "LayoutModel",
          "model_module_version": "1.2.0",
          "state": {
            "_model_module": "@jupyter-widgets/base",
            "_model_module_version": "1.2.0",
            "_model_name": "LayoutModel",
            "_view_count": null,
            "_view_module": "@jupyter-widgets/base",
            "_view_module_version": "1.2.0",
            "_view_name": "LayoutView",
            "align_content": null,
            "align_items": null,
            "align_self": null,
            "border": null,
            "bottom": null,
            "display": null,
            "flex": null,
            "flex_flow": null,
            "grid_area": null,
            "grid_auto_columns": null,
            "grid_auto_flow": null,
            "grid_auto_rows": null,
            "grid_column": null,
            "grid_gap": null,
            "grid_row": null,
            "grid_template_areas": null,
            "grid_template_columns": null,
            "grid_template_rows": null,
            "height": null,
            "justify_content": null,
            "justify_items": null,
            "left": null,
            "margin": null,
            "max_height": null,
            "max_width": null,
            "min_height": null,
            "min_width": null,
            "object_fit": null,
            "object_position": null,
            "order": null,
            "overflow": null,
            "overflow_x": null,
            "overflow_y": null,
            "padding": null,
            "right": null,
            "top": null,
            "visibility": null,
            "width": null
          }
        },
        "47baf24433954bd7af1f201e68b2f7db": {
          "model_module": "@jupyter-widgets/controls",
          "model_name": "ProgressStyleModel",
          "model_module_version": "1.5.0",
          "state": {
            "_model_module": "@jupyter-widgets/controls",
            "_model_module_version": "1.5.0",
            "_model_name": "ProgressStyleModel",
            "_view_count": null,
            "_view_module": "@jupyter-widgets/base",
            "_view_module_version": "1.2.0",
            "_view_name": "StyleView",
            "bar_color": null,
            "description_width": ""
          }
        },
        "093cf75b2a524fc9965552c74d9fe61b": {
          "model_module": "@jupyter-widgets/base",
          "model_name": "LayoutModel",
          "model_module_version": "1.2.0",
          "state": {
            "_model_module": "@jupyter-widgets/base",
            "_model_module_version": "1.2.0",
            "_model_name": "LayoutModel",
            "_view_count": null,
            "_view_module": "@jupyter-widgets/base",
            "_view_module_version": "1.2.0",
            "_view_name": "LayoutView",
            "align_content": null,
            "align_items": null,
            "align_self": null,
            "border": null,
            "bottom": null,
            "display": null,
            "flex": null,
            "flex_flow": null,
            "grid_area": null,
            "grid_auto_columns": null,
            "grid_auto_flow": null,
            "grid_auto_rows": null,
            "grid_column": null,
            "grid_gap": null,
            "grid_row": null,
            "grid_template_areas": null,
            "grid_template_columns": null,
            "grid_template_rows": null,
            "height": null,
            "justify_content": null,
            "justify_items": null,
            "left": null,
            "margin": null,
            "max_height": null,
            "max_width": null,
            "min_height": null,
            "min_width": null,
            "object_fit": null,
            "object_position": null,
            "order": null,
            "overflow": null,
            "overflow_x": null,
            "overflow_y": null,
            "padding": null,
            "right": null,
            "top": null,
            "visibility": null,
            "width": null
          }
        },
        "79a0a3f0aacb42788df9b4365cdfa64d": {
          "model_module": "@jupyter-widgets/controls",
          "model_name": "DescriptionStyleModel",
          "model_module_version": "1.5.0",
          "state": {
            "_model_module": "@jupyter-widgets/controls",
            "_model_module_version": "1.5.0",
            "_model_name": "DescriptionStyleModel",
            "_view_count": null,
            "_view_module": "@jupyter-widgets/base",
            "_view_module_version": "1.2.0",
            "_view_name": "StyleView",
            "description_width": ""
          }
        },
        "d799727d41904980a67b055bd0561156": {
          "model_module": "@jupyter-widgets/controls",
          "model_name": "HBoxModel",
          "model_module_version": "1.5.0",
          "state": {
            "_dom_classes": [],
            "_model_module": "@jupyter-widgets/controls",
            "_model_module_version": "1.5.0",
            "_model_name": "HBoxModel",
            "_view_count": null,
            "_view_module": "@jupyter-widgets/controls",
            "_view_module_version": "1.5.0",
            "_view_name": "HBoxView",
            "box_style": "",
            "children": [
              "IPY_MODEL_7087fbd6ee954ca19f5dfe5b462df019",
              "IPY_MODEL_cf0dcf08ab7a48b39f89f670d7d48f44",
              "IPY_MODEL_0ff0ae4c442a4f659d7c8806f2bd6821"
            ],
            "layout": "IPY_MODEL_86a37a62e5b84a35be24763aba0bd3a4"
          }
        },
        "7087fbd6ee954ca19f5dfe5b462df019": {
          "model_module": "@jupyter-widgets/controls",
          "model_name": "HTMLModel",
          "model_module_version": "1.5.0",
          "state": {
            "_dom_classes": [],
            "_model_module": "@jupyter-widgets/controls",
            "_model_module_version": "1.5.0",
            "_model_name": "HTMLModel",
            "_view_count": null,
            "_view_module": "@jupyter-widgets/controls",
            "_view_module_version": "1.5.0",
            "_view_name": "HTMLView",
            "description": "",
            "description_tooltip": null,
            "layout": "IPY_MODEL_04d57c6ed1da489fb93c3255e77dc926",
            "placeholder": "​",
            "style": "IPY_MODEL_52ecc7ced45545dca480719b9c2a4eea",
            "value": "Downloading vocab.json: 100%"
          }
        },
        "cf0dcf08ab7a48b39f89f670d7d48f44": {
          "model_module": "@jupyter-widgets/controls",
          "model_name": "FloatProgressModel",
          "model_module_version": "1.5.0",
          "state": {
            "_dom_classes": [],
            "_model_module": "@jupyter-widgets/controls",
            "_model_module_version": "1.5.0",
            "_model_name": "FloatProgressModel",
            "_view_count": null,
            "_view_module": "@jupyter-widgets/controls",
            "_view_module_version": "1.5.0",
            "_view_name": "ProgressView",
            "bar_style": "success",
            "description": "",
            "description_tooltip": null,
            "layout": "IPY_MODEL_8501c6adad38438bb4d4e52a2d8fc1b1",
            "max": 898823,
            "min": 0,
            "orientation": "horizontal",
            "style": "IPY_MODEL_c6329508b08f4f9badb20c73f000390d",
            "value": 898823
          }
        },
        "0ff0ae4c442a4f659d7c8806f2bd6821": {
          "model_module": "@jupyter-widgets/controls",
          "model_name": "HTMLModel",
          "model_module_version": "1.5.0",
          "state": {
            "_dom_classes": [],
            "_model_module": "@jupyter-widgets/controls",
            "_model_module_version": "1.5.0",
            "_model_name": "HTMLModel",
            "_view_count": null,
            "_view_module": "@jupyter-widgets/controls",
            "_view_module_version": "1.5.0",
            "_view_name": "HTMLView",
            "description": "",
            "description_tooltip": null,
            "layout": "IPY_MODEL_3569e80bec7e4101bd26921c104fa2b7",
            "placeholder": "​",
            "style": "IPY_MODEL_975d7bdfab414fb2afea8292727baf82",
            "value": " 878k/878k [00:00&lt;00:00, 1.24MB/s]"
          }
        },
        "86a37a62e5b84a35be24763aba0bd3a4": {
          "model_module": "@jupyter-widgets/base",
          "model_name": "LayoutModel",
          "model_module_version": "1.2.0",
          "state": {
            "_model_module": "@jupyter-widgets/base",
            "_model_module_version": "1.2.0",
            "_model_name": "LayoutModel",
            "_view_count": null,
            "_view_module": "@jupyter-widgets/base",
            "_view_module_version": "1.2.0",
            "_view_name": "LayoutView",
            "align_content": null,
            "align_items": null,
            "align_self": null,
            "border": null,
            "bottom": null,
            "display": null,
            "flex": null,
            "flex_flow": null,
            "grid_area": null,
            "grid_auto_columns": null,
            "grid_auto_flow": null,
            "grid_auto_rows": null,
            "grid_column": null,
            "grid_gap": null,
            "grid_row": null,
            "grid_template_areas": null,
            "grid_template_columns": null,
            "grid_template_rows": null,
            "height": null,
            "justify_content": null,
            "justify_items": null,
            "left": null,
            "margin": null,
            "max_height": null,
            "max_width": null,
            "min_height": null,
            "min_width": null,
            "object_fit": null,
            "object_position": null,
            "order": null,
            "overflow": null,
            "overflow_x": null,
            "overflow_y": null,
            "padding": null,
            "right": null,
            "top": null,
            "visibility": null,
            "width": null
          }
        },
        "04d57c6ed1da489fb93c3255e77dc926": {
          "model_module": "@jupyter-widgets/base",
          "model_name": "LayoutModel",
          "model_module_version": "1.2.0",
          "state": {
            "_model_module": "@jupyter-widgets/base",
            "_model_module_version": "1.2.0",
            "_model_name": "LayoutModel",
            "_view_count": null,
            "_view_module": "@jupyter-widgets/base",
            "_view_module_version": "1.2.0",
            "_view_name": "LayoutView",
            "align_content": null,
            "align_items": null,
            "align_self": null,
            "border": null,
            "bottom": null,
            "display": null,
            "flex": null,
            "flex_flow": null,
            "grid_area": null,
            "grid_auto_columns": null,
            "grid_auto_flow": null,
            "grid_auto_rows": null,
            "grid_column": null,
            "grid_gap": null,
            "grid_row": null,
            "grid_template_areas": null,
            "grid_template_columns": null,
            "grid_template_rows": null,
            "height": null,
            "justify_content": null,
            "justify_items": null,
            "left": null,
            "margin": null,
            "max_height": null,
            "max_width": null,
            "min_height": null,
            "min_width": null,
            "object_fit": null,
            "object_position": null,
            "order": null,
            "overflow": null,
            "overflow_x": null,
            "overflow_y": null,
            "padding": null,
            "right": null,
            "top": null,
            "visibility": null,
            "width": null
          }
        },
        "52ecc7ced45545dca480719b9c2a4eea": {
          "model_module": "@jupyter-widgets/controls",
          "model_name": "DescriptionStyleModel",
          "model_module_version": "1.5.0",
          "state": {
            "_model_module": "@jupyter-widgets/controls",
            "_model_module_version": "1.5.0",
            "_model_name": "DescriptionStyleModel",
            "_view_count": null,
            "_view_module": "@jupyter-widgets/base",
            "_view_module_version": "1.2.0",
            "_view_name": "StyleView",
            "description_width": ""
          }
        },
        "8501c6adad38438bb4d4e52a2d8fc1b1": {
          "model_module": "@jupyter-widgets/base",
          "model_name": "LayoutModel",
          "model_module_version": "1.2.0",
          "state": {
            "_model_module": "@jupyter-widgets/base",
            "_model_module_version": "1.2.0",
            "_model_name": "LayoutModel",
            "_view_count": null,
            "_view_module": "@jupyter-widgets/base",
            "_view_module_version": "1.2.0",
            "_view_name": "LayoutView",
            "align_content": null,
            "align_items": null,
            "align_self": null,
            "border": null,
            "bottom": null,
            "display": null,
            "flex": null,
            "flex_flow": null,
            "grid_area": null,
            "grid_auto_columns": null,
            "grid_auto_flow": null,
            "grid_auto_rows": null,
            "grid_column": null,
            "grid_gap": null,
            "grid_row": null,
            "grid_template_areas": null,
            "grid_template_columns": null,
            "grid_template_rows": null,
            "height": null,
            "justify_content": null,
            "justify_items": null,
            "left": null,
            "margin": null,
            "max_height": null,
            "max_width": null,
            "min_height": null,
            "min_width": null,
            "object_fit": null,
            "object_position": null,
            "order": null,
            "overflow": null,
            "overflow_x": null,
            "overflow_y": null,
            "padding": null,
            "right": null,
            "top": null,
            "visibility": null,
            "width": null
          }
        },
        "c6329508b08f4f9badb20c73f000390d": {
          "model_module": "@jupyter-widgets/controls",
          "model_name": "ProgressStyleModel",
          "model_module_version": "1.5.0",
          "state": {
            "_model_module": "@jupyter-widgets/controls",
            "_model_module_version": "1.5.0",
            "_model_name": "ProgressStyleModel",
            "_view_count": null,
            "_view_module": "@jupyter-widgets/base",
            "_view_module_version": "1.2.0",
            "_view_name": "StyleView",
            "bar_color": null,
            "description_width": ""
          }
        },
        "3569e80bec7e4101bd26921c104fa2b7": {
          "model_module": "@jupyter-widgets/base",
          "model_name": "LayoutModel",
          "model_module_version": "1.2.0",
          "state": {
            "_model_module": "@jupyter-widgets/base",
            "_model_module_version": "1.2.0",
            "_model_name": "LayoutModel",
            "_view_count": null,
            "_view_module": "@jupyter-widgets/base",
            "_view_module_version": "1.2.0",
            "_view_name": "LayoutView",
            "align_content": null,
            "align_items": null,
            "align_self": null,
            "border": null,
            "bottom": null,
            "display": null,
            "flex": null,
            "flex_flow": null,
            "grid_area": null,
            "grid_auto_columns": null,
            "grid_auto_flow": null,
            "grid_auto_rows": null,
            "grid_column": null,
            "grid_gap": null,
            "grid_row": null,
            "grid_template_areas": null,
            "grid_template_columns": null,
            "grid_template_rows": null,
            "height": null,
            "justify_content": null,
            "justify_items": null,
            "left": null,
            "margin": null,
            "max_height": null,
            "max_width": null,
            "min_height": null,
            "min_width": null,
            "object_fit": null,
            "object_position": null,
            "order": null,
            "overflow": null,
            "overflow_x": null,
            "overflow_y": null,
            "padding": null,
            "right": null,
            "top": null,
            "visibility": null,
            "width": null
          }
        },
        "975d7bdfab414fb2afea8292727baf82": {
          "model_module": "@jupyter-widgets/controls",
          "model_name": "DescriptionStyleModel",
          "model_module_version": "1.5.0",
          "state": {
            "_model_module": "@jupyter-widgets/controls",
            "_model_module_version": "1.5.0",
            "_model_name": "DescriptionStyleModel",
            "_view_count": null,
            "_view_module": "@jupyter-widgets/base",
            "_view_module_version": "1.2.0",
            "_view_name": "StyleView",
            "description_width": ""
          }
        },
        "e0e473a164a64c269a3d093aa76f6ae7": {
          "model_module": "@jupyter-widgets/controls",
          "model_name": "HBoxModel",
          "model_module_version": "1.5.0",
          "state": {
            "_dom_classes": [],
            "_model_module": "@jupyter-widgets/controls",
            "_model_module_version": "1.5.0",
            "_model_name": "HBoxModel",
            "_view_count": null,
            "_view_module": "@jupyter-widgets/controls",
            "_view_module_version": "1.5.0",
            "_view_name": "HBoxView",
            "box_style": "",
            "children": [
              "IPY_MODEL_0d708e8bb45341c28384abcf1d9561b2",
              "IPY_MODEL_f1b202921ba843a08d42f4f62e48a3f2",
              "IPY_MODEL_a1c67f0882474812a09d95b3c2fc05a6"
            ],
            "layout": "IPY_MODEL_90562b5aa4ba48da8a61cedb39063d4d"
          }
        },
        "0d708e8bb45341c28384abcf1d9561b2": {
          "model_module": "@jupyter-widgets/controls",
          "model_name": "HTMLModel",
          "model_module_version": "1.5.0",
          "state": {
            "_dom_classes": [],
            "_model_module": "@jupyter-widgets/controls",
            "_model_module_version": "1.5.0",
            "_model_name": "HTMLModel",
            "_view_count": null,
            "_view_module": "@jupyter-widgets/controls",
            "_view_module_version": "1.5.0",
            "_view_name": "HTMLView",
            "description": "",
            "description_tooltip": null,
            "layout": "IPY_MODEL_8a23058372444272bf25132f1fb85a66",
            "placeholder": "​",
            "style": "IPY_MODEL_fbd4b70c613c442fb55c546b662907ed",
            "value": "Downloading merges.txt: 100%"
          }
        },
        "f1b202921ba843a08d42f4f62e48a3f2": {
          "model_module": "@jupyter-widgets/controls",
          "model_name": "FloatProgressModel",
          "model_module_version": "1.5.0",
          "state": {
            "_dom_classes": [],
            "_model_module": "@jupyter-widgets/controls",
            "_model_module_version": "1.5.0",
            "_model_name": "FloatProgressModel",
            "_view_count": null,
            "_view_module": "@jupyter-widgets/controls",
            "_view_module_version": "1.5.0",
            "_view_name": "ProgressView",
            "bar_style": "success",
            "description": "",
            "description_tooltip": null,
            "layout": "IPY_MODEL_fc42224ffa85456da8da5ae1e14eff0f",
            "max": 456318,
            "min": 0,
            "orientation": "horizontal",
            "style": "IPY_MODEL_fb972e05cff44cf2944f40fec8e297d9",
            "value": 456318
          }
        },
        "a1c67f0882474812a09d95b3c2fc05a6": {
          "model_module": "@jupyter-widgets/controls",
          "model_name": "HTMLModel",
          "model_module_version": "1.5.0",
          "state": {
            "_dom_classes": [],
            "_model_module": "@jupyter-widgets/controls",
            "_model_module_version": "1.5.0",
            "_model_name": "HTMLModel",
            "_view_count": null,
            "_view_module": "@jupyter-widgets/controls",
            "_view_module_version": "1.5.0",
            "_view_name": "HTMLView",
            "description": "",
            "description_tooltip": null,
            "layout": "IPY_MODEL_286e3c753cb9438bb1a28368f62938e2",
            "placeholder": "​",
            "style": "IPY_MODEL_52c7b9aef2fd44cb907b8046b42f1e6c",
            "value": " 446k/446k [00:00&lt;00:00, 428kB/s]"
          }
        },
        "90562b5aa4ba48da8a61cedb39063d4d": {
          "model_module": "@jupyter-widgets/base",
          "model_name": "LayoutModel",
          "model_module_version": "1.2.0",
          "state": {
            "_model_module": "@jupyter-widgets/base",
            "_model_module_version": "1.2.0",
            "_model_name": "LayoutModel",
            "_view_count": null,
            "_view_module": "@jupyter-widgets/base",
            "_view_module_version": "1.2.0",
            "_view_name": "LayoutView",
            "align_content": null,
            "align_items": null,
            "align_self": null,
            "border": null,
            "bottom": null,
            "display": null,
            "flex": null,
            "flex_flow": null,
            "grid_area": null,
            "grid_auto_columns": null,
            "grid_auto_flow": null,
            "grid_auto_rows": null,
            "grid_column": null,
            "grid_gap": null,
            "grid_row": null,
            "grid_template_areas": null,
            "grid_template_columns": null,
            "grid_template_rows": null,
            "height": null,
            "justify_content": null,
            "justify_items": null,
            "left": null,
            "margin": null,
            "max_height": null,
            "max_width": null,
            "min_height": null,
            "min_width": null,
            "object_fit": null,
            "object_position": null,
            "order": null,
            "overflow": null,
            "overflow_x": null,
            "overflow_y": null,
            "padding": null,
            "right": null,
            "top": null,
            "visibility": null,
            "width": null
          }
        },
        "8a23058372444272bf25132f1fb85a66": {
          "model_module": "@jupyter-widgets/base",
          "model_name": "LayoutModel",
          "model_module_version": "1.2.0",
          "state": {
            "_model_module": "@jupyter-widgets/base",
            "_model_module_version": "1.2.0",
            "_model_name": "LayoutModel",
            "_view_count": null,
            "_view_module": "@jupyter-widgets/base",
            "_view_module_version": "1.2.0",
            "_view_name": "LayoutView",
            "align_content": null,
            "align_items": null,
            "align_self": null,
            "border": null,
            "bottom": null,
            "display": null,
            "flex": null,
            "flex_flow": null,
            "grid_area": null,
            "grid_auto_columns": null,
            "grid_auto_flow": null,
            "grid_auto_rows": null,
            "grid_column": null,
            "grid_gap": null,
            "grid_row": null,
            "grid_template_areas": null,
            "grid_template_columns": null,
            "grid_template_rows": null,
            "height": null,
            "justify_content": null,
            "justify_items": null,
            "left": null,
            "margin": null,
            "max_height": null,
            "max_width": null,
            "min_height": null,
            "min_width": null,
            "object_fit": null,
            "object_position": null,
            "order": null,
            "overflow": null,
            "overflow_x": null,
            "overflow_y": null,
            "padding": null,
            "right": null,
            "top": null,
            "visibility": null,
            "width": null
          }
        },
        "fbd4b70c613c442fb55c546b662907ed": {
          "model_module": "@jupyter-widgets/controls",
          "model_name": "DescriptionStyleModel",
          "model_module_version": "1.5.0",
          "state": {
            "_model_module": "@jupyter-widgets/controls",
            "_model_module_version": "1.5.0",
            "_model_name": "DescriptionStyleModel",
            "_view_count": null,
            "_view_module": "@jupyter-widgets/base",
            "_view_module_version": "1.2.0",
            "_view_name": "StyleView",
            "description_width": ""
          }
        },
        "fc42224ffa85456da8da5ae1e14eff0f": {
          "model_module": "@jupyter-widgets/base",
          "model_name": "LayoutModel",
          "model_module_version": "1.2.0",
          "state": {
            "_model_module": "@jupyter-widgets/base",
            "_model_module_version": "1.2.0",
            "_model_name": "LayoutModel",
            "_view_count": null,
            "_view_module": "@jupyter-widgets/base",
            "_view_module_version": "1.2.0",
            "_view_name": "LayoutView",
            "align_content": null,
            "align_items": null,
            "align_self": null,
            "border": null,
            "bottom": null,
            "display": null,
            "flex": null,
            "flex_flow": null,
            "grid_area": null,
            "grid_auto_columns": null,
            "grid_auto_flow": null,
            "grid_auto_rows": null,
            "grid_column": null,
            "grid_gap": null,
            "grid_row": null,
            "grid_template_areas": null,
            "grid_template_columns": null,
            "grid_template_rows": null,
            "height": null,
            "justify_content": null,
            "justify_items": null,
            "left": null,
            "margin": null,
            "max_height": null,
            "max_width": null,
            "min_height": null,
            "min_width": null,
            "object_fit": null,
            "object_position": null,
            "order": null,
            "overflow": null,
            "overflow_x": null,
            "overflow_y": null,
            "padding": null,
            "right": null,
            "top": null,
            "visibility": null,
            "width": null
          }
        },
        "fb972e05cff44cf2944f40fec8e297d9": {
          "model_module": "@jupyter-widgets/controls",
          "model_name": "ProgressStyleModel",
          "model_module_version": "1.5.0",
          "state": {
            "_model_module": "@jupyter-widgets/controls",
            "_model_module_version": "1.5.0",
            "_model_name": "ProgressStyleModel",
            "_view_count": null,
            "_view_module": "@jupyter-widgets/base",
            "_view_module_version": "1.2.0",
            "_view_name": "StyleView",
            "bar_color": null,
            "description_width": ""
          }
        },
        "286e3c753cb9438bb1a28368f62938e2": {
          "model_module": "@jupyter-widgets/base",
          "model_name": "LayoutModel",
          "model_module_version": "1.2.0",
          "state": {
            "_model_module": "@jupyter-widgets/base",
            "_model_module_version": "1.2.0",
            "_model_name": "LayoutModel",
            "_view_count": null,
            "_view_module": "@jupyter-widgets/base",
            "_view_module_version": "1.2.0",
            "_view_name": "LayoutView",
            "align_content": null,
            "align_items": null,
            "align_self": null,
            "border": null,
            "bottom": null,
            "display": null,
            "flex": null,
            "flex_flow": null,
            "grid_area": null,
            "grid_auto_columns": null,
            "grid_auto_flow": null,
            "grid_auto_rows": null,
            "grid_column": null,
            "grid_gap": null,
            "grid_row": null,
            "grid_template_areas": null,
            "grid_template_columns": null,
            "grid_template_rows": null,
            "height": null,
            "justify_content": null,
            "justify_items": null,
            "left": null,
            "margin": null,
            "max_height": null,
            "max_width": null,
            "min_height": null,
            "min_width": null,
            "object_fit": null,
            "object_position": null,
            "order": null,
            "overflow": null,
            "overflow_x": null,
            "overflow_y": null,
            "padding": null,
            "right": null,
            "top": null,
            "visibility": null,
            "width": null
          }
        },
        "52c7b9aef2fd44cb907b8046b42f1e6c": {
          "model_module": "@jupyter-widgets/controls",
          "model_name": "DescriptionStyleModel",
          "model_module_version": "1.5.0",
          "state": {
            "_model_module": "@jupyter-widgets/controls",
            "_model_module_version": "1.5.0",
            "_model_name": "DescriptionStyleModel",
            "_view_count": null,
            "_view_module": "@jupyter-widgets/base",
            "_view_module_version": "1.2.0",
            "_view_name": "StyleView",
            "description_width": ""
          }
        },
        "ab959eda9bbb4d18b0eff8b7fdccbe2b": {
          "model_module": "@jupyter-widgets/controls",
          "model_name": "HBoxModel",
          "model_module_version": "1.5.0",
          "state": {
            "_dom_classes": [],
            "_model_module": "@jupyter-widgets/controls",
            "_model_module_version": "1.5.0",
            "_model_name": "HBoxModel",
            "_view_count": null,
            "_view_module": "@jupyter-widgets/controls",
            "_view_module_version": "1.5.0",
            "_view_name": "HBoxView",
            "box_style": "",
            "children": [
              "IPY_MODEL_8bd72caea6f847309e38703f5a8c4e2f",
              "IPY_MODEL_bdba50495a0041bebc7f6104b8b6d9a1",
              "IPY_MODEL_75c382cf329b44029c411ce707136c6e"
            ],
            "layout": "IPY_MODEL_61db7ebb91354b2a8fa108d22f727b89"
          }
        },
        "8bd72caea6f847309e38703f5a8c4e2f": {
          "model_module": "@jupyter-widgets/controls",
          "model_name": "HTMLModel",
          "model_module_version": "1.5.0",
          "state": {
            "_dom_classes": [],
            "_model_module": "@jupyter-widgets/controls",
            "_model_module_version": "1.5.0",
            "_model_name": "HTMLModel",
            "_view_count": null,
            "_view_module": "@jupyter-widgets/controls",
            "_view_module_version": "1.5.0",
            "_view_name": "HTMLView",
            "description": "",
            "description_tooltip": null,
            "layout": "IPY_MODEL_ad319f8fd9d74f5ead0785c52dde5506",
            "placeholder": "​",
            "style": "IPY_MODEL_b55d59d7539449d89c7bb67fd900fea1",
            "value": "Downloading tokenizer.json: 100%"
          }
        },
        "bdba50495a0041bebc7f6104b8b6d9a1": {
          "model_module": "@jupyter-widgets/controls",
          "model_name": "FloatProgressModel",
          "model_module_version": "1.5.0",
          "state": {
            "_dom_classes": [],
            "_model_module": "@jupyter-widgets/controls",
            "_model_module_version": "1.5.0",
            "_model_name": "FloatProgressModel",
            "_view_count": null,
            "_view_module": "@jupyter-widgets/controls",
            "_view_module_version": "1.5.0",
            "_view_name": "ProgressView",
            "bar_style": "success",
            "description": "",
            "description_tooltip": null,
            "layout": "IPY_MODEL_fe8f8f3df0fa4f4cb39a43091e55876d",
            "max": 1355863,
            "min": 0,
            "orientation": "horizontal",
            "style": "IPY_MODEL_cb8f27495b2e460cbf65a3f4588edfe3",
            "value": 1355863
          }
        },
        "75c382cf329b44029c411ce707136c6e": {
          "model_module": "@jupyter-widgets/controls",
          "model_name": "HTMLModel",
          "model_module_version": "1.5.0",
          "state": {
            "_dom_classes": [],
            "_model_module": "@jupyter-widgets/controls",
            "_model_module_version": "1.5.0",
            "_model_name": "HTMLModel",
            "_view_count": null,
            "_view_module": "@jupyter-widgets/controls",
            "_view_module_version": "1.5.0",
            "_view_name": "HTMLView",
            "description": "",
            "description_tooltip": null,
            "layout": "IPY_MODEL_910369ba84ac49fbbe1634f0189d480e",
            "placeholder": "​",
            "style": "IPY_MODEL_a21fcfb6be7f49c2a979fabf60b1e3b7",
            "value": " 1.29M/1.29M [00:01&lt;00:00, 1.09MB/s]"
          }
        },
        "61db7ebb91354b2a8fa108d22f727b89": {
          "model_module": "@jupyter-widgets/base",
          "model_name": "LayoutModel",
          "model_module_version": "1.2.0",
          "state": {
            "_model_module": "@jupyter-widgets/base",
            "_model_module_version": "1.2.0",
            "_model_name": "LayoutModel",
            "_view_count": null,
            "_view_module": "@jupyter-widgets/base",
            "_view_module_version": "1.2.0",
            "_view_name": "LayoutView",
            "align_content": null,
            "align_items": null,
            "align_self": null,
            "border": null,
            "bottom": null,
            "display": null,
            "flex": null,
            "flex_flow": null,
            "grid_area": null,
            "grid_auto_columns": null,
            "grid_auto_flow": null,
            "grid_auto_rows": null,
            "grid_column": null,
            "grid_gap": null,
            "grid_row": null,
            "grid_template_areas": null,
            "grid_template_columns": null,
            "grid_template_rows": null,
            "height": null,
            "justify_content": null,
            "justify_items": null,
            "left": null,
            "margin": null,
            "max_height": null,
            "max_width": null,
            "min_height": null,
            "min_width": null,
            "object_fit": null,
            "object_position": null,
            "order": null,
            "overflow": null,
            "overflow_x": null,
            "overflow_y": null,
            "padding": null,
            "right": null,
            "top": null,
            "visibility": null,
            "width": null
          }
        },
        "ad319f8fd9d74f5ead0785c52dde5506": {
          "model_module": "@jupyter-widgets/base",
          "model_name": "LayoutModel",
          "model_module_version": "1.2.0",
          "state": {
            "_model_module": "@jupyter-widgets/base",
            "_model_module_version": "1.2.0",
            "_model_name": "LayoutModel",
            "_view_count": null,
            "_view_module": "@jupyter-widgets/base",
            "_view_module_version": "1.2.0",
            "_view_name": "LayoutView",
            "align_content": null,
            "align_items": null,
            "align_self": null,
            "border": null,
            "bottom": null,
            "display": null,
            "flex": null,
            "flex_flow": null,
            "grid_area": null,
            "grid_auto_columns": null,
            "grid_auto_flow": null,
            "grid_auto_rows": null,
            "grid_column": null,
            "grid_gap": null,
            "grid_row": null,
            "grid_template_areas": null,
            "grid_template_columns": null,
            "grid_template_rows": null,
            "height": null,
            "justify_content": null,
            "justify_items": null,
            "left": null,
            "margin": null,
            "max_height": null,
            "max_width": null,
            "min_height": null,
            "min_width": null,
            "object_fit": null,
            "object_position": null,
            "order": null,
            "overflow": null,
            "overflow_x": null,
            "overflow_y": null,
            "padding": null,
            "right": null,
            "top": null,
            "visibility": null,
            "width": null
          }
        },
        "b55d59d7539449d89c7bb67fd900fea1": {
          "model_module": "@jupyter-widgets/controls",
          "model_name": "DescriptionStyleModel",
          "model_module_version": "1.5.0",
          "state": {
            "_model_module": "@jupyter-widgets/controls",
            "_model_module_version": "1.5.0",
            "_model_name": "DescriptionStyleModel",
            "_view_count": null,
            "_view_module": "@jupyter-widgets/base",
            "_view_module_version": "1.2.0",
            "_view_name": "StyleView",
            "description_width": ""
          }
        },
        "fe8f8f3df0fa4f4cb39a43091e55876d": {
          "model_module": "@jupyter-widgets/base",
          "model_name": "LayoutModel",
          "model_module_version": "1.2.0",
          "state": {
            "_model_module": "@jupyter-widgets/base",
            "_model_module_version": "1.2.0",
            "_model_name": "LayoutModel",
            "_view_count": null,
            "_view_module": "@jupyter-widgets/base",
            "_view_module_version": "1.2.0",
            "_view_name": "LayoutView",
            "align_content": null,
            "align_items": null,
            "align_self": null,
            "border": null,
            "bottom": null,
            "display": null,
            "flex": null,
            "flex_flow": null,
            "grid_area": null,
            "grid_auto_columns": null,
            "grid_auto_flow": null,
            "grid_auto_rows": null,
            "grid_column": null,
            "grid_gap": null,
            "grid_row": null,
            "grid_template_areas": null,
            "grid_template_columns": null,
            "grid_template_rows": null,
            "height": null,
            "justify_content": null,
            "justify_items": null,
            "left": null,
            "margin": null,
            "max_height": null,
            "max_width": null,
            "min_height": null,
            "min_width": null,
            "object_fit": null,
            "object_position": null,
            "order": null,
            "overflow": null,
            "overflow_x": null,
            "overflow_y": null,
            "padding": null,
            "right": null,
            "top": null,
            "visibility": null,
            "width": null
          }
        },
        "cb8f27495b2e460cbf65a3f4588edfe3": {
          "model_module": "@jupyter-widgets/controls",
          "model_name": "ProgressStyleModel",
          "model_module_version": "1.5.0",
          "state": {
            "_model_module": "@jupyter-widgets/controls",
            "_model_module_version": "1.5.0",
            "_model_name": "ProgressStyleModel",
            "_view_count": null,
            "_view_module": "@jupyter-widgets/base",
            "_view_module_version": "1.2.0",
            "_view_name": "StyleView",
            "bar_color": null,
            "description_width": ""
          }
        },
        "910369ba84ac49fbbe1634f0189d480e": {
          "model_module": "@jupyter-widgets/base",
          "model_name": "LayoutModel",
          "model_module_version": "1.2.0",
          "state": {
            "_model_module": "@jupyter-widgets/base",
            "_model_module_version": "1.2.0",
            "_model_name": "LayoutModel",
            "_view_count": null,
            "_view_module": "@jupyter-widgets/base",
            "_view_module_version": "1.2.0",
            "_view_name": "LayoutView",
            "align_content": null,
            "align_items": null,
            "align_self": null,
            "border": null,
            "bottom": null,
            "display": null,
            "flex": null,
            "flex_flow": null,
            "grid_area": null,
            "grid_auto_columns": null,
            "grid_auto_flow": null,
            "grid_auto_rows": null,
            "grid_column": null,
            "grid_gap": null,
            "grid_row": null,
            "grid_template_areas": null,
            "grid_template_columns": null,
            "grid_template_rows": null,
            "height": null,
            "justify_content": null,
            "justify_items": null,
            "left": null,
            "margin": null,
            "max_height": null,
            "max_width": null,
            "min_height": null,
            "min_width": null,
            "object_fit": null,
            "object_position": null,
            "order": null,
            "overflow": null,
            "overflow_x": null,
            "overflow_y": null,
            "padding": null,
            "right": null,
            "top": null,
            "visibility": null,
            "width": null
          }
        },
        "a21fcfb6be7f49c2a979fabf60b1e3b7": {
          "model_module": "@jupyter-widgets/controls",
          "model_name": "DescriptionStyleModel",
          "model_module_version": "1.5.0",
          "state": {
            "_model_module": "@jupyter-widgets/controls",
            "_model_module_version": "1.5.0",
            "_model_name": "DescriptionStyleModel",
            "_view_count": null,
            "_view_module": "@jupyter-widgets/base",
            "_view_module_version": "1.2.0",
            "_view_name": "StyleView",
            "description_width": ""
          }
        },
        "3b879a41eced425eb407ee3ea79dbf52": {
          "model_module": "@jupyter-widgets/controls",
          "model_name": "HBoxModel",
          "model_module_version": "1.5.0",
          "state": {
            "_dom_classes": [],
            "_model_module": "@jupyter-widgets/controls",
            "_model_module_version": "1.5.0",
            "_model_name": "HBoxModel",
            "_view_count": null,
            "_view_module": "@jupyter-widgets/controls",
            "_view_module_version": "1.5.0",
            "_view_name": "HBoxView",
            "box_style": "",
            "children": [
              "IPY_MODEL_8b16db45509546bbb1c881b9302134d1",
              "IPY_MODEL_f225b4c2d60344a09acb6abf700f1da2",
              "IPY_MODEL_5313387c719b499090f404b4a56a0ebe"
            ],
            "layout": "IPY_MODEL_82407c0356364f519461e7e08ab89ad7"
          }
        },
        "8b16db45509546bbb1c881b9302134d1": {
          "model_module": "@jupyter-widgets/controls",
          "model_name": "HTMLModel",
          "model_module_version": "1.5.0",
          "state": {
            "_dom_classes": [],
            "_model_module": "@jupyter-widgets/controls",
            "_model_module_version": "1.5.0",
            "_model_name": "HTMLModel",
            "_view_count": null,
            "_view_module": "@jupyter-widgets/controls",
            "_view_module_version": "1.5.0",
            "_view_name": "HTMLView",
            "description": "",
            "description_tooltip": null,
            "layout": "IPY_MODEL_3009fdbfaa2d4473a841f76b07a6bbf7",
            "placeholder": "​",
            "style": "IPY_MODEL_2ac36ec0593846f9bfa7f8dd4a4c1eef",
            "value": "Downloading tf_model.h5: 100%"
          }
        },
        "f225b4c2d60344a09acb6abf700f1da2": {
          "model_module": "@jupyter-widgets/controls",
          "model_name": "FloatProgressModel",
          "model_module_version": "1.5.0",
          "state": {
            "_dom_classes": [],
            "_model_module": "@jupyter-widgets/controls",
            "_model_module_version": "1.5.0",
            "_model_name": "FloatProgressModel",
            "_view_count": null,
            "_view_module": "@jupyter-widgets/controls",
            "_view_module_version": "1.5.0",
            "_view_name": "ProgressView",
            "bar_style": "success",
            "description": "",
            "description_tooltip": null,
            "layout": "IPY_MODEL_91e1b029a76c4b20b1c7cb41419e72e2",
            "max": 657434796,
            "min": 0,
            "orientation": "horizontal",
            "style": "IPY_MODEL_da3bd5fb4c444c77991eb081b94fefe2",
            "value": 657434796
          }
        },
        "5313387c719b499090f404b4a56a0ebe": {
          "model_module": "@jupyter-widgets/controls",
          "model_name": "HTMLModel",
          "model_module_version": "1.5.0",
          "state": {
            "_dom_classes": [],
            "_model_module": "@jupyter-widgets/controls",
            "_model_module_version": "1.5.0",
            "_model_name": "HTMLModel",
            "_view_count": null,
            "_view_module": "@jupyter-widgets/controls",
            "_view_module_version": "1.5.0",
            "_view_name": "HTMLView",
            "description": "",
            "description_tooltip": null,
            "layout": "IPY_MODEL_208ac354f07047d9a0a2feb8211878dd",
            "placeholder": "​",
            "style": "IPY_MODEL_9c1342dba0e04ce88e4e5a58f8a59911",
            "value": " 627M/627M [00:11&lt;00:00, 65.0MB/s]"
          }
        },
        "82407c0356364f519461e7e08ab89ad7": {
          "model_module": "@jupyter-widgets/base",
          "model_name": "LayoutModel",
          "model_module_version": "1.2.0",
          "state": {
            "_model_module": "@jupyter-widgets/base",
            "_model_module_version": "1.2.0",
            "_model_name": "LayoutModel",
            "_view_count": null,
            "_view_module": "@jupyter-widgets/base",
            "_view_module_version": "1.2.0",
            "_view_name": "LayoutView",
            "align_content": null,
            "align_items": null,
            "align_self": null,
            "border": null,
            "bottom": null,
            "display": null,
            "flex": null,
            "flex_flow": null,
            "grid_area": null,
            "grid_auto_columns": null,
            "grid_auto_flow": null,
            "grid_auto_rows": null,
            "grid_column": null,
            "grid_gap": null,
            "grid_row": null,
            "grid_template_areas": null,
            "grid_template_columns": null,
            "grid_template_rows": null,
            "height": null,
            "justify_content": null,
            "justify_items": null,
            "left": null,
            "margin": null,
            "max_height": null,
            "max_width": null,
            "min_height": null,
            "min_width": null,
            "object_fit": null,
            "object_position": null,
            "order": null,
            "overflow": null,
            "overflow_x": null,
            "overflow_y": null,
            "padding": null,
            "right": null,
            "top": null,
            "visibility": null,
            "width": null
          }
        },
        "3009fdbfaa2d4473a841f76b07a6bbf7": {
          "model_module": "@jupyter-widgets/base",
          "model_name": "LayoutModel",
          "model_module_version": "1.2.0",
          "state": {
            "_model_module": "@jupyter-widgets/base",
            "_model_module_version": "1.2.0",
            "_model_name": "LayoutModel",
            "_view_count": null,
            "_view_module": "@jupyter-widgets/base",
            "_view_module_version": "1.2.0",
            "_view_name": "LayoutView",
            "align_content": null,
            "align_items": null,
            "align_self": null,
            "border": null,
            "bottom": null,
            "display": null,
            "flex": null,
            "flex_flow": null,
            "grid_area": null,
            "grid_auto_columns": null,
            "grid_auto_flow": null,
            "grid_auto_rows": null,
            "grid_column": null,
            "grid_gap": null,
            "grid_row": null,
            "grid_template_areas": null,
            "grid_template_columns": null,
            "grid_template_rows": null,
            "height": null,
            "justify_content": null,
            "justify_items": null,
            "left": null,
            "margin": null,
            "max_height": null,
            "max_width": null,
            "min_height": null,
            "min_width": null,
            "object_fit": null,
            "object_position": null,
            "order": null,
            "overflow": null,
            "overflow_x": null,
            "overflow_y": null,
            "padding": null,
            "right": null,
            "top": null,
            "visibility": null,
            "width": null
          }
        },
        "2ac36ec0593846f9bfa7f8dd4a4c1eef": {
          "model_module": "@jupyter-widgets/controls",
          "model_name": "DescriptionStyleModel",
          "model_module_version": "1.5.0",
          "state": {
            "_model_module": "@jupyter-widgets/controls",
            "_model_module_version": "1.5.0",
            "_model_name": "DescriptionStyleModel",
            "_view_count": null,
            "_view_module": "@jupyter-widgets/base",
            "_view_module_version": "1.2.0",
            "_view_name": "StyleView",
            "description_width": ""
          }
        },
        "91e1b029a76c4b20b1c7cb41419e72e2": {
          "model_module": "@jupyter-widgets/base",
          "model_name": "LayoutModel",
          "model_module_version": "1.2.0",
          "state": {
            "_model_module": "@jupyter-widgets/base",
            "_model_module_version": "1.2.0",
            "_model_name": "LayoutModel",
            "_view_count": null,
            "_view_module": "@jupyter-widgets/base",
            "_view_module_version": "1.2.0",
            "_view_name": "LayoutView",
            "align_content": null,
            "align_items": null,
            "align_self": null,
            "border": null,
            "bottom": null,
            "display": null,
            "flex": null,
            "flex_flow": null,
            "grid_area": null,
            "grid_auto_columns": null,
            "grid_auto_flow": null,
            "grid_auto_rows": null,
            "grid_column": null,
            "grid_gap": null,
            "grid_row": null,
            "grid_template_areas": null,
            "grid_template_columns": null,
            "grid_template_rows": null,
            "height": null,
            "justify_content": null,
            "justify_items": null,
            "left": null,
            "margin": null,
            "max_height": null,
            "max_width": null,
            "min_height": null,
            "min_width": null,
            "object_fit": null,
            "object_position": null,
            "order": null,
            "overflow": null,
            "overflow_x": null,
            "overflow_y": null,
            "padding": null,
            "right": null,
            "top": null,
            "visibility": null,
            "width": null
          }
        },
        "da3bd5fb4c444c77991eb081b94fefe2": {
          "model_module": "@jupyter-widgets/controls",
          "model_name": "ProgressStyleModel",
          "model_module_version": "1.5.0",
          "state": {
            "_model_module": "@jupyter-widgets/controls",
            "_model_module_version": "1.5.0",
            "_model_name": "ProgressStyleModel",
            "_view_count": null,
            "_view_module": "@jupyter-widgets/base",
            "_view_module_version": "1.2.0",
            "_view_name": "StyleView",
            "bar_color": null,
            "description_width": ""
          }
        },
        "208ac354f07047d9a0a2feb8211878dd": {
          "model_module": "@jupyter-widgets/base",
          "model_name": "LayoutModel",
          "model_module_version": "1.2.0",
          "state": {
            "_model_module": "@jupyter-widgets/base",
            "_model_module_version": "1.2.0",
            "_model_name": "LayoutModel",
            "_view_count": null,
            "_view_module": "@jupyter-widgets/base",
            "_view_module_version": "1.2.0",
            "_view_name": "LayoutView",
            "align_content": null,
            "align_items": null,
            "align_self": null,
            "border": null,
            "bottom": null,
            "display": null,
            "flex": null,
            "flex_flow": null,
            "grid_area": null,
            "grid_auto_columns": null,
            "grid_auto_flow": null,
            "grid_auto_rows": null,
            "grid_column": null,
            "grid_gap": null,
            "grid_row": null,
            "grid_template_areas": null,
            "grid_template_columns": null,
            "grid_template_rows": null,
            "height": null,
            "justify_content": null,
            "justify_items": null,
            "left": null,
            "margin": null,
            "max_height": null,
            "max_width": null,
            "min_height": null,
            "min_width": null,
            "object_fit": null,
            "object_position": null,
            "order": null,
            "overflow": null,
            "overflow_x": null,
            "overflow_y": null,
            "padding": null,
            "right": null,
            "top": null,
            "visibility": null,
            "width": null
          }
        },
        "9c1342dba0e04ce88e4e5a58f8a59911": {
          "model_module": "@jupyter-widgets/controls",
          "model_name": "DescriptionStyleModel",
          "model_module_version": "1.5.0",
          "state": {
            "_model_module": "@jupyter-widgets/controls",
            "_model_module_version": "1.5.0",
            "_model_name": "DescriptionStyleModel",
            "_view_count": null,
            "_view_module": "@jupyter-widgets/base",
            "_view_module_version": "1.2.0",
            "_view_name": "StyleView",
            "description_width": ""
          }
        }
      }
    }
  },
  "nbformat": 4,
  "nbformat_minor": 0
}
